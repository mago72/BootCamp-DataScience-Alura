{
 "cells": [
  {
   "cell_type": "markdown",
   "metadata": {},
   "source": [
    "***\n",
    "***\n",
    "***"
   ]
  },
  {
   "cell_type": "markdown",
   "metadata": {
    "tags": []
   },
   "source": [
    "# BootCamp em Ciência de Dados 2 - Alura\n",
    "Márcio Augusto Silva Gonçalves - marcius72@gmail.com - https://github.com/mago72\n",
    "***\n",
    "***"
   ]
  },
  {
   "cell_type": "markdown",
   "metadata": {
    "heading_collapsed": "true",
    "tags": []
   },
   "source": [
    "## Parte do Módulo 1 necessária ao Módulo 2\n",
    "***\n",
    "***"
   ]
  },
  {
   "cell_type": "code",
   "execution_count": 1,
   "metadata": {},
   "outputs": [],
   "source": [
    "import pandas as pd\n",
    "import numpy as np\n",
    "import matplotlib\n",
    "matplotlib.use\n",
    "import matplotlib.pyplot as plt\n",
    "%matplotlib inline"
   ]
  },
  {
   "cell_type": "markdown",
   "metadata": {
    "tags": []
   },
   "source": [
    "***\n",
    "### Análise de gastos hospitalares por mês/ano de **ATENDIMENTO / INTERNAÇÃO** e Unidades da Federação(UF) no Brasil: Datasus de jan/2008 a mar/2021\n",
    "Com TabNet do DATASUS para baixar .CSV em http://www2.datasus.gov.br/DATASUS/index.php?area=0202&id=11633&VObj=http://tabnet.datasus.gov.br/cgi/deftohtm.exe?sih/cnv/qi"
   ]
  },
  {
   "cell_type": "code",
   "execution_count": 2,
   "metadata": {},
   "outputs": [],
   "source": [
    "import pandas as pd"
   ]
  },
  {
   "cell_type": "code",
   "execution_count": 3,
   "metadata": {},
   "outputs": [],
   "source": [
    "dados_sus = pd.read_csv('https://raw.githubusercontent.com/mago72/BootCamp-DataScience-Alura/main/Dados/datasus_internacao.csv', encoding='ISO-8859-1', skiprows=3, sep=';', skipfooter=12,\n",
    "                       thousands='.', decimal=',', engine='python')"
   ]
  },
  {
   "cell_type": "code",
   "execution_count": 4,
   "metadata": {},
   "outputs": [],
   "source": [
    "pd.options.display.float_format='{:.2f}'.format"
   ]
  },
  {
   "cell_type": "code",
   "execution_count": 5,
   "metadata": {},
   "outputs": [],
   "source": [
    "colunas_validas=dados_sus.mean().index"
   ]
  },
  {
   "cell_type": "code",
   "execution_count": 6,
   "metadata": {},
   "outputs": [],
   "source": [
    "colunas_validas = dados_sus.mean().index.tolist()   #transformando o índice em lista para poder manipular\n",
    "colunas_validas.insert(0, \"Unidade da Federação\") # 0 é a posição onde entra a coluna unidade da federação do DataFrame original"
   ]
  },
  {
   "cell_type": "code",
   "execution_count": 7,
   "metadata": {},
   "outputs": [],
   "source": [
    "validas = dados_sus[colunas_validas]"
   ]
  },
  {
   "cell_type": "code",
   "execution_count": 8,
   "metadata": {},
   "outputs": [],
   "source": [
    "validas = validas.set_index(\"Unidade da Federação\")"
   ]
  },
  {
   "cell_type": "code",
   "execution_count": 9,
   "metadata": {},
   "outputs": [
    {
     "data": {
      "text/html": [
       "<div>\n",
       "<style scoped>\n",
       "    .dataframe tbody tr th:only-of-type {\n",
       "        vertical-align: middle;\n",
       "    }\n",
       "\n",
       "    .dataframe tbody tr th {\n",
       "        vertical-align: top;\n",
       "    }\n",
       "\n",
       "    .dataframe thead th {\n",
       "        text-align: right;\n",
       "    }\n",
       "</style>\n",
       "<table border=\"1\" class=\"dataframe\">\n",
       "  <thead>\n",
       "    <tr style=\"text-align: right;\">\n",
       "      <th>Unidade da Federação</th>\n",
       "      <th>11 Rondônia</th>\n",
       "      <th>12 Acre</th>\n",
       "      <th>13 Amazonas</th>\n",
       "      <th>14 Roraima</th>\n",
       "      <th>15 Pará</th>\n",
       "      <th>16 Amapá</th>\n",
       "      <th>17 Tocantins</th>\n",
       "      <th>21 Maranhão</th>\n",
       "      <th>22 Piauí</th>\n",
       "      <th>23 Ceará</th>\n",
       "      <th>...</th>\n",
       "      <th>32 Espírito Santo</th>\n",
       "      <th>33 Rio de Janeiro</th>\n",
       "      <th>35 São Paulo</th>\n",
       "      <th>41 Paraná</th>\n",
       "      <th>42 Santa Catarina</th>\n",
       "      <th>43 Rio Grande do Sul</th>\n",
       "      <th>50 Mato Grosso do Sul</th>\n",
       "      <th>51 Mato Grosso</th>\n",
       "      <th>52 Goiás</th>\n",
       "      <th>53 Distrito Federal</th>\n",
       "    </tr>\n",
       "  </thead>\n",
       "  <tbody>\n",
       "    <tr>\n",
       "      <th>2007/Ago</th>\n",
       "      <td>4209.37</td>\n",
       "      <td>10470.07</td>\n",
       "      <td>35752.72</td>\n",
       "      <td>4785.91</td>\n",
       "      <td>181159.29</td>\n",
       "      <td>33672.74</td>\n",
       "      <td>4113.76</td>\n",
       "      <td>385330.18</td>\n",
       "      <td>220788.25</td>\n",
       "      <td>357904.65</td>\n",
       "      <td>...</td>\n",
       "      <td>57408.11</td>\n",
       "      <td>469469.34</td>\n",
       "      <td>1665349.90</td>\n",
       "      <td>554800.22</td>\n",
       "      <td>693955.05</td>\n",
       "      <td>1049252.33</td>\n",
       "      <td>199556.12</td>\n",
       "      <td>63562.50</td>\n",
       "      <td>179395.82</td>\n",
       "      <td>191951.47</td>\n",
       "    </tr>\n",
       "    <tr>\n",
       "      <th>2007/Set</th>\n",
       "      <td>16397.03</td>\n",
       "      <td>14001.71</td>\n",
       "      <td>45570.64</td>\n",
       "      <td>11858.63</td>\n",
       "      <td>433414.74</td>\n",
       "      <td>104822.98</td>\n",
       "      <td>76633.06</td>\n",
       "      <td>1018352.93</td>\n",
       "      <td>353468.67</td>\n",
       "      <td>572356.18</td>\n",
       "      <td>...</td>\n",
       "      <td>284224.80</td>\n",
       "      <td>921646.57</td>\n",
       "      <td>4434168.64</td>\n",
       "      <td>1431708.01</td>\n",
       "      <td>1092964.12</td>\n",
       "      <td>3182913.14</td>\n",
       "      <td>573675.41</td>\n",
       "      <td>232444.62</td>\n",
       "      <td>418053.58</td>\n",
       "      <td>769966.25</td>\n",
       "    </tr>\n",
       "    <tr>\n",
       "      <th>2007/Out</th>\n",
       "      <td>133645.19</td>\n",
       "      <td>86200.85</td>\n",
       "      <td>416012.30</td>\n",
       "      <td>43852.67</td>\n",
       "      <td>1893197.50</td>\n",
       "      <td>118378.28</td>\n",
       "      <td>343702.61</td>\n",
       "      <td>2277717.78</td>\n",
       "      <td>1078182.68</td>\n",
       "      <td>1865065.71</td>\n",
       "      <td>...</td>\n",
       "      <td>1152115.25</td>\n",
       "      <td>2994664.57</td>\n",
       "      <td>14577395.84</td>\n",
       "      <td>4630402.44</td>\n",
       "      <td>3562300.82</td>\n",
       "      <td>8571312.11</td>\n",
       "      <td>1069816.66</td>\n",
       "      <td>927219.59</td>\n",
       "      <td>1198730.25</td>\n",
       "      <td>2165619.56</td>\n",
       "    </tr>\n",
       "    <tr>\n",
       "      <th>2007/Nov</th>\n",
       "      <td>346912.84</td>\n",
       "      <td>301323.68</td>\n",
       "      <td>2020381.79</td>\n",
       "      <td>369328.51</td>\n",
       "      <td>5105406.44</td>\n",
       "      <td>226661.18</td>\n",
       "      <td>1068685.94</td>\n",
       "      <td>4334468.23</td>\n",
       "      <td>2406035.32</td>\n",
       "      <td>5131814.39</td>\n",
       "      <td>...</td>\n",
       "      <td>2296383.23</td>\n",
       "      <td>7250528.08</td>\n",
       "      <td>35032259.98</td>\n",
       "      <td>11120030.79</td>\n",
       "      <td>7578502.38</td>\n",
       "      <td>16592432.80</td>\n",
       "      <td>1995899.52</td>\n",
       "      <td>1740439.60</td>\n",
       "      <td>2712117.54</td>\n",
       "      <td>3813256.48</td>\n",
       "    </tr>\n",
       "    <tr>\n",
       "      <th>2007/Dez</th>\n",
       "      <td>711758.31</td>\n",
       "      <td>769612.36</td>\n",
       "      <td>5949408.99</td>\n",
       "      <td>470676.43</td>\n",
       "      <td>13162823.43</td>\n",
       "      <td>844019.90</td>\n",
       "      <td>3022200.87</td>\n",
       "      <td>8832514.85</td>\n",
       "      <td>4929772.93</td>\n",
       "      <td>10798042.86</td>\n",
       "      <td>...</td>\n",
       "      <td>5724199.54</td>\n",
       "      <td>13627123.27</td>\n",
       "      <td>76668547.41</td>\n",
       "      <td>28790722.87</td>\n",
       "      <td>14772555.10</td>\n",
       "      <td>30134255.70</td>\n",
       "      <td>4277979.14</td>\n",
       "      <td>5394225.43</td>\n",
       "      <td>9293914.78</td>\n",
       "      <td>7121965.42</td>\n",
       "    </tr>\n",
       "  </tbody>\n",
       "</table>\n",
       "<p>5 rows × 27 columns</p>\n",
       "</div>"
      ],
      "text/plain": [
       "Unidade da Federação  11 Rondônia   12 Acre  13 Amazonas  14 Roraima  \\\n",
       "2007/Ago                  4209.37  10470.07     35752.72     4785.91   \n",
       "2007/Set                 16397.03  14001.71     45570.64    11858.63   \n",
       "2007/Out                133645.19  86200.85    416012.30    43852.67   \n",
       "2007/Nov                346912.84 301323.68   2020381.79   369328.51   \n",
       "2007/Dez                711758.31 769612.36   5949408.99   470676.43   \n",
       "\n",
       "Unidade da Federação     15 Pará  16 Amapá  17 Tocantins  21 Maranhão  \\\n",
       "2007/Ago               181159.29  33672.74       4113.76    385330.18   \n",
       "2007/Set               433414.74 104822.98      76633.06   1018352.93   \n",
       "2007/Out              1893197.50 118378.28     343702.61   2277717.78   \n",
       "2007/Nov              5105406.44 226661.18    1068685.94   4334468.23   \n",
       "2007/Dez             13162823.43 844019.90    3022200.87   8832514.85   \n",
       "\n",
       "Unidade da Federação   22 Piauí    23 Ceará  ...  32 Espírito Santo  \\\n",
       "2007/Ago              220788.25   357904.65  ...           57408.11   \n",
       "2007/Set              353468.67   572356.18  ...          284224.80   \n",
       "2007/Out             1078182.68  1865065.71  ...         1152115.25   \n",
       "2007/Nov             2406035.32  5131814.39  ...         2296383.23   \n",
       "2007/Dez             4929772.93 10798042.86  ...         5724199.54   \n",
       "\n",
       "Unidade da Federação  33 Rio de Janeiro  35 São Paulo   41 Paraná  \\\n",
       "2007/Ago                      469469.34    1665349.90   554800.22   \n",
       "2007/Set                      921646.57    4434168.64  1431708.01   \n",
       "2007/Out                     2994664.57   14577395.84  4630402.44   \n",
       "2007/Nov                     7250528.08   35032259.98 11120030.79   \n",
       "2007/Dez                    13627123.27   76668547.41 28790722.87   \n",
       "\n",
       "Unidade da Federação  42 Santa Catarina  43 Rio Grande do Sul  \\\n",
       "2007/Ago                      693955.05            1049252.33   \n",
       "2007/Set                     1092964.12            3182913.14   \n",
       "2007/Out                     3562300.82            8571312.11   \n",
       "2007/Nov                     7578502.38           16592432.80   \n",
       "2007/Dez                    14772555.10           30134255.70   \n",
       "\n",
       "Unidade da Federação  50 Mato Grosso do Sul  51 Mato Grosso   52 Goiás  \\\n",
       "2007/Ago                          199556.12        63562.50  179395.82   \n",
       "2007/Set                          573675.41       232444.62  418053.58   \n",
       "2007/Out                         1069816.66       927219.59 1198730.25   \n",
       "2007/Nov                         1995899.52      1740439.60 2712117.54   \n",
       "2007/Dez                         4277979.14      5394225.43 9293914.78   \n",
       "\n",
       "Unidade da Federação  53 Distrito Federal  \n",
       "2007/Ago                        191951.47  \n",
       "2007/Set                        769966.25  \n",
       "2007/Out                       2165619.56  \n",
       "2007/Nov                       3813256.48  \n",
       "2007/Dez                       7121965.42  \n",
       "\n",
       "[5 rows x 27 columns]"
      ]
     },
     "execution_count": 9,
     "metadata": {},
     "output_type": "execute_result"
    }
   ],
   "source": [
    "validas.T.head()   # Função T para transpor o índice para as colunas e poder imprimir o gráfico corretamente"
   ]
  },
  {
   "cell_type": "code",
   "execution_count": 10,
   "metadata": {},
   "outputs": [],
   "source": [
    "validas = validas.drop(\"Total\", axis=1)    ## A função drop retira a linha Total e o axis=1 indica que o total está como Linha (axis=0 indicaria como coluna, se fosse o caso) "
   ]
  },
  {
   "cell_type": "code",
   "execution_count": 11,
   "metadata": {},
   "outputs": [],
   "source": [
    "validas['Total'] = validas.sum(axis=1)  ### Aqui atribuiu-se a uma nova coluna 'Total' ao DF especificando os valores dela sendo a soma das linhas . O Total aparece no final a direita. A atribuição por soma funcionou pq tem 27 valores, igual as linhas do data frame e é a soma de cada linha. Se tem alguma linha faltando, não funcionaria."
   ]
  },
  {
   "cell_type": "code",
   "execution_count": 12,
   "metadata": {},
   "outputs": [
    {
     "data": {
      "text/html": [
       "<div>\n",
       "<style scoped>\n",
       "    .dataframe tbody tr th:only-of-type {\n",
       "        vertical-align: middle;\n",
       "    }\n",
       "\n",
       "    .dataframe tbody tr th {\n",
       "        vertical-align: top;\n",
       "    }\n",
       "\n",
       "    .dataframe thead th {\n",
       "        text-align: right;\n",
       "    }\n",
       "</style>\n",
       "<table border=\"1\" class=\"dataframe\">\n",
       "  <thead>\n",
       "    <tr style=\"text-align: right;\">\n",
       "      <th></th>\n",
       "      <th>2007/Ago</th>\n",
       "      <th>2007/Set</th>\n",
       "      <th>2007/Out</th>\n",
       "      <th>2007/Nov</th>\n",
       "      <th>2007/Dez</th>\n",
       "      <th>2008/Jan</th>\n",
       "      <th>2008/Fev</th>\n",
       "      <th>2008/Mar</th>\n",
       "      <th>2008/Abr</th>\n",
       "      <th>2008/Mai</th>\n",
       "      <th>...</th>\n",
       "      <th>2020/Jul</th>\n",
       "      <th>2020/Ago</th>\n",
       "      <th>2020/Set</th>\n",
       "      <th>2020/Out</th>\n",
       "      <th>2020/Nov</th>\n",
       "      <th>2020/Dez</th>\n",
       "      <th>2021/Jan</th>\n",
       "      <th>2021/Fev</th>\n",
       "      <th>2021/Mar</th>\n",
       "      <th>Total</th>\n",
       "    </tr>\n",
       "    <tr>\n",
       "      <th>Unidade da Federação</th>\n",
       "      <th></th>\n",
       "      <th></th>\n",
       "      <th></th>\n",
       "      <th></th>\n",
       "      <th></th>\n",
       "      <th></th>\n",
       "      <th></th>\n",
       "      <th></th>\n",
       "      <th></th>\n",
       "      <th></th>\n",
       "      <th></th>\n",
       "      <th></th>\n",
       "      <th></th>\n",
       "      <th></th>\n",
       "      <th></th>\n",
       "      <th></th>\n",
       "      <th></th>\n",
       "      <th></th>\n",
       "      <th></th>\n",
       "      <th></th>\n",
       "      <th></th>\n",
       "    </tr>\n",
       "  </thead>\n",
       "  <tbody>\n",
       "    <tr>\n",
       "      <th>35 São Paulo</th>\n",
       "      <td>1665349.90</td>\n",
       "      <td>4434168.64</td>\n",
       "      <td>14577395.84</td>\n",
       "      <td>35032259.98</td>\n",
       "      <td>76668547.41</td>\n",
       "      <td>1038067423.15</td>\n",
       "      <td>172961999.58</td>\n",
       "      <td>170556696.16</td>\n",
       "      <td>170338163.23</td>\n",
       "      <td>172462057.87</td>\n",
       "      <td>...</td>\n",
       "      <td>361986896.25</td>\n",
       "      <td>350268671.25</td>\n",
       "      <td>338872478.49</td>\n",
       "      <td>328055822.63</td>\n",
       "      <td>324599773.40</td>\n",
       "      <td>326846228.95</td>\n",
       "      <td>324115425.70</td>\n",
       "      <td>268193064.06</td>\n",
       "      <td>177408317.71</td>\n",
       "      <td>41386533231.31</td>\n",
       "    </tr>\n",
       "    <tr>\n",
       "      <th>31 Minas Gerais</th>\n",
       "      <td>971394.37</td>\n",
       "      <td>2861781.50</td>\n",
       "      <td>10018011.35</td>\n",
       "      <td>21730281.63</td>\n",
       "      <td>43429517.54</td>\n",
       "      <td>206208080.90</td>\n",
       "      <td>70301089.50</td>\n",
       "      <td>79119005.51</td>\n",
       "      <td>79046322.41</td>\n",
       "      <td>79268070.12</td>\n",
       "      <td>...</td>\n",
       "      <td>177466638.10</td>\n",
       "      <td>182176122.99</td>\n",
       "      <td>181422500.43</td>\n",
       "      <td>174585638.28</td>\n",
       "      <td>168564708.16</td>\n",
       "      <td>166376967.67</td>\n",
       "      <td>155064483.25</td>\n",
       "      <td>119877417.15</td>\n",
       "      <td>79780838.00</td>\n",
       "      <td>20418205467.78</td>\n",
       "    </tr>\n",
       "    <tr>\n",
       "      <th>41 Paraná</th>\n",
       "      <td>554800.22</td>\n",
       "      <td>1431708.01</td>\n",
       "      <td>4630402.44</td>\n",
       "      <td>11120030.79</td>\n",
       "      <td>28790722.87</td>\n",
       "      <td>58081334.45</td>\n",
       "      <td>48855046.46</td>\n",
       "      <td>55611791.07</td>\n",
       "      <td>56115135.82</td>\n",
       "      <td>55574831.93</td>\n",
       "      <td>...</td>\n",
       "      <td>123856640.55</td>\n",
       "      <td>125089468.62</td>\n",
       "      <td>121771167.11</td>\n",
       "      <td>127506086.52</td>\n",
       "      <td>133443307.36</td>\n",
       "      <td>122146256.92</td>\n",
       "      <td>106948897.53</td>\n",
       "      <td>83130175.37</td>\n",
       "      <td>43480729.07</td>\n",
       "      <td>14681341476.16</td>\n",
       "    </tr>\n",
       "    <tr>\n",
       "      <th>43 Rio Grande do Sul</th>\n",
       "      <td>1049252.33</td>\n",
       "      <td>3182913.14</td>\n",
       "      <td>8571312.11</td>\n",
       "      <td>16592432.80</td>\n",
       "      <td>30134255.70</td>\n",
       "      <td>51064610.03</td>\n",
       "      <td>45897704.82</td>\n",
       "      <td>52928695.92</td>\n",
       "      <td>51972416.77</td>\n",
       "      <td>51679350.79</td>\n",
       "      <td>...</td>\n",
       "      <td>108536525.93</td>\n",
       "      <td>111762290.19</td>\n",
       "      <td>110107867.30</td>\n",
       "      <td>113886837.47</td>\n",
       "      <td>116738266.69</td>\n",
       "      <td>116833971.73</td>\n",
       "      <td>102317646.36</td>\n",
       "      <td>84404640.00</td>\n",
       "      <td>37798832.80</td>\n",
       "      <td>12764274442.95</td>\n",
       "    </tr>\n",
       "    <tr>\n",
       "      <th>33 Rio de Janeiro</th>\n",
       "      <td>469469.34</td>\n",
       "      <td>921646.57</td>\n",
       "      <td>2994664.57</td>\n",
       "      <td>7250528.08</td>\n",
       "      <td>13627123.27</td>\n",
       "      <td>251511992.03</td>\n",
       "      <td>44128159.73</td>\n",
       "      <td>42900847.02</td>\n",
       "      <td>45306499.53</td>\n",
       "      <td>43951349.46</td>\n",
       "      <td>...</td>\n",
       "      <td>95941141.03</td>\n",
       "      <td>89795469.41</td>\n",
       "      <td>81886688.22</td>\n",
       "      <td>80570244.20</td>\n",
       "      <td>82807309.85</td>\n",
       "      <td>90567351.87</td>\n",
       "      <td>87201907.99</td>\n",
       "      <td>60873103.08</td>\n",
       "      <td>49149884.48</td>\n",
       "      <td>10337229379.18</td>\n",
       "    </tr>\n",
       "  </tbody>\n",
       "</table>\n",
       "<p>5 rows × 165 columns</p>\n",
       "</div>"
      ],
      "text/plain": [
       "                       2007/Ago   2007/Set    2007/Out    2007/Nov  \\\n",
       "Unidade da Federação                                                 \n",
       "35 São Paulo         1665349.90 4434168.64 14577395.84 35032259.98   \n",
       "31 Minas Gerais       971394.37 2861781.50 10018011.35 21730281.63   \n",
       "41 Paraná             554800.22 1431708.01  4630402.44 11120030.79   \n",
       "43 Rio Grande do Sul 1049252.33 3182913.14  8571312.11 16592432.80   \n",
       "33 Rio de Janeiro     469469.34  921646.57  2994664.57  7250528.08   \n",
       "\n",
       "                        2007/Dez      2008/Jan     2008/Fev     2008/Mar  \\\n",
       "Unidade da Federação                                                       \n",
       "35 São Paulo         76668547.41 1038067423.15 172961999.58 170556696.16   \n",
       "31 Minas Gerais      43429517.54  206208080.90  70301089.50  79119005.51   \n",
       "41 Paraná            28790722.87   58081334.45  48855046.46  55611791.07   \n",
       "43 Rio Grande do Sul 30134255.70   51064610.03  45897704.82  52928695.92   \n",
       "33 Rio de Janeiro    13627123.27  251511992.03  44128159.73  42900847.02   \n",
       "\n",
       "                         2008/Abr     2008/Mai  ...     2020/Jul     2020/Ago  \\\n",
       "Unidade da Federação                            ...                             \n",
       "35 São Paulo         170338163.23 172462057.87  ... 361986896.25 350268671.25   \n",
       "31 Minas Gerais       79046322.41  79268070.12  ... 177466638.10 182176122.99   \n",
       "41 Paraná             56115135.82  55574831.93  ... 123856640.55 125089468.62   \n",
       "43 Rio Grande do Sul  51972416.77  51679350.79  ... 108536525.93 111762290.19   \n",
       "33 Rio de Janeiro     45306499.53  43951349.46  ...  95941141.03  89795469.41   \n",
       "\n",
       "                         2020/Set     2020/Out     2020/Nov     2020/Dez  \\\n",
       "Unidade da Federação                                                       \n",
       "35 São Paulo         338872478.49 328055822.63 324599773.40 326846228.95   \n",
       "31 Minas Gerais      181422500.43 174585638.28 168564708.16 166376967.67   \n",
       "41 Paraná            121771167.11 127506086.52 133443307.36 122146256.92   \n",
       "43 Rio Grande do Sul 110107867.30 113886837.47 116738266.69 116833971.73   \n",
       "33 Rio de Janeiro     81886688.22  80570244.20  82807309.85  90567351.87   \n",
       "\n",
       "                         2021/Jan     2021/Fev     2021/Mar          Total  \n",
       "Unidade da Federação                                                        \n",
       "35 São Paulo         324115425.70 268193064.06 177408317.71 41386533231.31  \n",
       "31 Minas Gerais      155064483.25 119877417.15  79780838.00 20418205467.78  \n",
       "41 Paraná            106948897.53  83130175.37  43480729.07 14681341476.16  \n",
       "43 Rio Grande do Sul 102317646.36  84404640.00  37798832.80 12764274442.95  \n",
       "33 Rio de Janeiro     87201907.99  60873103.08  49149884.48 10337229379.18  \n",
       "\n",
       "[5 rows x 165 columns]"
      ]
     },
     "execution_count": 12,
     "metadata": {},
     "output_type": "execute_result"
    }
   ],
   "source": [
    "validas.sort_values('Total', ascending=False).head() # Em ordem de maior para o menor gasto (se ascending True ou ausente por default então é do menor para o maior)"
   ]
  },
  {
   "cell_type": "code",
   "execution_count": 13,
   "metadata": {},
   "outputs": [],
   "source": [
    "ordenado_por_total = validas.sort_values('Total', ascending=False) \n",
    "ordenado_por_total = ordenado_por_total.drop('Total', axis=1)"
   ]
  },
  {
   "cell_type": "code",
   "execution_count": 14,
   "metadata": {},
   "outputs": [],
   "source": [
    "ordenado_por_total = ordenado_por_total / 1000000"
   ]
  },
  {
   "cell_type": "code",
   "execution_count": 15,
   "metadata": {},
   "outputs": [
    {
     "data": {
      "text/plain": [
       "'2021/Mar'"
      ]
     },
     "execution_count": 15,
     "metadata": {},
     "output_type": "execute_result"
    }
   ],
   "source": [
    "mes_mais_recente = ordenado_por_total.columns[-1]   # -1 pega o primeiro mes do final para o começo, ou seja o último no caso Março de 2021\n",
    "mes_mais_recente"
   ]
  },
  {
   "cell_type": "code",
   "execution_count": 16,
   "metadata": {},
   "outputs": [
    {
     "data": {
      "text/plain": [
       "Unidade da Federação\n",
       "35 São Paulo           177.41\n",
       "31 Minas Gerais         79.78\n",
       "41 Paraná               43.48\n",
       "43 Rio Grande do Sul    37.80\n",
       "33 Rio de Janeiro       49.15\n",
       "Name: 2021/Mar, dtype: float64"
      ]
     },
     "execution_count": 16,
     "metadata": {},
     "output_type": "execute_result"
    }
   ],
   "source": [
    "gastos_do_mais_recente = ordenado_por_total[mes_mais_recente]\n",
    "gastos_do_mais_recente.head()"
   ]
  },
  {
   "cell_type": "code",
   "execution_count": 17,
   "metadata": {},
   "outputs": [
    {
     "data": {
      "text/plain": [
       "<AxesSubplot:xlabel='Unidade da Federação'>"
      ]
     },
     "execution_count": 17,
     "metadata": {},
     "output_type": "execute_result"
    },
    {
     "data": {
      "image/png": "[encoded data removed]",
      "text/plain": [
       "<Figure size 432x288 with 1 Axes>"
      ]
     },
     "metadata": {
      "needs_background": "light"
     },
     "output_type": "display_data"
    }
   ],
   "source": [
    "gastos_do_mais_recente = gastos_do_mais_recente.sort_values(ascending=False)  # se usasse True ou mesmo nada o ordenamento seria ascendente do menor para o maior\n",
    "gastos_do_mais_recente.plot(kind='bar')"
   ]
  },
  {
   "cell_type": "markdown",
   "metadata": {
    "tags": []
   },
   "source": [
    "## Módulo 2\n",
    "Aprofundamento da análise dos dados financeiros do DataSUS\n",
    " - Tratamento, exploração e visualização de dados\n",
    " - Avance seus conhecimentos em Python e Pandas para analisar dados reais.\n",
    " - Crie gráficos estilizados com Seaborn\n",
    " - Aprenda como usar o pandas na manipulação dos seus dados.\n",
    " - Analise e explore os dados criando hipótese de forma analítica.\n",
    " - Crie visualizações e aprenda boas práticas.\n",
    " ***\n",
    " ***"
   ]
  },
  {
   "cell_type": "markdown",
   "metadata": {
    "heading_collapsed": "true",
    "tags": []
   },
   "source": [
    "### Aula 1 - Módulo 2 - Fontes externas, limpeza e manipulação de dados"
   ]
  },
  {
   "cell_type": "markdown",
   "metadata": {},
   "source": [
    "***\n",
    "#### Continuidade com a mesma base de dados de data/mês de atendimento/internação, importando-a via http do GitHub (vide importação do arquivo na Aula2 mod1 - modificando origem)\n"
   ]
  },
  {
   "cell_type": "markdown",
   "metadata": {
    "heading_collapsed": "true",
    "tags": []
   },
   "source": [
    "#### Trazendo novamente o gráfico final da Aula 5 mod.1:"
   ]
  },
  {
   "cell_type": "code",
   "execution_count": 18,
   "metadata": {},
   "outputs": [
    {
     "data": {
      "image/png": "[encoded data removed]",
      "text/plain": [
       "<Figure size 432x288 with 1 Axes>"
      ]
     },
     "metadata": {
      "needs_background": "light"
     },
     "output_type": "display_data"
    }
   ],
   "source": [
    "import matplotlib as mpl   # A função style parou de funcionar - Não funciona mais dentro de plt.style.use e sim agora direto dentro de mpl.style.use\n",
    "import matplotlib.style\n",
    "\n",
    "gastos_do_mais_recente = gastos_do_mais_recente.sort_values(ascending=False)  # se usasse True ou mesmo nada o ordenamento seria ascendente do menor para o maior\n",
    "gastos_do_mais_recente.plot(kind='bar')\n",
    "mpl.style.use('default')"
   ]
  },
  {
   "cell_type": "markdown",
   "metadata": {
    "heading_collapsed": "true",
    "tags": []
   },
   "source": [
    "#### Abaixo criar uma tabela de gastos proporcionais por Estado, onde poderá ser visto o % de cada um"
   ]
  },
  {
   "cell_type": "code",
   "execution_count": 19,
   "metadata": {},
   "outputs": [
    {
     "data": {
      "text/plain": [
       "Unidade da Federação\n",
       "35 São Paulo             0.27\n",
       "31 Minas Gerais          0.12\n",
       "33 Rio de Janeiro        0.08\n",
       "41 Paraná                0.07\n",
       "26 Pernambuco            0.06\n",
       "43 Rio Grande do Sul     0.06\n",
       "29 Bahia                 0.05\n",
       "52 Goiás                 0.04\n",
       "42 Santa Catarina        0.03\n",
       "21 Maranhão              0.03\n",
       "23 Ceará                 0.03\n",
       "32 Espírito Santo        0.02\n",
       "53 Distrito Federal      0.02\n",
       "15 Pará                  0.02\n",
       "25 Paraíba               0.02\n",
       "22 Piauí                 0.01\n",
       "51 Mato Grosso           0.01\n",
       "24 Rio Grande do Norte   0.01\n",
       "27 Alagoas               0.01\n",
       "13 Amazonas              0.01\n",
       "11 Rondônia              0.01\n",
       "50 Mato Grosso do Sul    0.01\n",
       "28 Sergipe               0.00\n",
       "14 Roraima               0.00\n",
       "12 Acre                  0.00\n",
       "16 Amapá                 0.00\n",
       "17 Tocantins             0.00\n",
       "Name: 2021/Mar, dtype: float64"
      ]
     },
     "execution_count": 19,
     "metadata": {},
     "output_type": "execute_result"
    }
   ],
   "source": [
    "gastos_do_mais_recente / gastos_do_mais_recente.sum()\n",
    "# gastos_proporcionais.plot(kind='bar')"
   ]
  },
  {
   "cell_type": "markdown",
   "metadata": {
    "heading_collapsed": "true",
    "tags": []
   },
   "source": [
    "#### Vendo em um gráfico o % será da mesma forma do gráfico mais recente:"
   ]
  },
  {
   "cell_type": "code",
   "execution_count": 20,
   "metadata": {},
   "outputs": [
    {
     "data": {
      "text/plain": [
       "<AxesSubplot:xlabel='Unidade da Federação'>"
      ]
     },
     "execution_count": 20,
     "metadata": {},
     "output_type": "execute_result"
    },
    {
     "data": {
      "image/png": "[encoded data removed]",
      "text/plain": [
       "<Figure size 640x480 with 1 Axes>"
      ]
     },
     "metadata": {},
     "output_type": "display_data"
    }
   ],
   "source": [
    "gastos_proporcionais = gastos_do_mais_recente / gastos_do_mais_recente.sum()\n",
    "gastos_proporcionais.plot(kind='bar')"
   ]
  },
  {
   "cell_type": "markdown",
   "metadata": {
    "heading_collapsed": "true",
    "tags": []
   },
   "source": [
    "#### **Agora para melhor análise devemos usar a população brasileira para obter a porporção de gastos hospitalares por habitante**\n",
    "*P.S. Já fiz uma solução nos desafios da Aula 5 mód.1, utilizando dados do IBGE do censo 2010 e da estimativa 2020, mas aqui será utilizado apenas o dado fixo da estimativa 2020"
   ]
  },
  {
   "cell_type": "markdown",
   "metadata": {},
   "source": [
    "Em IBGE: https://www.ibge.gov.br/estatisticas/sociais/populacao/9103-estimativas-de-populacao.html?=&t=resultados foi baixado o arquivo da estimativa (link é diferente do que usei, arquivo tem outro formato, porém os dados de população são os mesmos).\n",
    "Arquivo **.XLS** foi baixado e exportado para o GitHub da Alura:"
   ]
  },
  {
   "cell_type": "markdown",
   "metadata": {},
   "source": [
    "Será usado a função de ler o excel"
   ]
  },
  {
   "cell_type": "code",
   "execution_count": 21,
   "metadata": {},
   "outputs": [
    {
     "data": {
      "text/html": [
       "<div>\n",
       "<style scoped>\n",
       "    .dataframe tbody tr th:only-of-type {\n",
       "        vertical-align: middle;\n",
       "    }\n",
       "\n",
       "    .dataframe tbody tr th {\n",
       "        vertical-align: top;\n",
       "    }\n",
       "\n",
       "    .dataframe thead th {\n",
       "        text-align: right;\n",
       "    }\n",
       "</style>\n",
       "<table border=\"1\" class=\"dataframe\">\n",
       "  <thead>\n",
       "    <tr style=\"text-align: right;\">\n",
       "      <th></th>\n",
       "      <th>ESTIMATIVAS DA POPULAÇÃO RESIDENTE NO BRASIL E UNIDADES DA FEDERAÇÃO COM DATA DE REFERÊNCIA EM 1º DE JULHO DE 2020</th>\n",
       "      <th>Unnamed: 1</th>\n",
       "      <th>Unnamed: 2</th>\n",
       "    </tr>\n",
       "  </thead>\n",
       "  <tbody>\n",
       "    <tr>\n",
       "      <th>0</th>\n",
       "      <td>BRASIL E UNIDADES DA FEDERAÇÃO</td>\n",
       "      <td>NaN</td>\n",
       "      <td>POPULAÇÃO ESTIMADA</td>\n",
       "    </tr>\n",
       "    <tr>\n",
       "      <th>1</th>\n",
       "      <td>Brasil</td>\n",
       "      <td>NaN</td>\n",
       "      <td>211755692</td>\n",
       "    </tr>\n",
       "    <tr>\n",
       "      <th>2</th>\n",
       "      <td>Região Norte</td>\n",
       "      <td>NaN</td>\n",
       "      <td>18672591</td>\n",
       "    </tr>\n",
       "    <tr>\n",
       "      <th>3</th>\n",
       "      <td>Rondônia</td>\n",
       "      <td>NaN</td>\n",
       "      <td>1796460</td>\n",
       "    </tr>\n",
       "    <tr>\n",
       "      <th>4</th>\n",
       "      <td>Acre</td>\n",
       "      <td>NaN</td>\n",
       "      <td>894470</td>\n",
       "    </tr>\n",
       "  </tbody>\n",
       "</table>\n",
       "</div>"
      ],
      "text/plain": [
       "  ESTIMATIVAS DA POPULAÇÃO RESIDENTE NO BRASIL E UNIDADES DA FEDERAÇÃO COM DATA DE REFERÊNCIA EM 1º DE JULHO DE 2020  \\\n",
       "0                     BRASIL E UNIDADES DA FEDERAÇÃO                                                                   \n",
       "1                                             Brasil                                                                   \n",
       "2                                       Região Norte                                                                   \n",
       "3                                           Rondônia                                                                   \n",
       "4                                               Acre                                                                   \n",
       "\n",
       "   Unnamed: 1          Unnamed: 2  \n",
       "0         NaN  POPULAÇÃO ESTIMADA  \n",
       "1         NaN           211755692  \n",
       "2         NaN            18672591  \n",
       "3         NaN             1796460  \n",
       "4         NaN              894470  "
      ]
     },
     "execution_count": 21,
     "metadata": {},
     "output_type": "execute_result"
    }
   ],
   "source": [
    "ibge_estimativa = pd.read_excel(\"https://github.com/alura-cursos/agendamento-hospitalar/raw/main/dados/estimativa_dou_2020.xls\")\n",
    "ibge_estimativa.head()"
   ]
  },
  {
   "cell_type": "markdown",
   "metadata": {},
   "source": [
    "Com o erro acima será instalado a dependencia de leitura: **xlrd** e rodar a leitura do excel novamente"
   ]
  },
  {
   "cell_type": "code",
   "execution_count": 22,
   "metadata": {},
   "outputs": [
    {
     "name": "stdout",
     "output_type": "stream",
     "text": [
      "Requirement already satisfied: xlrd in c:\\users\\mago7\\anaconda3\\lib\\site-packages (2.0.1)\n",
      "Note: you may need to restart the kernel to use updated packages.\n"
     ]
    }
   ],
   "source": [
    "pip install xlrd"
   ]
  },
  {
   "cell_type": "code",
   "execution_count": 23,
   "metadata": {},
   "outputs": [
    {
     "data": {
      "text/html": [
       "<div>\n",
       "<style scoped>\n",
       "    .dataframe tbody tr th:only-of-type {\n",
       "        vertical-align: middle;\n",
       "    }\n",
       "\n",
       "    .dataframe tbody tr th {\n",
       "        vertical-align: top;\n",
       "    }\n",
       "\n",
       "    .dataframe thead th {\n",
       "        text-align: right;\n",
       "    }\n",
       "</style>\n",
       "<table border=\"1\" class=\"dataframe\">\n",
       "  <thead>\n",
       "    <tr style=\"text-align: right;\">\n",
       "      <th></th>\n",
       "      <th>ESTIMATIVAS DA POPULAÇÃO RESIDENTE NO BRASIL E UNIDADES DA FEDERAÇÃO COM DATA DE REFERÊNCIA EM 1º DE JULHO DE 2020</th>\n",
       "      <th>Unnamed: 1</th>\n",
       "      <th>Unnamed: 2</th>\n",
       "    </tr>\n",
       "  </thead>\n",
       "  <tbody>\n",
       "    <tr>\n",
       "      <th>0</th>\n",
       "      <td>BRASIL E UNIDADES DA FEDERAÇÃO</td>\n",
       "      <td>NaN</td>\n",
       "      <td>POPULAÇÃO ESTIMADA</td>\n",
       "    </tr>\n",
       "    <tr>\n",
       "      <th>1</th>\n",
       "      <td>Brasil</td>\n",
       "      <td>NaN</td>\n",
       "      <td>211755692</td>\n",
       "    </tr>\n",
       "    <tr>\n",
       "      <th>2</th>\n",
       "      <td>Região Norte</td>\n",
       "      <td>NaN</td>\n",
       "      <td>18672591</td>\n",
       "    </tr>\n",
       "    <tr>\n",
       "      <th>3</th>\n",
       "      <td>Rondônia</td>\n",
       "      <td>NaN</td>\n",
       "      <td>1796460</td>\n",
       "    </tr>\n",
       "    <tr>\n",
       "      <th>4</th>\n",
       "      <td>Acre</td>\n",
       "      <td>NaN</td>\n",
       "      <td>894470</td>\n",
       "    </tr>\n",
       "  </tbody>\n",
       "</table>\n",
       "</div>"
      ],
      "text/plain": [
       "  ESTIMATIVAS DA POPULAÇÃO RESIDENTE NO BRASIL E UNIDADES DA FEDERAÇÃO COM DATA DE REFERÊNCIA EM 1º DE JULHO DE 2020  \\\n",
       "0                     BRASIL E UNIDADES DA FEDERAÇÃO                                                                   \n",
       "1                                             Brasil                                                                   \n",
       "2                                       Região Norte                                                                   \n",
       "3                                           Rondônia                                                                   \n",
       "4                                               Acre                                                                   \n",
       "\n",
       "   Unnamed: 1          Unnamed: 2  \n",
       "0         NaN  POPULAÇÃO ESTIMADA  \n",
       "1         NaN           211755692  \n",
       "2         NaN            18672591  \n",
       "3         NaN             1796460  \n",
       "4         NaN              894470  "
      ]
     },
     "execution_count": 23,
     "metadata": {},
     "output_type": "execute_result"
    }
   ],
   "source": [
    "ibge_estimativa = pd.read_excel(\"https://github.com/alura-cursos/agendamento-hospitalar/raw/main/dados/estimativa_dou_2020.xls\")\n",
    "ibge_estimativa.head()"
   ]
  },
  {
   "cell_type": "markdown",
   "metadata": {
    "heading_collapsed": "true",
    "tags": []
   },
   "source": [
    "#### A tabela acima poderá ser trabalhada, mas podemos pegar uma outra fonte de dados dessa tabela em página web: "
   ]
  },
  {
   "attachments": {
    "e4ec52af-7751-4ab8-9108-b18848918b9a.png": {
     "image/png": "[encoded data removed]"
    }
   },
   "cell_type": "markdown",
   "metadata": {},
   "source": [
    "Do wikipedia em https://pt.wikipedia.org/wiki/Lista_de_unidades_federativas_do_Brasil_por_popula%C3%A7%C3%A3o#cite_note-IBGE_POP-1 pode-se pegar esses mesmos dados de fonte do IBGE<br>\n",
    "![image.png](attachment:e4ec52af-7751-4ab8-9108-b18848918b9a.png)"
   ]
  },
  {
   "cell_type": "markdown",
   "metadata": {
    "heading_collapsed": "true",
    "tags": []
   },
   "source": [
    "#### Agora **copiando e colando** a tabela aqui (deve-se usar Aspas Triplas para reconhecer os dados colados):"
   ]
  },
  {
   "cell_type": "code",
   "execution_count": 24,
   "metadata": {},
   "outputs": [],
   "source": [
    "dados_da_populacao = '''Posição\tUnidade federativa\tPopulação\t% da pop. total\tPaís comparável\n",
    "(habitantes)\n",
    "\n",
    "1\t São Paulo\t46 289 333\t21,9%\tFlag of Spain.svg Espanha (46 439 864)\n",
    "2\t Minas Gerais\t21 292 666\t10,1%\t Sri Lanka (20 675 000)\n",
    "3\t Rio de Janeiro\t17 366 189\t8,2%\t Países Baixos (16 922 900)\n",
    "4\tBahia Bahia\t14 930 634\t7,1%\t Chade (14 037 000)\n",
    "5\t Paraná\t11 516 840\t5,4%\t Bolívia (11 410 651)\n",
    "6\t Rio Grande do Sul\t11 422 973\t5,4%\t Bélgica (11 250 659)\n",
    "7\t Pernambuco\t9 616 621\t4,5%\t Bielorrússia (9 485 300)\n",
    "8\t Ceará\t9 187 103\t4,3%\t Emirados Árabes Unidos (9 157 000)\n",
    "9\tPará Pará\t8 690 745\t4,1%\t Áustria (8 602 112)\n",
    "10\t Santa Catarina\t7 252 502\t3,4%\t Sérvia (7 114 393)\n",
    "11\t Maranhão\t7 114 598\t3,4%\t Paraguai (7 003 406)\n",
    "12\t Goiás\t7 113 540\t3,4%\t Paraguai (7 003 406)\n",
    "13\t Amazonas\t4 207 714\t2,0%\t Líbano (4 168 000)\n",
    "14\t Espírito Santo\t4 064 052\t1,9%\t Líbano (4 168 000)\n",
    "15\t Paraíba\t4 039 277\t1,9%\t Líbano (4 168 000)\n",
    "16\t Rio Grande do Norte\t3 534 165\t1,7%\t Uruguai (3 415 866)\n",
    "17\t Mato Grosso\t3 526 220\t1,7%\t Uruguai (3 415 866)\n",
    "18\t Alagoas\t3 351 543\t1,6%\t Uruguai (3 415 866)\n",
    "19\t Piauí\t3 281 480\t1,6%\t Kuwait (3 268 431)\n",
    "20\t Distrito Federal\t3 055 149\t1,4%\t Lituânia (2 900 787)\n",
    "21\t Mato Grosso do Sul\t2 809 394\t1,3%\t Jamaica (2 717 991)\n",
    "22\t Sergipe\t2 318 822\t1,1%\t Namíbia (2 280 700)\n",
    "23\t Rondônia\t1 796 460\t0,8%\t Gabão (1 725 000)\n",
    "24\t Tocantins\t1 590 248\t0,7%\t Bahrein (1 359 800)\n",
    "25\t Acre\t894 470\t0,4%\t Fiji (859 178)\n",
    "26\t Amapá\t861 773\t0,4%\t Fiji (859 178)\n",
    "27\t Roraima\t631 181\t0,3%\t Luxemburgo (562 958)'''"
   ]
  },
  {
   "cell_type": "markdown",
   "metadata": {
    "heading_collapsed": "true",
    "tags": []
   },
   "source": [
    "#### Agora transformando em tabela estruturada usando a lib io no módulo StringIO:"
   ]
  },
  {
   "cell_type": "code",
   "execution_count": 25,
   "metadata": {},
   "outputs": [
    {
     "data": {
      "text/html": [
       "<div>\n",
       "<style scoped>\n",
       "    .dataframe tbody tr th:only-of-type {\n",
       "        vertical-align: middle;\n",
       "    }\n",
       "\n",
       "    .dataframe tbody tr th {\n",
       "        vertical-align: top;\n",
       "    }\n",
       "\n",
       "    .dataframe thead th {\n",
       "        text-align: right;\n",
       "    }\n",
       "</style>\n",
       "<table border=\"1\" class=\"dataframe\">\n",
       "  <thead>\n",
       "    <tr style=\"text-align: right;\">\n",
       "      <th></th>\n",
       "      <th>Posição</th>\n",
       "      <th>Unidade federativa</th>\n",
       "      <th>População</th>\n",
       "      <th>% da pop. total</th>\n",
       "      <th>País comparável</th>\n",
       "    </tr>\n",
       "  </thead>\n",
       "  <tbody>\n",
       "    <tr>\n",
       "      <th>0</th>\n",
       "      <td>(habitantes)</td>\n",
       "      <td>NaN</td>\n",
       "      <td>NaN</td>\n",
       "      <td>NaN</td>\n",
       "      <td>NaN</td>\n",
       "    </tr>\n",
       "    <tr>\n",
       "      <th>1</th>\n",
       "      <td>1</td>\n",
       "      <td>São Paulo</td>\n",
       "      <td>46 289 333</td>\n",
       "      <td>21,9%</td>\n",
       "      <td>Flag of Spain.svg Espanha (46 439 864)</td>\n",
       "    </tr>\n",
       "    <tr>\n",
       "      <th>2</th>\n",
       "      <td>2</td>\n",
       "      <td>Minas Gerais</td>\n",
       "      <td>21 292 666</td>\n",
       "      <td>10,1%</td>\n",
       "      <td>Sri Lanka (20 675 000)</td>\n",
       "    </tr>\n",
       "    <tr>\n",
       "      <th>3</th>\n",
       "      <td>3</td>\n",
       "      <td>Rio de Janeiro</td>\n",
       "      <td>17 366 189</td>\n",
       "      <td>8,2%</td>\n",
       "      <td>Países Baixos (16 922 900)</td>\n",
       "    </tr>\n",
       "    <tr>\n",
       "      <th>4</th>\n",
       "      <td>4</td>\n",
       "      <td>Bahia Bahia</td>\n",
       "      <td>14 930 634</td>\n",
       "      <td>7,1%</td>\n",
       "      <td>Chade (14 037 000)</td>\n",
       "    </tr>\n",
       "    <tr>\n",
       "      <th>5</th>\n",
       "      <td>5</td>\n",
       "      <td>Paraná</td>\n",
       "      <td>11 516 840</td>\n",
       "      <td>5,4%</td>\n",
       "      <td>Bolívia (11 410 651)</td>\n",
       "    </tr>\n",
       "    <tr>\n",
       "      <th>6</th>\n",
       "      <td>6</td>\n",
       "      <td>Rio Grande do Sul</td>\n",
       "      <td>11 422 973</td>\n",
       "      <td>5,4%</td>\n",
       "      <td>Bélgica (11 250 659)</td>\n",
       "    </tr>\n",
       "    <tr>\n",
       "      <th>7</th>\n",
       "      <td>7</td>\n",
       "      <td>Pernambuco</td>\n",
       "      <td>9 616 621</td>\n",
       "      <td>4,5%</td>\n",
       "      <td>Bielorrússia (9 485 300)</td>\n",
       "    </tr>\n",
       "    <tr>\n",
       "      <th>8</th>\n",
       "      <td>8</td>\n",
       "      <td>Ceará</td>\n",
       "      <td>9 187 103</td>\n",
       "      <td>4,3%</td>\n",
       "      <td>Emirados Árabes Unidos (9 157 000)</td>\n",
       "    </tr>\n",
       "    <tr>\n",
       "      <th>9</th>\n",
       "      <td>9</td>\n",
       "      <td>Pará Pará</td>\n",
       "      <td>8 690 745</td>\n",
       "      <td>4,1%</td>\n",
       "      <td>Áustria (8 602 112)</td>\n",
       "    </tr>\n",
       "    <tr>\n",
       "      <th>10</th>\n",
       "      <td>10</td>\n",
       "      <td>Santa Catarina</td>\n",
       "      <td>7 252 502</td>\n",
       "      <td>3,4%</td>\n",
       "      <td>Sérvia (7 114 393)</td>\n",
       "    </tr>\n",
       "    <tr>\n",
       "      <th>11</th>\n",
       "      <td>11</td>\n",
       "      <td>Maranhão</td>\n",
       "      <td>7 114 598</td>\n",
       "      <td>3,4%</td>\n",
       "      <td>Paraguai (7 003 406)</td>\n",
       "    </tr>\n",
       "    <tr>\n",
       "      <th>12</th>\n",
       "      <td>12</td>\n",
       "      <td>Goiás</td>\n",
       "      <td>7 113 540</td>\n",
       "      <td>3,4%</td>\n",
       "      <td>Paraguai (7 003 406)</td>\n",
       "    </tr>\n",
       "    <tr>\n",
       "      <th>13</th>\n",
       "      <td>13</td>\n",
       "      <td>Amazonas</td>\n",
       "      <td>4 207 714</td>\n",
       "      <td>2,0%</td>\n",
       "      <td>Líbano (4 168 000)</td>\n",
       "    </tr>\n",
       "    <tr>\n",
       "      <th>14</th>\n",
       "      <td>14</td>\n",
       "      <td>Espírito Santo</td>\n",
       "      <td>4 064 052</td>\n",
       "      <td>1,9%</td>\n",
       "      <td>Líbano (4 168 000)</td>\n",
       "    </tr>\n",
       "    <tr>\n",
       "      <th>15</th>\n",
       "      <td>15</td>\n",
       "      <td>Paraíba</td>\n",
       "      <td>4 039 277</td>\n",
       "      <td>1,9%</td>\n",
       "      <td>Líbano (4 168 000)</td>\n",
       "    </tr>\n",
       "    <tr>\n",
       "      <th>16</th>\n",
       "      <td>16</td>\n",
       "      <td>Rio Grande do Norte</td>\n",
       "      <td>3 534 165</td>\n",
       "      <td>1,7%</td>\n",
       "      <td>Uruguai (3 415 866)</td>\n",
       "    </tr>\n",
       "    <tr>\n",
       "      <th>17</th>\n",
       "      <td>17</td>\n",
       "      <td>Mato Grosso</td>\n",
       "      <td>3 526 220</td>\n",
       "      <td>1,7%</td>\n",
       "      <td>Uruguai (3 415 866)</td>\n",
       "    </tr>\n",
       "    <tr>\n",
       "      <th>18</th>\n",
       "      <td>18</td>\n",
       "      <td>Alagoas</td>\n",
       "      <td>3 351 543</td>\n",
       "      <td>1,6%</td>\n",
       "      <td>Uruguai (3 415 866)</td>\n",
       "    </tr>\n",
       "    <tr>\n",
       "      <th>19</th>\n",
       "      <td>19</td>\n",
       "      <td>Piauí</td>\n",
       "      <td>3 281 480</td>\n",
       "      <td>1,6%</td>\n",
       "      <td>Kuwait (3 268 431)</td>\n",
       "    </tr>\n",
       "    <tr>\n",
       "      <th>20</th>\n",
       "      <td>20</td>\n",
       "      <td>Distrito Federal</td>\n",
       "      <td>3 055 149</td>\n",
       "      <td>1,4%</td>\n",
       "      <td>Lituânia (2 900 787)</td>\n",
       "    </tr>\n",
       "    <tr>\n",
       "      <th>21</th>\n",
       "      <td>21</td>\n",
       "      <td>Mato Grosso do Sul</td>\n",
       "      <td>2 809 394</td>\n",
       "      <td>1,3%</td>\n",
       "      <td>Jamaica (2 717 991)</td>\n",
       "    </tr>\n",
       "    <tr>\n",
       "      <th>22</th>\n",
       "      <td>22</td>\n",
       "      <td>Sergipe</td>\n",
       "      <td>2 318 822</td>\n",
       "      <td>1,1%</td>\n",
       "      <td>Namíbia (2 280 700)</td>\n",
       "    </tr>\n",
       "    <tr>\n",
       "      <th>23</th>\n",
       "      <td>23</td>\n",
       "      <td>Rondônia</td>\n",
       "      <td>1 796 460</td>\n",
       "      <td>0,8%</td>\n",
       "      <td>Gabão (1 725 000)</td>\n",
       "    </tr>\n",
       "    <tr>\n",
       "      <th>24</th>\n",
       "      <td>24</td>\n",
       "      <td>Tocantins</td>\n",
       "      <td>1 590 248</td>\n",
       "      <td>0,7%</td>\n",
       "      <td>Bahrein (1 359 800)</td>\n",
       "    </tr>\n",
       "    <tr>\n",
       "      <th>25</th>\n",
       "      <td>25</td>\n",
       "      <td>Acre</td>\n",
       "      <td>894 470</td>\n",
       "      <td>0,4%</td>\n",
       "      <td>Fiji (859 178)</td>\n",
       "    </tr>\n",
       "    <tr>\n",
       "      <th>26</th>\n",
       "      <td>26</td>\n",
       "      <td>Amapá</td>\n",
       "      <td>861 773</td>\n",
       "      <td>0,4%</td>\n",
       "      <td>Fiji (859 178)</td>\n",
       "    </tr>\n",
       "    <tr>\n",
       "      <th>27</th>\n",
       "      <td>27</td>\n",
       "      <td>Roraima</td>\n",
       "      <td>631 181</td>\n",
       "      <td>0,3%</td>\n",
       "      <td>Luxemburgo (562 958)</td>\n",
       "    </tr>\n",
       "  </tbody>\n",
       "</table>\n",
       "</div>"
      ],
      "text/plain": [
       "         Posição    Unidade federativa   População % da pop. total  \\\n",
       "0   (habitantes)                   NaN         NaN             NaN   \n",
       "1              1             São Paulo  46 289 333           21,9%   \n",
       "2              2          Minas Gerais  21 292 666           10,1%   \n",
       "3              3        Rio de Janeiro  17 366 189            8,2%   \n",
       "4              4           Bahia Bahia  14 930 634            7,1%   \n",
       "5              5                Paraná  11 516 840            5,4%   \n",
       "6              6     Rio Grande do Sul  11 422 973            5,4%   \n",
       "7              7            Pernambuco   9 616 621            4,5%   \n",
       "8              8                 Ceará   9 187 103            4,3%   \n",
       "9              9             Pará Pará   8 690 745            4,1%   \n",
       "10            10        Santa Catarina   7 252 502            3,4%   \n",
       "11            11              Maranhão   7 114 598            3,4%   \n",
       "12            12                 Goiás   7 113 540            3,4%   \n",
       "13            13              Amazonas   4 207 714            2,0%   \n",
       "14            14        Espírito Santo   4 064 052            1,9%   \n",
       "15            15               Paraíba   4 039 277            1,9%   \n",
       "16            16   Rio Grande do Norte   3 534 165            1,7%   \n",
       "17            17           Mato Grosso   3 526 220            1,7%   \n",
       "18            18               Alagoas   3 351 543            1,6%   \n",
       "19            19                 Piauí   3 281 480            1,6%   \n",
       "20            20      Distrito Federal   3 055 149            1,4%   \n",
       "21            21    Mato Grosso do Sul   2 809 394            1,3%   \n",
       "22            22               Sergipe   2 318 822            1,1%   \n",
       "23            23              Rondônia   1 796 460            0,8%   \n",
       "24            24             Tocantins   1 590 248            0,7%   \n",
       "25            25                  Acre     894 470            0,4%   \n",
       "26            26                 Amapá     861 773            0,4%   \n",
       "27            27               Roraima     631 181            0,3%   \n",
       "\n",
       "                           País comparável  \n",
       "0                                      NaN  \n",
       "1   Flag of Spain.svg Espanha (46 439 864)  \n",
       "2                   Sri Lanka (20 675 000)  \n",
       "3               Países Baixos (16 922 900)  \n",
       "4                       Chade (14 037 000)  \n",
       "5                     Bolívia (11 410 651)  \n",
       "6                     Bélgica (11 250 659)  \n",
       "7                 Bielorrússia (9 485 300)  \n",
       "8       Emirados Árabes Unidos (9 157 000)  \n",
       "9                      Áustria (8 602 112)  \n",
       "10                      Sérvia (7 114 393)  \n",
       "11                    Paraguai (7 003 406)  \n",
       "12                    Paraguai (7 003 406)  \n",
       "13                      Líbano (4 168 000)  \n",
       "14                      Líbano (4 168 000)  \n",
       "15                      Líbano (4 168 000)  \n",
       "16                     Uruguai (3 415 866)  \n",
       "17                     Uruguai (3 415 866)  \n",
       "18                     Uruguai (3 415 866)  \n",
       "19                      Kuwait (3 268 431)  \n",
       "20                    Lituânia (2 900 787)  \n",
       "21                     Jamaica (2 717 991)  \n",
       "22                     Namíbia (2 280 700)  \n",
       "23                       Gabão (1 725 000)  \n",
       "24                     Bahrein (1 359 800)  \n",
       "25                          Fiji (859 178)  \n",
       "26                          Fiji (859 178)  \n",
       "27                    Luxemburgo (562 958)  "
      ]
     },
     "execution_count": 25,
     "metadata": {},
     "output_type": "execute_result"
    }
   ],
   "source": [
    "from io import StringIO\n",
    "\n",
    "dados_da_populacao_io = StringIO(dados_da_populacao)\n",
    "\n",
    "pd.read_csv(dados_da_populacao_io, sep=\"\\t\")   # Lê como CSV e separado por TAB (/t)"
   ]
  },
  {
   "cell_type": "markdown",
   "metadata": {
    "heading_collapsed": "true",
    "tags": []
   },
   "source": [
    "#### Agora vamos investigar a tabela e transformá-la em um DataFrame denominado 'populacao':"
   ]
  },
  {
   "cell_type": "code",
   "execution_count": 26,
   "metadata": {},
   "outputs": [
    {
     "data": {
      "text/html": [
       "<div>\n",
       "<style scoped>\n",
       "    .dataframe tbody tr th:only-of-type {\n",
       "        vertical-align: middle;\n",
       "    }\n",
       "\n",
       "    .dataframe tbody tr th {\n",
       "        vertical-align: top;\n",
       "    }\n",
       "\n",
       "    .dataframe thead th {\n",
       "        text-align: right;\n",
       "    }\n",
       "</style>\n",
       "<table border=\"1\" class=\"dataframe\">\n",
       "  <thead>\n",
       "    <tr style=\"text-align: right;\">\n",
       "      <th></th>\n",
       "      <th>Posição</th>\n",
       "      <th>Unidade federativa</th>\n",
       "      <th>População</th>\n",
       "      <th>% da pop. total</th>\n",
       "      <th>País comparável</th>\n",
       "    </tr>\n",
       "  </thead>\n",
       "  <tbody>\n",
       "    <tr>\n",
       "      <th>0</th>\n",
       "      <td>(habitantes)</td>\n",
       "      <td>NaN</td>\n",
       "      <td>NaN</td>\n",
       "      <td>NaN</td>\n",
       "      <td>NaN</td>\n",
       "    </tr>\n",
       "    <tr>\n",
       "      <th>1</th>\n",
       "      <td>1</td>\n",
       "      <td>São Paulo</td>\n",
       "      <td>46 289 333</td>\n",
       "      <td>21,9%</td>\n",
       "      <td>Flag of Spain.svg Espanha (46 439 864)</td>\n",
       "    </tr>\n",
       "    <tr>\n",
       "      <th>2</th>\n",
       "      <td>2</td>\n",
       "      <td>Minas Gerais</td>\n",
       "      <td>21 292 666</td>\n",
       "      <td>10,1%</td>\n",
       "      <td>Sri Lanka (20 675 000)</td>\n",
       "    </tr>\n",
       "    <tr>\n",
       "      <th>3</th>\n",
       "      <td>3</td>\n",
       "      <td>Rio de Janeiro</td>\n",
       "      <td>17 366 189</td>\n",
       "      <td>8,2%</td>\n",
       "      <td>Países Baixos (16 922 900)</td>\n",
       "    </tr>\n",
       "    <tr>\n",
       "      <th>4</th>\n",
       "      <td>4</td>\n",
       "      <td>Bahia Bahia</td>\n",
       "      <td>14 930 634</td>\n",
       "      <td>7,1%</td>\n",
       "      <td>Chade (14 037 000)</td>\n",
       "    </tr>\n",
       "  </tbody>\n",
       "</table>\n",
       "</div>"
      ],
      "text/plain": [
       "        Posição Unidade federativa   População % da pop. total  \\\n",
       "0  (habitantes)                NaN         NaN             NaN   \n",
       "1             1          São Paulo  46 289 333           21,9%   \n",
       "2             2       Minas Gerais  21 292 666           10,1%   \n",
       "3             3     Rio de Janeiro  17 366 189            8,2%   \n",
       "4             4        Bahia Bahia  14 930 634            7,1%   \n",
       "\n",
       "                          País comparável  \n",
       "0                                     NaN  \n",
       "1  Flag of Spain.svg Espanha (46 439 864)  \n",
       "2                  Sri Lanka (20 675 000)  \n",
       "3              Países Baixos (16 922 900)  \n",
       "4                      Chade (14 037 000)  "
      ]
     },
     "execution_count": 26,
     "metadata": {},
     "output_type": "execute_result"
    }
   ],
   "source": [
    "from io import StringIO\n",
    "\n",
    "dados_da_populacao_io = StringIO(dados_da_populacao)\n",
    "\n",
    "populacao = pd.read_csv(dados_da_populacao_io, sep=\"\\t\")\n",
    "populacao.head()"
   ]
  },
  {
   "cell_type": "markdown",
   "metadata": {
    "heading_collapsed": "true",
    "tags": []
   },
   "source": [
    "#### Percebemos o seguinte problema:\n",
    "- A primeira linha tem vários NaN e essa linha precisa ser eliminada com o dropna():"
   ]
  },
  {
   "cell_type": "code",
   "execution_count": 27,
   "metadata": {},
   "outputs": [
    {
     "data": {
      "text/html": [
       "<div>\n",
       "<style scoped>\n",
       "    .dataframe tbody tr th:only-of-type {\n",
       "        vertical-align: middle;\n",
       "    }\n",
       "\n",
       "    .dataframe tbody tr th {\n",
       "        vertical-align: top;\n",
       "    }\n",
       "\n",
       "    .dataframe thead th {\n",
       "        text-align: right;\n",
       "    }\n",
       "</style>\n",
       "<table border=\"1\" class=\"dataframe\">\n",
       "  <thead>\n",
       "    <tr style=\"text-align: right;\">\n",
       "      <th></th>\n",
       "      <th>Posição</th>\n",
       "      <th>Unidade federativa</th>\n",
       "      <th>População</th>\n",
       "      <th>% da pop. total</th>\n",
       "      <th>País comparável</th>\n",
       "    </tr>\n",
       "  </thead>\n",
       "  <tbody>\n",
       "    <tr>\n",
       "      <th>1</th>\n",
       "      <td>1</td>\n",
       "      <td>São Paulo</td>\n",
       "      <td>46 289 333</td>\n",
       "      <td>21,9%</td>\n",
       "      <td>Flag of Spain.svg Espanha (46 439 864)</td>\n",
       "    </tr>\n",
       "    <tr>\n",
       "      <th>2</th>\n",
       "      <td>2</td>\n",
       "      <td>Minas Gerais</td>\n",
       "      <td>21 292 666</td>\n",
       "      <td>10,1%</td>\n",
       "      <td>Sri Lanka (20 675 000)</td>\n",
       "    </tr>\n",
       "    <tr>\n",
       "      <th>3</th>\n",
       "      <td>3</td>\n",
       "      <td>Rio de Janeiro</td>\n",
       "      <td>17 366 189</td>\n",
       "      <td>8,2%</td>\n",
       "      <td>Países Baixos (16 922 900)</td>\n",
       "    </tr>\n",
       "    <tr>\n",
       "      <th>4</th>\n",
       "      <td>4</td>\n",
       "      <td>Bahia Bahia</td>\n",
       "      <td>14 930 634</td>\n",
       "      <td>7,1%</td>\n",
       "      <td>Chade (14 037 000)</td>\n",
       "    </tr>\n",
       "    <tr>\n",
       "      <th>5</th>\n",
       "      <td>5</td>\n",
       "      <td>Paraná</td>\n",
       "      <td>11 516 840</td>\n",
       "      <td>5,4%</td>\n",
       "      <td>Bolívia (11 410 651)</td>\n",
       "    </tr>\n",
       "  </tbody>\n",
       "</table>\n",
       "</div>"
      ],
      "text/plain": [
       "  Posição Unidade federativa   População % da pop. total  \\\n",
       "1       1          São Paulo  46 289 333           21,9%   \n",
       "2       2       Minas Gerais  21 292 666           10,1%   \n",
       "3       3     Rio de Janeiro  17 366 189            8,2%   \n",
       "4       4        Bahia Bahia  14 930 634            7,1%   \n",
       "5       5             Paraná  11 516 840            5,4%   \n",
       "\n",
       "                          País comparável  \n",
       "1  Flag of Spain.svg Espanha (46 439 864)  \n",
       "2                  Sri Lanka (20 675 000)  \n",
       "3              Países Baixos (16 922 900)  \n",
       "4                      Chade (14 037 000)  \n",
       "5                    Bolívia (11 410 651)  "
      ]
     },
     "execution_count": 27,
     "metadata": {},
     "output_type": "execute_result"
    }
   ],
   "source": [
    "populacao = populacao.dropna()\n",
    "populacao.head()"
   ]
  },
  {
   "cell_type": "markdown",
   "metadata": {
    "heading_collapsed": "true",
    "tags": []
   },
   "source": [
    "#### Agora: ter o nome das colunas 'Unidade federativa'\te 'População' como 'uf' e 'populacao' (duas formas: ou renomear ou CRIAR novas colunas com os nomes já padronizados - será feita essa última):"
   ]
  },
  {
   "cell_type": "code",
   "execution_count": 28,
   "metadata": {},
   "outputs": [
    {
     "data": {
      "text/html": [
       "<div>\n",
       "<style scoped>\n",
       "    .dataframe tbody tr th:only-of-type {\n",
       "        vertical-align: middle;\n",
       "    }\n",
       "\n",
       "    .dataframe tbody tr th {\n",
       "        vertical-align: top;\n",
       "    }\n",
       "\n",
       "    .dataframe thead th {\n",
       "        text-align: right;\n",
       "    }\n",
       "</style>\n",
       "<table border=\"1\" class=\"dataframe\">\n",
       "  <thead>\n",
       "    <tr style=\"text-align: right;\">\n",
       "      <th></th>\n",
       "      <th>Posição</th>\n",
       "      <th>Unidade federativa</th>\n",
       "      <th>População</th>\n",
       "      <th>% da pop. total</th>\n",
       "      <th>País comparável</th>\n",
       "      <th>populacao</th>\n",
       "      <th>uf</th>\n",
       "    </tr>\n",
       "  </thead>\n",
       "  <tbody>\n",
       "    <tr>\n",
       "      <th>1</th>\n",
       "      <td>1</td>\n",
       "      <td>São Paulo</td>\n",
       "      <td>46 289 333</td>\n",
       "      <td>21,9%</td>\n",
       "      <td>Flag of Spain.svg Espanha (46 439 864)</td>\n",
       "      <td>46 289 333</td>\n",
       "      <td>São Paulo</td>\n",
       "    </tr>\n",
       "    <tr>\n",
       "      <th>2</th>\n",
       "      <td>2</td>\n",
       "      <td>Minas Gerais</td>\n",
       "      <td>21 292 666</td>\n",
       "      <td>10,1%</td>\n",
       "      <td>Sri Lanka (20 675 000)</td>\n",
       "      <td>21 292 666</td>\n",
       "      <td>Minas Gerais</td>\n",
       "    </tr>\n",
       "    <tr>\n",
       "      <th>3</th>\n",
       "      <td>3</td>\n",
       "      <td>Rio de Janeiro</td>\n",
       "      <td>17 366 189</td>\n",
       "      <td>8,2%</td>\n",
       "      <td>Países Baixos (16 922 900)</td>\n",
       "      <td>17 366 189</td>\n",
       "      <td>Rio de Janeiro</td>\n",
       "    </tr>\n",
       "    <tr>\n",
       "      <th>4</th>\n",
       "      <td>4</td>\n",
       "      <td>Bahia Bahia</td>\n",
       "      <td>14 930 634</td>\n",
       "      <td>7,1%</td>\n",
       "      <td>Chade (14 037 000)</td>\n",
       "      <td>14 930 634</td>\n",
       "      <td>Bahia Bahia</td>\n",
       "    </tr>\n",
       "    <tr>\n",
       "      <th>5</th>\n",
       "      <td>5</td>\n",
       "      <td>Paraná</td>\n",
       "      <td>11 516 840</td>\n",
       "      <td>5,4%</td>\n",
       "      <td>Bolívia (11 410 651)</td>\n",
       "      <td>11 516 840</td>\n",
       "      <td>Paraná</td>\n",
       "    </tr>\n",
       "  </tbody>\n",
       "</table>\n",
       "</div>"
      ],
      "text/plain": [
       "  Posição Unidade federativa   População % da pop. total  \\\n",
       "1       1          São Paulo  46 289 333           21,9%   \n",
       "2       2       Minas Gerais  21 292 666           10,1%   \n",
       "3       3     Rio de Janeiro  17 366 189            8,2%   \n",
       "4       4        Bahia Bahia  14 930 634            7,1%   \n",
       "5       5             Paraná  11 516 840            5,4%   \n",
       "\n",
       "                          País comparável   populacao               uf  \n",
       "1  Flag of Spain.svg Espanha (46 439 864)  46 289 333        São Paulo  \n",
       "2                  Sri Lanka (20 675 000)  21 292 666     Minas Gerais  \n",
       "3              Países Baixos (16 922 900)  17 366 189   Rio de Janeiro  \n",
       "4                      Chade (14 037 000)  14 930 634      Bahia Bahia  \n",
       "5                    Bolívia (11 410 651)  11 516 840           Paraná  "
      ]
     },
     "execution_count": 28,
     "metadata": {},
     "output_type": "execute_result"
    }
   ],
   "source": [
    "populacao[\"populacao\"] = populacao[\"População\"]\n",
    "populacao[\"uf\"] = populacao[\"Unidade federativa\"]\n",
    "populacao.head()"
   ]
  },
  {
   "cell_type": "code",
   "execution_count": 29,
   "metadata": {},
   "outputs": [
    {
     "name": "stdout",
     "output_type": "stream",
     "text": [
      "<class 'pandas.core.frame.DataFrame'>\n",
      "Int64Index: 27 entries, 1 to 27\n",
      "Data columns (total 7 columns):\n",
      " #   Column              Non-Null Count  Dtype \n",
      "---  ------              --------------  ----- \n",
      " 0   Posição             27 non-null     object\n",
      " 1   Unidade federativa  27 non-null     object\n",
      " 2   População           27 non-null     object\n",
      " 3   % da pop. total     27 non-null     object\n",
      " 4   País comparável     27 non-null     object\n",
      " 5   populacao           27 non-null     object\n",
      " 6   uf                  27 non-null     object\n",
      "dtypes: object(7)\n",
      "memory usage: 1.7+ KB\n"
     ]
    }
   ],
   "source": [
    "populacao.info()"
   ]
  },
  {
   "cell_type": "markdown",
   "metadata": {
    "heading_collapsed": "true",
    "tags": []
   },
   "source": [
    "#### Observa-se que a coluna 'populacao' é objeto porque há ESPAÇOS entre os números. Retirar os espaços com **'str.replace'** e determinar a coluna como INT usando 'astype':"
   ]
  },
  {
   "cell_type": "code",
   "execution_count": 30,
   "metadata": {},
   "outputs": [],
   "source": [
    "populacao[\"populacao\"] = populacao[\"População\"].str.replace(\" \", \"\").astype(int)   # o replace trocou o espaço vazio por nada, eliminando-o"
   ]
  },
  {
   "cell_type": "code",
   "execution_count": 31,
   "metadata": {},
   "outputs": [
    {
     "name": "stdout",
     "output_type": "stream",
     "text": [
      "<class 'pandas.core.frame.DataFrame'>\n",
      "Int64Index: 27 entries, 1 to 27\n",
      "Data columns (total 7 columns):\n",
      " #   Column              Non-Null Count  Dtype \n",
      "---  ------              --------------  ----- \n",
      " 0   Posição             27 non-null     object\n",
      " 1   Unidade federativa  27 non-null     object\n",
      " 2   População           27 non-null     object\n",
      " 3   % da pop. total     27 non-null     object\n",
      " 4   País comparável     27 non-null     object\n",
      " 5   populacao           27 non-null     int32 \n",
      " 6   uf                  27 non-null     object\n",
      "dtypes: int32(1), object(6)\n",
      "memory usage: 1.6+ KB\n"
     ]
    }
   ],
   "source": [
    "populacao.info()"
   ]
  },
  {
   "cell_type": "markdown",
   "metadata": {
    "heading_collapsed": "true",
    "tags": []
   },
   "source": [
    "#### Para terminar vamos reduzir o dataframe apenas com as colunas 'populacao' e 'uf' e setar o índice como 'uf':"
   ]
  },
  {
   "cell_type": "code",
   "execution_count": 32,
   "metadata": {},
   "outputs": [
    {
     "data": {
      "text/html": [
       "<div>\n",
       "<style scoped>\n",
       "    .dataframe tbody tr th:only-of-type {\n",
       "        vertical-align: middle;\n",
       "    }\n",
       "\n",
       "    .dataframe tbody tr th {\n",
       "        vertical-align: top;\n",
       "    }\n",
       "\n",
       "    .dataframe thead th {\n",
       "        text-align: right;\n",
       "    }\n",
       "</style>\n",
       "<table border=\"1\" class=\"dataframe\">\n",
       "  <thead>\n",
       "    <tr style=\"text-align: right;\">\n",
       "      <th></th>\n",
       "      <th>populacao</th>\n",
       "    </tr>\n",
       "    <tr>\n",
       "      <th>uf</th>\n",
       "      <th></th>\n",
       "    </tr>\n",
       "  </thead>\n",
       "  <tbody>\n",
       "    <tr>\n",
       "      <th>São Paulo</th>\n",
       "      <td>46289333</td>\n",
       "    </tr>\n",
       "    <tr>\n",
       "      <th>Minas Gerais</th>\n",
       "      <td>21292666</td>\n",
       "    </tr>\n",
       "    <tr>\n",
       "      <th>Rio de Janeiro</th>\n",
       "      <td>17366189</td>\n",
       "    </tr>\n",
       "    <tr>\n",
       "      <th>Bahia Bahia</th>\n",
       "      <td>14930634</td>\n",
       "    </tr>\n",
       "    <tr>\n",
       "      <th>Paraná</th>\n",
       "      <td>11516840</td>\n",
       "    </tr>\n",
       "  </tbody>\n",
       "</table>\n",
       "</div>"
      ],
      "text/plain": [
       "                 populacao\n",
       "uf                        \n",
       " São Paulo        46289333\n",
       " Minas Gerais     21292666\n",
       " Rio de Janeiro   17366189\n",
       "Bahia Bahia       14930634\n",
       " Paraná           11516840"
      ]
     },
     "metadata": {},
     "output_type": "display_data"
    },
    {
     "name": "stdout",
     "output_type": "stream",
     "text": [
      "<class 'pandas.core.frame.DataFrame'>\n",
      "Index: 27 entries,  São Paulo to  Roraima\n",
      "Data columns (total 1 columns):\n",
      " #   Column     Non-Null Count  Dtype\n",
      "---  ------     --------------  -----\n",
      " 0   populacao  27 non-null     int32\n",
      "dtypes: int32(1)\n",
      "memory usage: 324.0+ bytes\n"
     ]
    },
    {
     "data": {
      "text/plain": [
       "None"
      ]
     },
     "metadata": {},
     "output_type": "display_data"
    }
   ],
   "source": [
    "populacao = populacao[['populacao', 'uf']].set_index('uf')\n",
    "display(populacao.head())\n",
    "display(populacao.info())   # o 'display' permite que o head e o info sejam visualizados no mesmo bloco, sem precisar usar duas linhas diferentes"
   ]
  },
  {
   "cell_type": "markdown",
   "metadata": {
    "heading_collapsed": "true",
    "tags": []
   },
   "source": [
    "#### O passo é juntar o DF do gasto do mês mais recente com o DF populacao\n",
    "Para isso vamos investigar o head do gasto do mês mais recente e observar o seu índice:"
   ]
  },
  {
   "cell_type": "code",
   "execution_count": 33,
   "metadata": {},
   "outputs": [
    {
     "data": {
      "text/plain": [
       "Unidade da Federação\n",
       "35 São Paulo        177.41\n",
       "31 Minas Gerais      79.78\n",
       "33 Rio de Janeiro    49.15\n",
       "41 Paraná            43.48\n",
       "26 Pernambuco        39.47\n",
       "Name: 2021/Mar, dtype: float64"
      ]
     },
     "execution_count": 33,
     "metadata": {},
     "output_type": "execute_result"
    }
   ],
   "source": [
    "gastos_do_mais_recente.head()"
   ]
  },
  {
   "cell_type": "markdown",
   "metadata": {
    "heading_collapsed": "true",
    "tags": []
   },
   "source": [
    "#### Para juntar (join) os índices tem que ser os mesmos e percebe-se que o índice do gasto_do_mais_recente começa com 2 números 1 espaço antes do nome do Estado. Vamos retirar isso com SLICE  de STR:"
   ]
  },
  {
   "cell_type": "code",
   "execution_count": 34,
   "metadata": {},
   "outputs": [
    {
     "data": {
      "text/plain": [
       "Unidade da Federação\n",
       "São Paulo        177.41\n",
       "Minas Gerais      79.78\n",
       "Rio de Janeiro    49.15\n",
       "Paraná            43.48\n",
       "Pernambuco        39.47\n",
       "Name: 2021/Mar, dtype: float64"
      ]
     },
     "execution_count": 34,
     "metadata": {},
     "output_type": "execute_result"
    }
   ],
   "source": [
    "gastos_do_mais_recente.index = gastos_do_mais_recente.index.str[3:]\n",
    "gastos_do_mais_recente.head()"
   ]
  },
  {
   "cell_type": "markdown",
   "metadata": {
    "heading_collapsed": "true",
    "tags": []
   },
   "source": [
    "#### Agora vamos tentar unir os DF populacao e gastos_do_mais_recente usando o índice do nome dos Estados que parece ser igual (mas não é...):"
   ]
  },
  {
   "cell_type": "code",
   "execution_count": 35,
   "metadata": {},
   "outputs": [
    {
     "data": {
      "text/html": [
       "<div>\n",
       "<style scoped>\n",
       "    .dataframe tbody tr th:only-of-type {\n",
       "        vertical-align: middle;\n",
       "    }\n",
       "\n",
       "    .dataframe tbody tr th {\n",
       "        vertical-align: top;\n",
       "    }\n",
       "\n",
       "    .dataframe thead th {\n",
       "        text-align: right;\n",
       "    }\n",
       "</style>\n",
       "<table border=\"1\" class=\"dataframe\">\n",
       "  <thead>\n",
       "    <tr style=\"text-align: right;\">\n",
       "      <th></th>\n",
       "      <th>populacao</th>\n",
       "      <th>2021/Mar</th>\n",
       "    </tr>\n",
       "    <tr>\n",
       "      <th>uf</th>\n",
       "      <th></th>\n",
       "      <th></th>\n",
       "    </tr>\n",
       "  </thead>\n",
       "  <tbody>\n",
       "    <tr>\n",
       "      <th>São Paulo</th>\n",
       "      <td>46289333</td>\n",
       "      <td>NaN</td>\n",
       "    </tr>\n",
       "    <tr>\n",
       "      <th>Minas Gerais</th>\n",
       "      <td>21292666</td>\n",
       "      <td>NaN</td>\n",
       "    </tr>\n",
       "    <tr>\n",
       "      <th>Rio de Janeiro</th>\n",
       "      <td>17366189</td>\n",
       "      <td>NaN</td>\n",
       "    </tr>\n",
       "    <tr>\n",
       "      <th>Bahia Bahia</th>\n",
       "      <td>14930634</td>\n",
       "      <td>NaN</td>\n",
       "    </tr>\n",
       "    <tr>\n",
       "      <th>Paraná</th>\n",
       "      <td>11516840</td>\n",
       "      <td>NaN</td>\n",
       "    </tr>\n",
       "  </tbody>\n",
       "</table>\n",
       "</div>"
      ],
      "text/plain": [
       "                 populacao  2021/Mar\n",
       "uf                                  \n",
       " São Paulo        46289333       NaN\n",
       " Minas Gerais     21292666       NaN\n",
       " Rio de Janeiro   17366189       NaN\n",
       "Bahia Bahia       14930634       NaN\n",
       " Paraná           11516840       NaN"
      ]
     },
     "execution_count": 35,
     "metadata": {},
     "output_type": "execute_result"
    }
   ],
   "source": [
    "gastos_e_populacao_recente = populacao.join(gastos_do_mais_recente)\n",
    "gastos_e_populacao_recente.head()"
   ]
  },
  {
   "cell_type": "markdown",
   "metadata": {},
   "source": [
    "Vejam que não funcionou - há NaN na coluna do mes mais recente, ao invés dos valores dos gastos, indicando que os índices não estão iguais."
   ]
  },
  {
   "cell_type": "markdown",
   "metadata": {
    "heading_collapsed": "true",
    "tags": []
   },
   "source": [
    "#### Investigando os índices dos DFs que tentou unir-se com Join para tentar achar erros:"
   ]
  },
  {
   "cell_type": "code",
   "execution_count": 36,
   "metadata": {},
   "outputs": [
    {
     "data": {
      "text/plain": [
       "Index([' São Paulo', ' Minas Gerais', ' Rio de Janeiro', 'Bahia Bahia',\n",
       "       ' Paraná', ' Rio Grande do Sul', ' Pernambuco', ' Ceará', 'Pará Pará',\n",
       "       ' Santa Catarina', ' Maranhão', ' Goiás', ' Amazonas',\n",
       "       ' Espírito Santo', ' Paraíba', ' Rio Grande do Norte', ' Mato Grosso',\n",
       "       ' Alagoas', ' Piauí', ' Distrito Federal', ' Mato Grosso do Sul',\n",
       "       ' Sergipe', ' Rondônia', ' Tocantins', ' Acre', ' Amapá', ' Roraima'],\n",
       "      dtype='object', name='uf')"
      ]
     },
     "execution_count": 36,
     "metadata": {},
     "output_type": "execute_result"
    }
   ],
   "source": [
    "populacao.index"
   ]
  },
  {
   "cell_type": "markdown",
   "metadata": {
    "heading_collapsed": "true",
    "tags": []
   },
   "source": [
    "#### Observa-se no índice de população que há ESPAÇO antes do nome dos Estados. Vamos retirá-los com a funçao STRIP de STR que elimina espaços no início e no final:"
   ]
  },
  {
   "cell_type": "code",
   "execution_count": 37,
   "metadata": {},
   "outputs": [
    {
     "data": {
      "text/plain": [
       "Index(['São Paulo', 'Minas Gerais', 'Rio de Janeiro', 'Bahia Bahia', 'Paraná',\n",
       "       'Rio Grande do Sul', 'Pernambuco', 'Ceará', 'Pará Pará',\n",
       "       'Santa Catarina', 'Maranhão', 'Goiás', 'Amazonas', 'Espírito Santo',\n",
       "       'Paraíba', 'Rio Grande do Norte', 'Mato Grosso', 'Alagoas', 'Piauí',\n",
       "       'Distrito Federal', 'Mato Grosso do Sul', 'Sergipe', 'Rondônia',\n",
       "       'Tocantins', 'Acre', 'Amapá', 'Roraima'],\n",
       "      dtype='object', name='uf')"
      ]
     },
     "execution_count": 37,
     "metadata": {},
     "output_type": "execute_result"
    }
   ],
   "source": [
    "populacao.index = populacao.index.str.strip()\n",
    "populacao.index"
   ]
  },
  {
   "cell_type": "markdown",
   "metadata": {
    "heading_collapsed": "true",
    "tags": []
   },
   "source": [
    "#### Nova tentativa de Join:"
   ]
  },
  {
   "cell_type": "code",
   "execution_count": 38,
   "metadata": {},
   "outputs": [
    {
     "data": {
      "text/html": [
       "<div>\n",
       "<style scoped>\n",
       "    .dataframe tbody tr th:only-of-type {\n",
       "        vertical-align: middle;\n",
       "    }\n",
       "\n",
       "    .dataframe tbody tr th {\n",
       "        vertical-align: top;\n",
       "    }\n",
       "\n",
       "    .dataframe thead th {\n",
       "        text-align: right;\n",
       "    }\n",
       "</style>\n",
       "<table border=\"1\" class=\"dataframe\">\n",
       "  <thead>\n",
       "    <tr style=\"text-align: right;\">\n",
       "      <th></th>\n",
       "      <th>populacao</th>\n",
       "      <th>2021/Mar</th>\n",
       "    </tr>\n",
       "    <tr>\n",
       "      <th>uf</th>\n",
       "      <th></th>\n",
       "      <th></th>\n",
       "    </tr>\n",
       "  </thead>\n",
       "  <tbody>\n",
       "    <tr>\n",
       "      <th>São Paulo</th>\n",
       "      <td>46289333</td>\n",
       "      <td>177.41</td>\n",
       "    </tr>\n",
       "    <tr>\n",
       "      <th>Minas Gerais</th>\n",
       "      <td>21292666</td>\n",
       "      <td>79.78</td>\n",
       "    </tr>\n",
       "    <tr>\n",
       "      <th>Rio de Janeiro</th>\n",
       "      <td>17366189</td>\n",
       "      <td>49.15</td>\n",
       "    </tr>\n",
       "    <tr>\n",
       "      <th>Bahia Bahia</th>\n",
       "      <td>14930634</td>\n",
       "      <td>NaN</td>\n",
       "    </tr>\n",
       "    <tr>\n",
       "      <th>Paraná</th>\n",
       "      <td>11516840</td>\n",
       "      <td>43.48</td>\n",
       "    </tr>\n",
       "    <tr>\n",
       "      <th>Rio Grande do Sul</th>\n",
       "      <td>11422973</td>\n",
       "      <td>37.80</td>\n",
       "    </tr>\n",
       "    <tr>\n",
       "      <th>Pernambuco</th>\n",
       "      <td>9616621</td>\n",
       "      <td>39.47</td>\n",
       "    </tr>\n",
       "    <tr>\n",
       "      <th>Ceará</th>\n",
       "      <td>9187103</td>\n",
       "      <td>17.17</td>\n",
       "    </tr>\n",
       "    <tr>\n",
       "      <th>Pará Pará</th>\n",
       "      <td>8690745</td>\n",
       "      <td>NaN</td>\n",
       "    </tr>\n",
       "    <tr>\n",
       "      <th>Santa Catarina</th>\n",
       "      <td>7252502</td>\n",
       "      <td>19.38</td>\n",
       "    </tr>\n",
       "    <tr>\n",
       "      <th>Maranhão</th>\n",
       "      <td>7114598</td>\n",
       "      <td>17.29</td>\n",
       "    </tr>\n",
       "    <tr>\n",
       "      <th>Goiás</th>\n",
       "      <td>7113540</td>\n",
       "      <td>24.87</td>\n",
       "    </tr>\n",
       "    <tr>\n",
       "      <th>Amazonas</th>\n",
       "      <td>4207714</td>\n",
       "      <td>6.80</td>\n",
       "    </tr>\n",
       "    <tr>\n",
       "      <th>Espírito Santo</th>\n",
       "      <td>4064052</td>\n",
       "      <td>15.61</td>\n",
       "    </tr>\n",
       "    <tr>\n",
       "      <th>Paraíba</th>\n",
       "      <td>4039277</td>\n",
       "      <td>12.52</td>\n",
       "    </tr>\n",
       "    <tr>\n",
       "      <th>Rio Grande do Norte</th>\n",
       "      <td>3534165</td>\n",
       "      <td>8.73</td>\n",
       "    </tr>\n",
       "    <tr>\n",
       "      <th>Mato Grosso</th>\n",
       "      <td>3526220</td>\n",
       "      <td>8.84</td>\n",
       "    </tr>\n",
       "    <tr>\n",
       "      <th>Alagoas</th>\n",
       "      <td>3351543</td>\n",
       "      <td>8.18</td>\n",
       "    </tr>\n",
       "    <tr>\n",
       "      <th>Piauí</th>\n",
       "      <td>3281480</td>\n",
       "      <td>9.54</td>\n",
       "    </tr>\n",
       "    <tr>\n",
       "      <th>Distrito Federal</th>\n",
       "      <td>3055149</td>\n",
       "      <td>14.73</td>\n",
       "    </tr>\n",
       "    <tr>\n",
       "      <th>Mato Grosso do Sul</th>\n",
       "      <td>2809394</td>\n",
       "      <td>4.04</td>\n",
       "    </tr>\n",
       "    <tr>\n",
       "      <th>Sergipe</th>\n",
       "      <td>2318822</td>\n",
       "      <td>3.08</td>\n",
       "    </tr>\n",
       "    <tr>\n",
       "      <th>Rondônia</th>\n",
       "      <td>1796460</td>\n",
       "      <td>4.73</td>\n",
       "    </tr>\n",
       "    <tr>\n",
       "      <th>Tocantins</th>\n",
       "      <td>1590248</td>\n",
       "      <td>0.93</td>\n",
       "    </tr>\n",
       "    <tr>\n",
       "      <th>Acre</th>\n",
       "      <td>894470</td>\n",
       "      <td>1.14</td>\n",
       "    </tr>\n",
       "    <tr>\n",
       "      <th>Amapá</th>\n",
       "      <td>861773</td>\n",
       "      <td>0.99</td>\n",
       "    </tr>\n",
       "    <tr>\n",
       "      <th>Roraima</th>\n",
       "      <td>631181</td>\n",
       "      <td>2.38</td>\n",
       "    </tr>\n",
       "  </tbody>\n",
       "</table>\n",
       "</div>"
      ],
      "text/plain": [
       "                     populacao  2021/Mar\n",
       "uf                                      \n",
       "São Paulo             46289333    177.41\n",
       "Minas Gerais          21292666     79.78\n",
       "Rio de Janeiro        17366189     49.15\n",
       "Bahia Bahia           14930634       NaN\n",
       "Paraná                11516840     43.48\n",
       "Rio Grande do Sul     11422973     37.80\n",
       "Pernambuco             9616621     39.47\n",
       "Ceará                  9187103     17.17\n",
       "Pará Pará              8690745       NaN\n",
       "Santa Catarina         7252502     19.38\n",
       "Maranhão               7114598     17.29\n",
       "Goiás                  7113540     24.87\n",
       "Amazonas               4207714      6.80\n",
       "Espírito Santo         4064052     15.61\n",
       "Paraíba                4039277     12.52\n",
       "Rio Grande do Norte    3534165      8.73\n",
       "Mato Grosso            3526220      8.84\n",
       "Alagoas                3351543      8.18\n",
       "Piauí                  3281480      9.54\n",
       "Distrito Federal       3055149     14.73\n",
       "Mato Grosso do Sul     2809394      4.04\n",
       "Sergipe                2318822      3.08\n",
       "Rondônia               1796460      4.73\n",
       "Tocantins              1590248      0.93\n",
       "Acre                    894470      1.14\n",
       "Amapá                   861773      0.99\n",
       "Roraima                 631181      2.38"
      ]
     },
     "execution_count": 38,
     "metadata": {},
     "output_type": "execute_result"
    }
   ],
   "source": [
    "gastos_e_populacao_recente = populacao.join(gastos_do_mais_recente)\n",
    "gastos_e_populacao_recente"
   ]
  },
  {
   "cell_type": "markdown",
   "metadata": {
    "heading_collapsed": "true",
    "tags": []
   },
   "source": [
    "#### Observou-se acima que as linhas de Bahia e Pará continuam com NaN porque os nomes dos Estados estavam duplicados (ao copiar a tabela na wikipedia o nome veio junto pela função html de \"alt\" que estava ativa nesse estados na página. Para corrigir:"
   ]
  },
  {
   "cell_type": "markdown",
   "metadata": {},
   "source": [
    "Criamos um laço para 'estado' relacionando-o ao índice do DF 'gastos...' que tem os nomes corretos. Em seguida usamos 'replace' para trocar o índice do DF 'populacao' para quaisquer nomes de estados duplicados (estado estado) apenas por um 'estado':"
   ]
  },
  {
   "cell_type": "code",
   "execution_count": 39,
   "metadata": {},
   "outputs": [
    {
     "data": {
      "text/plain": [
       "Index(['São Paulo', 'Minas Gerais', 'Rio de Janeiro', 'Bahia', 'Paraná',\n",
       "       'Rio Grande do Sul', 'Pernambuco', 'Ceará', 'Pará', 'Santa Catarina',\n",
       "       'Maranhão', 'Goiás', 'Amazonas', 'Espírito Santo', 'Paraíba',\n",
       "       'Rio Grande do Norte', 'Mato Grosso', 'Alagoas', 'Piauí',\n",
       "       'Distrito Federal', 'Mato Grosso do Sul', 'Sergipe', 'Rondônia',\n",
       "       'Tocantins', 'Acre', 'Amapá', 'Roraima'],\n",
       "      dtype='object', name='uf')"
      ]
     },
     "execution_count": 39,
     "metadata": {},
     "output_type": "execute_result"
    }
   ],
   "source": [
    "for estado in gastos_do_mais_recente.index:\n",
    "  # print(f\"{estado} {estado} => {estado}\")\n",
    "  populacao.index = populacao.index.str.replace(f\"{estado} {estado}\", estado)\n",
    "populacao.index"
   ]
  },
  {
   "cell_type": "markdown",
   "metadata": {
    "heading_collapsed": "true",
    "tags": []
   },
   "source": [
    "#### Agora com os índices iguais, novamente o JOIN para juntas os DFs em um novo chamado gastos_e_populacao_recente:"
   ]
  },
  {
   "cell_type": "code",
   "execution_count": 40,
   "metadata": {},
   "outputs": [
    {
     "data": {
      "text/html": [
       "<div>\n",
       "<style scoped>\n",
       "    .dataframe tbody tr th:only-of-type {\n",
       "        vertical-align: middle;\n",
       "    }\n",
       "\n",
       "    .dataframe tbody tr th {\n",
       "        vertical-align: top;\n",
       "    }\n",
       "\n",
       "    .dataframe thead th {\n",
       "        text-align: right;\n",
       "    }\n",
       "</style>\n",
       "<table border=\"1\" class=\"dataframe\">\n",
       "  <thead>\n",
       "    <tr style=\"text-align: right;\">\n",
       "      <th></th>\n",
       "      <th>populacao</th>\n",
       "      <th>2021/Mar</th>\n",
       "    </tr>\n",
       "    <tr>\n",
       "      <th>uf</th>\n",
       "      <th></th>\n",
       "      <th></th>\n",
       "    </tr>\n",
       "  </thead>\n",
       "  <tbody>\n",
       "    <tr>\n",
       "      <th>São Paulo</th>\n",
       "      <td>46289333</td>\n",
       "      <td>177.41</td>\n",
       "    </tr>\n",
       "    <tr>\n",
       "      <th>Minas Gerais</th>\n",
       "      <td>21292666</td>\n",
       "      <td>79.78</td>\n",
       "    </tr>\n",
       "    <tr>\n",
       "      <th>Rio de Janeiro</th>\n",
       "      <td>17366189</td>\n",
       "      <td>49.15</td>\n",
       "    </tr>\n",
       "    <tr>\n",
       "      <th>Bahia</th>\n",
       "      <td>14930634</td>\n",
       "      <td>31.31</td>\n",
       "    </tr>\n",
       "    <tr>\n",
       "      <th>Paraná</th>\n",
       "      <td>11516840</td>\n",
       "      <td>43.48</td>\n",
       "    </tr>\n",
       "    <tr>\n",
       "      <th>Rio Grande do Sul</th>\n",
       "      <td>11422973</td>\n",
       "      <td>37.80</td>\n",
       "    </tr>\n",
       "    <tr>\n",
       "      <th>Pernambuco</th>\n",
       "      <td>9616621</td>\n",
       "      <td>39.47</td>\n",
       "    </tr>\n",
       "    <tr>\n",
       "      <th>Ceará</th>\n",
       "      <td>9187103</td>\n",
       "      <td>17.17</td>\n",
       "    </tr>\n",
       "    <tr>\n",
       "      <th>Pará</th>\n",
       "      <td>8690745</td>\n",
       "      <td>13.07</td>\n",
       "    </tr>\n",
       "    <tr>\n",
       "      <th>Santa Catarina</th>\n",
       "      <td>7252502</td>\n",
       "      <td>19.38</td>\n",
       "    </tr>\n",
       "    <tr>\n",
       "      <th>Maranhão</th>\n",
       "      <td>7114598</td>\n",
       "      <td>17.29</td>\n",
       "    </tr>\n",
       "    <tr>\n",
       "      <th>Goiás</th>\n",
       "      <td>7113540</td>\n",
       "      <td>24.87</td>\n",
       "    </tr>\n",
       "    <tr>\n",
       "      <th>Amazonas</th>\n",
       "      <td>4207714</td>\n",
       "      <td>6.80</td>\n",
       "    </tr>\n",
       "    <tr>\n",
       "      <th>Espírito Santo</th>\n",
       "      <td>4064052</td>\n",
       "      <td>15.61</td>\n",
       "    </tr>\n",
       "    <tr>\n",
       "      <th>Paraíba</th>\n",
       "      <td>4039277</td>\n",
       "      <td>12.52</td>\n",
       "    </tr>\n",
       "    <tr>\n",
       "      <th>Rio Grande do Norte</th>\n",
       "      <td>3534165</td>\n",
       "      <td>8.73</td>\n",
       "    </tr>\n",
       "    <tr>\n",
       "      <th>Mato Grosso</th>\n",
       "      <td>3526220</td>\n",
       "      <td>8.84</td>\n",
       "    </tr>\n",
       "    <tr>\n",
       "      <th>Alagoas</th>\n",
       "      <td>3351543</td>\n",
       "      <td>8.18</td>\n",
       "    </tr>\n",
       "    <tr>\n",
       "      <th>Piauí</th>\n",
       "      <td>3281480</td>\n",
       "      <td>9.54</td>\n",
       "    </tr>\n",
       "    <tr>\n",
       "      <th>Distrito Federal</th>\n",
       "      <td>3055149</td>\n",
       "      <td>14.73</td>\n",
       "    </tr>\n",
       "    <tr>\n",
       "      <th>Mato Grosso do Sul</th>\n",
       "      <td>2809394</td>\n",
       "      <td>4.04</td>\n",
       "    </tr>\n",
       "    <tr>\n",
       "      <th>Sergipe</th>\n",
       "      <td>2318822</td>\n",
       "      <td>3.08</td>\n",
       "    </tr>\n",
       "    <tr>\n",
       "      <th>Rondônia</th>\n",
       "      <td>1796460</td>\n",
       "      <td>4.73</td>\n",
       "    </tr>\n",
       "    <tr>\n",
       "      <th>Tocantins</th>\n",
       "      <td>1590248</td>\n",
       "      <td>0.93</td>\n",
       "    </tr>\n",
       "    <tr>\n",
       "      <th>Acre</th>\n",
       "      <td>894470</td>\n",
       "      <td>1.14</td>\n",
       "    </tr>\n",
       "    <tr>\n",
       "      <th>Amapá</th>\n",
       "      <td>861773</td>\n",
       "      <td>0.99</td>\n",
       "    </tr>\n",
       "    <tr>\n",
       "      <th>Roraima</th>\n",
       "      <td>631181</td>\n",
       "      <td>2.38</td>\n",
       "    </tr>\n",
       "  </tbody>\n",
       "</table>\n",
       "</div>"
      ],
      "text/plain": [
       "                     populacao  2021/Mar\n",
       "uf                                      \n",
       "São Paulo             46289333    177.41\n",
       "Minas Gerais          21292666     79.78\n",
       "Rio de Janeiro        17366189     49.15\n",
       "Bahia                 14930634     31.31\n",
       "Paraná                11516840     43.48\n",
       "Rio Grande do Sul     11422973     37.80\n",
       "Pernambuco             9616621     39.47\n",
       "Ceará                  9187103     17.17\n",
       "Pará                   8690745     13.07\n",
       "Santa Catarina         7252502     19.38\n",
       "Maranhão               7114598     17.29\n",
       "Goiás                  7113540     24.87\n",
       "Amazonas               4207714      6.80\n",
       "Espírito Santo         4064052     15.61\n",
       "Paraíba                4039277     12.52\n",
       "Rio Grande do Norte    3534165      8.73\n",
       "Mato Grosso            3526220      8.84\n",
       "Alagoas                3351543      8.18\n",
       "Piauí                  3281480      9.54\n",
       "Distrito Federal       3055149     14.73\n",
       "Mato Grosso do Sul     2809394      4.04\n",
       "Sergipe                2318822      3.08\n",
       "Rondônia               1796460      4.73\n",
       "Tocantins              1590248      0.93\n",
       "Acre                    894470      1.14\n",
       "Amapá                   861773      0.99\n",
       "Roraima                 631181      2.38"
      ]
     },
     "execution_count": 40,
     "metadata": {},
     "output_type": "execute_result"
    }
   ],
   "source": [
    "gastos_e_populacao_recente = populacao.join(gastos_do_mais_recente)\n",
    "gastos_e_populacao_recente"
   ]
  },
  {
   "cell_type": "markdown",
   "metadata": {},
   "source": [
    "***\n",
    "***"
   ]
  },
  {
   "cell_type": "markdown",
   "metadata": {
    "heading_collapsed": "true",
    "tags": []
   },
   "source": [
    "### Desafios Aula 1 - Módulo 2\n",
    "***\n",
    "***"
   ]
  },
  {
   "cell_type": "markdown",
   "metadata": {
    "tags": []
   },
   "source": [
    "#### Desafio 1 Aula 1: Ler diretamente da página web o arquivo da tabela de população do wikipedia (html)."
   ]
  },
  {
   "cell_type": "markdown",
   "metadata": {},
   "source": [
    "Vamos usar a função pd.read_html ():"
   ]
  },
  {
   "cell_type": "code",
   "execution_count": 41,
   "metadata": {},
   "outputs": [],
   "source": [
    "import pandas as pd\n",
    "import numpy as np\n",
    "import matplotlib.pyplot as plt\n",
    "from unicodedata import normalize"
   ]
  },
  {
   "cell_type": "markdown",
   "metadata": {},
   "source": [
    " Erro ao tentar importar: ImportError: lxml not found, please install it . Instalado agora"
   ]
  },
  {
   "cell_type": "code",
   "execution_count": 42,
   "metadata": {},
   "outputs": [
    {
     "name": "stdout",
     "output_type": "stream",
     "text": [
      "Requirement already satisfied: lxml in c:\\users\\mago7\\anaconda3\\lib\\site-packages (4.6.3)\n",
      "Note: you may need to restart the kernel to use updated packages.\n"
     ]
    }
   ],
   "source": [
    "pip install lxml  "
   ]
  },
  {
   "cell_type": "code",
   "execution_count": 43,
   "metadata": {
    "tags": []
   },
   "outputs": [],
   "source": [
    "tabela_pop_estados = pd.read_html('https://pt.wikipedia.org/wiki/Lista_de_unidades_federativas_do_Brasil_por_popula%C3%A7%C3%A3o')"
   ]
  },
  {
   "cell_type": "markdown",
   "metadata": {},
   "source": [
    "Verificando o total de tabelas que foram trazidas:"
   ]
  },
  {
   "cell_type": "code",
   "execution_count": 44,
   "metadata": {},
   "outputs": [
    {
     "name": "stdout",
     "output_type": "stream",
     "text": [
      "Total tables: 5\n"
     ]
    }
   ],
   "source": [
    "print(f'Total tables: {len(tabela_pop_estados)}')   # o f no print junta dois comandos internos, no caso o no total... com o len..."
   ]
  },
  {
   "cell_type": "markdown",
   "metadata": {},
   "source": [
    "ImportError: html5lib not found, please install it . html5lib instalado  // ImportError: BeautifulSoup4 (bs4) not found, please install it. Instalado"
   ]
  },
  {
   "cell_type": "code",
   "execution_count": 45,
   "metadata": {},
   "outputs": [
    {
     "name": "stdout",
     "output_type": "stream",
     "text": [
      "Requirement already satisfied: html5lib in c:\\users\\mago7\\anaconda3\\lib\\site-packages (1.1)\n",
      "Requirement already satisfied: six>=1.9 in c:\\users\\mago7\\anaconda3\\lib\\site-packages (from html5lib) (1.15.0)\n",
      "Requirement already satisfied: webencodings in c:\\users\\mago7\\anaconda3\\lib\\site-packages (from html5lib) (0.5.1)\n",
      "Note: you may need to restart the kernel to use updated packages.\n"
     ]
    }
   ],
   "source": [
    "pip install html5lib   "
   ]
  },
  {
   "cell_type": "code",
   "execution_count": 46,
   "metadata": {},
   "outputs": [
    {
     "name": "stdout",
     "output_type": "stream",
     "text": [
      "Requirement already satisfied: BeautifulSoup4 in c:\\users\\mago7\\anaconda3\\lib\\site-packages (4.9.3)\n",
      "Requirement already satisfied: soupsieve>1.2 in c:\\users\\mago7\\anaconda3\\lib\\site-packages (from BeautifulSoup4) (2.2.1)\n",
      "Note: you may need to restart the kernel to use updated packages.\n"
     ]
    }
   ],
   "source": [
    "pip install BeautifulSoup4"
   ]
  },
  {
   "cell_type": "markdown",
   "metadata": {},
   "source": [
    "Encontradas 5 tabelas na página html acima. Tentar estabelecer apenas a tabela de interesse com 'Match' de palavra ou expressão que só tenha na tabela de interesse:"
   ]
  },
  {
   "cell_type": "code",
   "execution_count": 47,
   "metadata": {},
   "outputs": [],
   "source": [
    "tabela_pop_estados = pd.read_html('https://pt.wikipedia.org/wiki/Lista_de_unidades_federativas_do_Brasil_por_popula%C3%A7%C3%A3o', match='Unidade federativa')"
   ]
  },
  {
   "cell_type": "code",
   "execution_count": 48,
   "metadata": {},
   "outputs": [
    {
     "data": {
      "text/plain": [
       "1"
      ]
     },
     "execution_count": 48,
     "metadata": {},
     "output_type": "execute_result"
    }
   ],
   "source": [
    "len(tabela_pop_estados)  # agora apemas 1 tabela veio"
   ]
  },
  {
   "cell_type": "markdown",
   "metadata": {},
   "source": [
    "Testando a tabela importada da página da wikipedia:"
   ]
  },
  {
   "cell_type": "code",
   "execution_count": 49,
   "metadata": {},
   "outputs": [
    {
     "data": {
      "text/plain": [
       "[    Posição   Unidade federativa   População % da pop. total  \\\n",
       " 0         1            São Paulo  46 289 333           21,9%   \n",
       " 1         2         Minas Gerais  21 292 666           10,1%   \n",
       " 2         3       Rio de Janeiro  17 366 189            8,2%   \n",
       " 3         4                Bahia  14 930 634            7,1%   \n",
       " 4         5               Paraná  11 516 840            5,4%   \n",
       " 5         6    Rio Grande do Sul  11 422 973            5,4%   \n",
       " 6         7           Pernambuco   9 616 621            4,5%   \n",
       " 7         8                Ceará   9 187 103            4,3%   \n",
       " 8         9                 Pará   8 690 745            4,1%   \n",
       " 9        10       Santa Catarina   7 252 502            3,4%   \n",
       " 10       11             Maranhão   7 114 598            3,4%   \n",
       " 11       12                Goiás   7 113 540            3,4%   \n",
       " 12       13             Amazonas   4 207 714            2,0%   \n",
       " 13       14       Espírito Santo   4 064 052            1,9%   \n",
       " 14       15              Paraíba   4 039 277            1,9%   \n",
       " 15       16  Rio Grande do Norte   3 534 165            1,7%   \n",
       " 16       17          Mato Grosso   3 526 220            1,7%   \n",
       " 17       18              Alagoas   3 351 543            1,6%   \n",
       " 18       19                Piauí   3 281 480            1,6%   \n",
       " 19       20     Distrito Federal   3 055 149            1,4%   \n",
       " 20       21   Mato Grosso do Sul   2 809 394            1,3%   \n",
       " 21       22              Sergipe   2 318 822            1,1%   \n",
       " 22       23             Rondônia   1 796 460            0,8%   \n",
       " 23       24            Tocantins   1 590 248            0,7%   \n",
       " 24       25                 Acre     894 470            0,4%   \n",
       " 25       26                Amapá     861 773            0,4%   \n",
       " 26       27              Roraima     631 181            0,3%   \n",
       " \n",
       "           País comparável (habitantes)  \n",
       " 0                 Espanha (46 439 864)  \n",
       " 1               Sri Lanka (20 675 000)  \n",
       " 2           Países Baixos (16 922 900)  \n",
       " 3                   Chade (14 037 000)  \n",
       " 4                 Bolívia (11 410 651)  \n",
       " 5                 Bélgica (11 250 659)  \n",
       " 6             Bielorrússia (9 485 300)  \n",
       " 7   Emirados Árabes Unidos (9 157 000)  \n",
       " 8                  Áustria (8 602 112)  \n",
       " 9                   Sérvia (7 114 393)  \n",
       " 10                Paraguai (7 003 406)  \n",
       " 11                Paraguai (7 003 406)  \n",
       " 12                  Líbano (4 168 000)  \n",
       " 13                  Líbano (4 168 000)  \n",
       " 14                  Líbano (4 168 000)  \n",
       " 15                 Uruguai (3 415 866)  \n",
       " 16                 Uruguai (3 415 866)  \n",
       " 17                 Uruguai (3 415 866)  \n",
       " 18                  Kuwait (3 268 431)  \n",
       " 19                Lituânia (2 900 787)  \n",
       " 20                 Jamaica (2 717 991)  \n",
       " 21                 Namíbia (2 280 700)  \n",
       " 22                   Gabão (1 725 000)  \n",
       " 23                 Bahrein (1 359 800)  \n",
       " 24                      Fiji (859 178)  \n",
       " 25                      Fiji (859 178)  \n",
       " 26                Luxemburgo (562 958)  ]"
      ]
     },
     "execution_count": 49,
     "metadata": {},
     "output_type": "execute_result"
    }
   ],
   "source": [
    "tabela_pop_estados"
   ]
  },
  {
   "cell_type": "markdown",
   "metadata": {},
   "source": [
    "A tabela está correta. Agora transformar em DataFrame:"
   ]
  },
  {
   "cell_type": "code",
   "execution_count": 50,
   "metadata": {},
   "outputs": [
    {
     "name": "stdout",
     "output_type": "stream",
     "text": [
      "<class 'pandas.core.frame.DataFrame'>\n",
      "RangeIndex: 27 entries, 0 to 26\n",
      "Data columns (total 5 columns):\n",
      " #   Column                        Non-Null Count  Dtype \n",
      "---  ------                        --------------  ----- \n",
      " 0   Posição                       27 non-null     int64 \n",
      " 1   Unidade federativa            27 non-null     object\n",
      " 2   População                     27 non-null     object\n",
      " 3   % da pop. total               27 non-null     object\n",
      " 4   País comparável (habitantes)  27 non-null     object\n",
      "dtypes: int64(1), object(4)\n",
      "memory usage: 1.2+ KB\n"
     ]
    },
    {
     "data": {
      "text/html": [
       "<div>\n",
       "<style scoped>\n",
       "    .dataframe tbody tr th:only-of-type {\n",
       "        vertical-align: middle;\n",
       "    }\n",
       "\n",
       "    .dataframe tbody tr th {\n",
       "        vertical-align: top;\n",
       "    }\n",
       "\n",
       "    .dataframe thead th {\n",
       "        text-align: right;\n",
       "    }\n",
       "</style>\n",
       "<table border=\"1\" class=\"dataframe\">\n",
       "  <thead>\n",
       "    <tr style=\"text-align: right;\">\n",
       "      <th></th>\n",
       "      <th>Posição</th>\n",
       "      <th>Unidade federativa</th>\n",
       "      <th>População</th>\n",
       "      <th>% da pop. total</th>\n",
       "      <th>País comparável (habitantes)</th>\n",
       "    </tr>\n",
       "  </thead>\n",
       "  <tbody>\n",
       "    <tr>\n",
       "      <th>0</th>\n",
       "      <td>1</td>\n",
       "      <td>São Paulo</td>\n",
       "      <td>46 289 333</td>\n",
       "      <td>21,9%</td>\n",
       "      <td>Espanha (46 439 864)</td>\n",
       "    </tr>\n",
       "    <tr>\n",
       "      <th>1</th>\n",
       "      <td>2</td>\n",
       "      <td>Minas Gerais</td>\n",
       "      <td>21 292 666</td>\n",
       "      <td>10,1%</td>\n",
       "      <td>Sri Lanka (20 675 000)</td>\n",
       "    </tr>\n",
       "    <tr>\n",
       "      <th>2</th>\n",
       "      <td>3</td>\n",
       "      <td>Rio de Janeiro</td>\n",
       "      <td>17 366 189</td>\n",
       "      <td>8,2%</td>\n",
       "      <td>Países Baixos (16 922 900)</td>\n",
       "    </tr>\n",
       "    <tr>\n",
       "      <th>3</th>\n",
       "      <td>4</td>\n",
       "      <td>Bahia</td>\n",
       "      <td>14 930 634</td>\n",
       "      <td>7,1%</td>\n",
       "      <td>Chade (14 037 000)</td>\n",
       "    </tr>\n",
       "    <tr>\n",
       "      <th>4</th>\n",
       "      <td>5</td>\n",
       "      <td>Paraná</td>\n",
       "      <td>11 516 840</td>\n",
       "      <td>5,4%</td>\n",
       "      <td>Bolívia (11 410 651)</td>\n",
       "    </tr>\n",
       "    <tr>\n",
       "      <th>5</th>\n",
       "      <td>6</td>\n",
       "      <td>Rio Grande do Sul</td>\n",
       "      <td>11 422 973</td>\n",
       "      <td>5,4%</td>\n",
       "      <td>Bélgica (11 250 659)</td>\n",
       "    </tr>\n",
       "    <tr>\n",
       "      <th>6</th>\n",
       "      <td>7</td>\n",
       "      <td>Pernambuco</td>\n",
       "      <td>9 616 621</td>\n",
       "      <td>4,5%</td>\n",
       "      <td>Bielorrússia (9 485 300)</td>\n",
       "    </tr>\n",
       "    <tr>\n",
       "      <th>7</th>\n",
       "      <td>8</td>\n",
       "      <td>Ceará</td>\n",
       "      <td>9 187 103</td>\n",
       "      <td>4,3%</td>\n",
       "      <td>Emirados Árabes Unidos (9 157 000)</td>\n",
       "    </tr>\n",
       "    <tr>\n",
       "      <th>8</th>\n",
       "      <td>9</td>\n",
       "      <td>Pará</td>\n",
       "      <td>8 690 745</td>\n",
       "      <td>4,1%</td>\n",
       "      <td>Áustria (8 602 112)</td>\n",
       "    </tr>\n",
       "    <tr>\n",
       "      <th>9</th>\n",
       "      <td>10</td>\n",
       "      <td>Santa Catarina</td>\n",
       "      <td>7 252 502</td>\n",
       "      <td>3,4%</td>\n",
       "      <td>Sérvia (7 114 393)</td>\n",
       "    </tr>\n",
       "    <tr>\n",
       "      <th>10</th>\n",
       "      <td>11</td>\n",
       "      <td>Maranhão</td>\n",
       "      <td>7 114 598</td>\n",
       "      <td>3,4%</td>\n",
       "      <td>Paraguai (7 003 406)</td>\n",
       "    </tr>\n",
       "    <tr>\n",
       "      <th>11</th>\n",
       "      <td>12</td>\n",
       "      <td>Goiás</td>\n",
       "      <td>7 113 540</td>\n",
       "      <td>3,4%</td>\n",
       "      <td>Paraguai (7 003 406)</td>\n",
       "    </tr>\n",
       "    <tr>\n",
       "      <th>12</th>\n",
       "      <td>13</td>\n",
       "      <td>Amazonas</td>\n",
       "      <td>4 207 714</td>\n",
       "      <td>2,0%</td>\n",
       "      <td>Líbano (4 168 000)</td>\n",
       "    </tr>\n",
       "    <tr>\n",
       "      <th>13</th>\n",
       "      <td>14</td>\n",
       "      <td>Espírito Santo</td>\n",
       "      <td>4 064 052</td>\n",
       "      <td>1,9%</td>\n",
       "      <td>Líbano (4 168 000)</td>\n",
       "    </tr>\n",
       "    <tr>\n",
       "      <th>14</th>\n",
       "      <td>15</td>\n",
       "      <td>Paraíba</td>\n",
       "      <td>4 039 277</td>\n",
       "      <td>1,9%</td>\n",
       "      <td>Líbano (4 168 000)</td>\n",
       "    </tr>\n",
       "    <tr>\n",
       "      <th>15</th>\n",
       "      <td>16</td>\n",
       "      <td>Rio Grande do Norte</td>\n",
       "      <td>3 534 165</td>\n",
       "      <td>1,7%</td>\n",
       "      <td>Uruguai (3 415 866)</td>\n",
       "    </tr>\n",
       "    <tr>\n",
       "      <th>16</th>\n",
       "      <td>17</td>\n",
       "      <td>Mato Grosso</td>\n",
       "      <td>3 526 220</td>\n",
       "      <td>1,7%</td>\n",
       "      <td>Uruguai (3 415 866)</td>\n",
       "    </tr>\n",
       "    <tr>\n",
       "      <th>17</th>\n",
       "      <td>18</td>\n",
       "      <td>Alagoas</td>\n",
       "      <td>3 351 543</td>\n",
       "      <td>1,6%</td>\n",
       "      <td>Uruguai (3 415 866)</td>\n",
       "    </tr>\n",
       "    <tr>\n",
       "      <th>18</th>\n",
       "      <td>19</td>\n",
       "      <td>Piauí</td>\n",
       "      <td>3 281 480</td>\n",
       "      <td>1,6%</td>\n",
       "      <td>Kuwait (3 268 431)</td>\n",
       "    </tr>\n",
       "    <tr>\n",
       "      <th>19</th>\n",
       "      <td>20</td>\n",
       "      <td>Distrito Federal</td>\n",
       "      <td>3 055 149</td>\n",
       "      <td>1,4%</td>\n",
       "      <td>Lituânia (2 900 787)</td>\n",
       "    </tr>\n",
       "    <tr>\n",
       "      <th>20</th>\n",
       "      <td>21</td>\n",
       "      <td>Mato Grosso do Sul</td>\n",
       "      <td>2 809 394</td>\n",
       "      <td>1,3%</td>\n",
       "      <td>Jamaica (2 717 991)</td>\n",
       "    </tr>\n",
       "    <tr>\n",
       "      <th>21</th>\n",
       "      <td>22</td>\n",
       "      <td>Sergipe</td>\n",
       "      <td>2 318 822</td>\n",
       "      <td>1,1%</td>\n",
       "      <td>Namíbia (2 280 700)</td>\n",
       "    </tr>\n",
       "    <tr>\n",
       "      <th>22</th>\n",
       "      <td>23</td>\n",
       "      <td>Rondônia</td>\n",
       "      <td>1 796 460</td>\n",
       "      <td>0,8%</td>\n",
       "      <td>Gabão (1 725 000)</td>\n",
       "    </tr>\n",
       "    <tr>\n",
       "      <th>23</th>\n",
       "      <td>24</td>\n",
       "      <td>Tocantins</td>\n",
       "      <td>1 590 248</td>\n",
       "      <td>0,7%</td>\n",
       "      <td>Bahrein (1 359 800)</td>\n",
       "    </tr>\n",
       "    <tr>\n",
       "      <th>24</th>\n",
       "      <td>25</td>\n",
       "      <td>Acre</td>\n",
       "      <td>894 470</td>\n",
       "      <td>0,4%</td>\n",
       "      <td>Fiji (859 178)</td>\n",
       "    </tr>\n",
       "    <tr>\n",
       "      <th>25</th>\n",
       "      <td>26</td>\n",
       "      <td>Amapá</td>\n",
       "      <td>861 773</td>\n",
       "      <td>0,4%</td>\n",
       "      <td>Fiji (859 178)</td>\n",
       "    </tr>\n",
       "    <tr>\n",
       "      <th>26</th>\n",
       "      <td>27</td>\n",
       "      <td>Roraima</td>\n",
       "      <td>631 181</td>\n",
       "      <td>0,3%</td>\n",
       "      <td>Luxemburgo (562 958)</td>\n",
       "    </tr>\n",
       "  </tbody>\n",
       "</table>\n",
       "</div>"
      ],
      "text/plain": [
       "    Posição   Unidade federativa   População % da pop. total  \\\n",
       "0         1            São Paulo  46 289 333           21,9%   \n",
       "1         2         Minas Gerais  21 292 666           10,1%   \n",
       "2         3       Rio de Janeiro  17 366 189            8,2%   \n",
       "3         4                Bahia  14 930 634            7,1%   \n",
       "4         5               Paraná  11 516 840            5,4%   \n",
       "5         6    Rio Grande do Sul  11 422 973            5,4%   \n",
       "6         7           Pernambuco   9 616 621            4,5%   \n",
       "7         8                Ceará   9 187 103            4,3%   \n",
       "8         9                 Pará   8 690 745            4,1%   \n",
       "9        10       Santa Catarina   7 252 502            3,4%   \n",
       "10       11             Maranhão   7 114 598            3,4%   \n",
       "11       12                Goiás   7 113 540            3,4%   \n",
       "12       13             Amazonas   4 207 714            2,0%   \n",
       "13       14       Espírito Santo   4 064 052            1,9%   \n",
       "14       15              Paraíba   4 039 277            1,9%   \n",
       "15       16  Rio Grande do Norte   3 534 165            1,7%   \n",
       "16       17          Mato Grosso   3 526 220            1,7%   \n",
       "17       18              Alagoas   3 351 543            1,6%   \n",
       "18       19                Piauí   3 281 480            1,6%   \n",
       "19       20     Distrito Federal   3 055 149            1,4%   \n",
       "20       21   Mato Grosso do Sul   2 809 394            1,3%   \n",
       "21       22              Sergipe   2 318 822            1,1%   \n",
       "22       23             Rondônia   1 796 460            0,8%   \n",
       "23       24            Tocantins   1 590 248            0,7%   \n",
       "24       25                 Acre     894 470            0,4%   \n",
       "25       26                Amapá     861 773            0,4%   \n",
       "26       27              Roraima     631 181            0,3%   \n",
       "\n",
       "          País comparável (habitantes)  \n",
       "0                 Espanha (46 439 864)  \n",
       "1               Sri Lanka (20 675 000)  \n",
       "2           Países Baixos (16 922 900)  \n",
       "3                   Chade (14 037 000)  \n",
       "4                 Bolívia (11 410 651)  \n",
       "5                 Bélgica (11 250 659)  \n",
       "6             Bielorrússia (9 485 300)  \n",
       "7   Emirados Árabes Unidos (9 157 000)  \n",
       "8                  Áustria (8 602 112)  \n",
       "9                   Sérvia (7 114 393)  \n",
       "10                Paraguai (7 003 406)  \n",
       "11                Paraguai (7 003 406)  \n",
       "12                  Líbano (4 168 000)  \n",
       "13                  Líbano (4 168 000)  \n",
       "14                  Líbano (4 168 000)  \n",
       "15                 Uruguai (3 415 866)  \n",
       "16                 Uruguai (3 415 866)  \n",
       "17                 Uruguai (3 415 866)  \n",
       "18                  Kuwait (3 268 431)  \n",
       "19                Lituânia (2 900 787)  \n",
       "20                 Jamaica (2 717 991)  \n",
       "21                 Namíbia (2 280 700)  \n",
       "22                   Gabão (1 725 000)  \n",
       "23                 Bahrein (1 359 800)  \n",
       "24                      Fiji (859 178)  \n",
       "25                      Fiji (859 178)  \n",
       "26                Luxemburgo (562 958)  "
      ]
     },
     "execution_count": 50,
     "metadata": {},
     "output_type": "execute_result"
    }
   ],
   "source": [
    "df_pop_estados = tabela_pop_estados[0]\n",
    "df_pop_estados.info()\n",
    "df_pop_estados"
   ]
  },
  {
   "cell_type": "markdown",
   "metadata": {},
   "source": [
    "A vantagem de pegar dados online é estarem sempre atualizados. A desvantagem é quando você não quer que mude e a página sai ou altera as informações. Aí se perde a fonte que servia.<br>\n",
    "Para finalizar deve-se tratar os dados da tabela com População e % da pop total que estão como objeto para transformar em numeral. Fica para o desafio 4."
   ]
  },
  {
   "cell_type": "markdown",
   "metadata": {
    "tags": []
   },
   "source": [
    "#### Desafio 02 - Aula 1: Neste desafio temos uma série de passos:\n",
    "\n",
    "- Padronizar os nomes das colunas\n",
    "- Transformar os dados nos tipos corretos\n",
    "- Transformar a UF em index"
   ]
  },
  {
   "cell_type": "markdown",
   "metadata": {},
   "source": [
    "Foi feito conforme reproduzção da aula: a eliminação de NAN com dropna; a padronização acrescentando novas colunas com os dados requeridos de outras; a transformação para tipo numérico coma os comandos da função STR (string) de strip e replace; e a padronização dos índices do dataframe usando o laço FOR do índice correto para transformar o índice com nomes duplicados do outro DF. Pode ser visto na AULA 1 acima a partir do passo **\"Agora vamos investigar a tabela e transformá-la em um DataFrame denominado 'populacao':**"
   ]
  },
  {
   "cell_type": "markdown",
   "metadata": {
    "tags": []
   },
   "source": [
    "#### Desafio 03 - Aula 1 - Buscar na documentação alguns métodos envolvendo strings"
   ]
  },
  {
   "cell_type": "markdown",
   "metadata": {},
   "source": [
    "Um artigo do próprio Guilherme da Alura, de nov/2018, para manipular STRINGS no pandas é bastante didático e pode ser visto em: https://www.alura.com.br/artigos/manipulacao-de-strings-no-pandas-lower-replace-startswith-e-contains<br>\n",
    "Outro artigo que ajudou na resolução do Desafio 1 acima, além de ajudar a trazer a tabela direto da página HTML ensina a tratar as STRINGS que vem na tabela: https://pbpython.com/pandas-html-table.html<br>\n",
    "Além disso a própria documentação do Python-Pandas para trabalhar com dados textuais com dezenas de funções pode ser visto em: https://pandas.pydata.org/pandas-docs/stable/user_guide/text.html"
   ]
  },
  {
   "cell_type": "markdown",
   "metadata": {
    "tags": []
   },
   "source": [
    "#### Desafio 04 - Aula 1 - Desenvolver uma função para a limpeza e tratamento dos dados, retornando duas tabelas **'pop_estados' e 'pop_e_gasto_mais_recente'.**\n",
    "***\n",
    "***"
   ]
  },
  {
   "cell_type": "markdown",
   "metadata": {},
   "source": [
    "Nesse desafio será colocado como função a automatização da importação via webscrapping do DF da Wikipedia, a limpeza e preparação dos dados e o Join com os índices já organizados do DF dados_desejados (**gastos_do_mais_recente**)"
   ]
  },
  {
   "cell_type": "code",
   "execution_count": 51,
   "metadata": {},
   "outputs": [],
   "source": [
    "def limpartratar_unir_popgastos (url_wiki, dados_desejados):\n",
    "\n",
    "    # importando dado da url_wiki\n",
    "    tabela_pop_estados = pd.read_html(url_wiki, match='Unidade federativa') # nome que identifica a tabela requerida na URL_wiki)\n",
    "    # criando o dataframe a partir da posição 0\n",
    "    pop_estados = tabela_pop_estados[0]\n",
    "    # limpando e tratando\n",
    "    pop_estados[\"populacao\"] = pop_estados[\"População\"].str.replace(\" \", \"\").astype(int)\n",
    "    pop_estados[\"uf\"] = pop_estados[\"Unidade federativa\"]\n",
    "    pop_estados = pop_estados[[\"populacao\", \"uf\"]].set_index(\"uf\")\n",
    "    # agora unficando com join a tabela df_pop_estados e os dados_mes_mais_recente (que é a DF: gastos_do_mais_recente)\n",
    "    # o dados_desejados será o DF gastos_do_mais_recente que já teve o índice tratado apenas com os nomes dos Estados na Aula 1, portanto está pronto para o join\n",
    "    pop_e_gasto_mais_recente = pop_estados.join(dados_desejados)\n",
    "    #agora a função retorna as tabelas: pop_estados e pop_e_gasto_mais_recente\n",
    "    return pop_estados, pop_e_gasto_mais_recente\n",
    "    "
   ]
  },
  {
   "cell_type": "markdown",
   "metadata": {},
   "source": [
    "Especificando a url e o DF de gastos mais recentes:"
   ]
  },
  {
   "cell_type": "code",
   "execution_count": 52,
   "metadata": {},
   "outputs": [],
   "source": [
    "url_wiki = 'https://pt.wikipedia.org/wiki/Lista_de_unidades_federativas_do_Brasil_por_popula%C3%A7%C3%A3o'\n",
    "dados_desejados = gastos_do_mais_recente"
   ]
  },
  {
   "cell_type": "markdown",
   "metadata": {},
   "source": [
    "Rodando a função para retornar as 2 tabelas na ordem: pop_estados / pop_e_gasto_mais_recente"
   ]
  },
  {
   "cell_type": "code",
   "execution_count": 53,
   "metadata": {},
   "outputs": [
    {
     "data": {
      "text/plain": [
       "(                     populacao\n",
       " uf                            \n",
       " São Paulo             46289333\n",
       " Minas Gerais          21292666\n",
       " Rio de Janeiro        17366189\n",
       " Bahia                 14930634\n",
       " Paraná                11516840\n",
       " Rio Grande do Sul     11422973\n",
       " Pernambuco             9616621\n",
       " Ceará                  9187103\n",
       " Pará                   8690745\n",
       " Santa Catarina         7252502\n",
       " Maranhão               7114598\n",
       " Goiás                  7113540\n",
       " Amazonas               4207714\n",
       " Espírito Santo         4064052\n",
       " Paraíba                4039277\n",
       " Rio Grande do Norte    3534165\n",
       " Mato Grosso            3526220\n",
       " Alagoas                3351543\n",
       " Piauí                  3281480\n",
       " Distrito Federal       3055149\n",
       " Mato Grosso do Sul     2809394\n",
       " Sergipe                2318822\n",
       " Rondônia               1796460\n",
       " Tocantins              1590248\n",
       " Acre                    894470\n",
       " Amapá                   861773\n",
       " Roraima                 631181,\n",
       "                      populacao  2021/Mar\n",
       " uf                                      \n",
       " São Paulo             46289333    177.41\n",
       " Minas Gerais          21292666     79.78\n",
       " Rio de Janeiro        17366189     49.15\n",
       " Bahia                 14930634     31.31\n",
       " Paraná                11516840     43.48\n",
       " Rio Grande do Sul     11422973     37.80\n",
       " Pernambuco             9616621     39.47\n",
       " Ceará                  9187103     17.17\n",
       " Pará                   8690745     13.07\n",
       " Santa Catarina         7252502     19.38\n",
       " Maranhão               7114598     17.29\n",
       " Goiás                  7113540     24.87\n",
       " Amazonas               4207714      6.80\n",
       " Espírito Santo         4064052     15.61\n",
       " Paraíba                4039277     12.52\n",
       " Rio Grande do Norte    3534165      8.73\n",
       " Mato Grosso            3526220      8.84\n",
       " Alagoas                3351543      8.18\n",
       " Piauí                  3281480      9.54\n",
       " Distrito Federal       3055149     14.73\n",
       " Mato Grosso do Sul     2809394      4.04\n",
       " Sergipe                2318822      3.08\n",
       " Rondônia               1796460      4.73\n",
       " Tocantins              1590248      0.93\n",
       " Acre                    894470      1.14\n",
       " Amapá                   861773      0.99\n",
       " Roraima                 631181      2.38)"
      ]
     },
     "execution_count": 53,
     "metadata": {},
     "output_type": "execute_result"
    }
   ],
   "source": [
    "limpartratar_unir_popgastos (url_wiki, dados_desejados)"
   ]
  },
  {
   "cell_type": "markdown",
   "metadata": {
    "tags": []
   },
   "source": [
    "### Aula 2 - Módulo 2 - Proporcionalidades e Seaborn"
   ]
  },
  {
   "cell_type": "markdown",
   "metadata": {
    "tags": []
   },
   "source": [
    "#### Abaixo plotando gráfico de gastos (nova coluna feita a partir do último mês (MAR/21) e transformado em milhões) e população \n",
    "Essa visualização, apesar de ocorrer, é ruim nesse caso, pois as variáveis não são comparáveis visualmente"
   ]
  },
  {
   "cell_type": "code",
   "execution_count": 54,
   "metadata": {},
   "outputs": [
    {
     "data": {
      "text/plain": [
       "<AxesSubplot:xlabel='uf'>"
      ]
     },
     "execution_count": 54,
     "metadata": {},
     "output_type": "execute_result"
    },
    {
     "data": {
      "image/png": "[encoded data removed]",
      "text/plain": [
       "<Figure size 640x480 with 1 Axes>"
      ]
     },
     "metadata": {},
     "output_type": "display_data"
    }
   ],
   "source": [
    "# horripilante (data visualization)\n",
    "gastos_e_populacao_recente[\"gastos\"] = gastos_e_populacao_recente[\"2021/Mar\"] * 1000000\n",
    "gastos_e_populacao_recente[[\"gastos\", \"populacao\"]].plot()"
   ]
  },
  {
   "cell_type": "markdown",
   "metadata": {
    "tags": []
   },
   "source": [
    "#### Se o objetivo é comparar gastos por habitante, a princípio pode-se tentar uma tabela e o cálculo dos valores (observa=se aqui um gasto de SP quase o dobro da BA para mar/21):"
   ]
  },
  {
   "cell_type": "code",
   "execution_count": 55,
   "metadata": {},
   "outputs": [
    {
     "data": {
      "text/html": [
       "<div>\n",
       "<style scoped>\n",
       "    .dataframe tbody tr th:only-of-type {\n",
       "        vertical-align: middle;\n",
       "    }\n",
       "\n",
       "    .dataframe tbody tr th {\n",
       "        vertical-align: top;\n",
       "    }\n",
       "\n",
       "    .dataframe thead th {\n",
       "        text-align: right;\n",
       "    }\n",
       "</style>\n",
       "<table border=\"1\" class=\"dataframe\">\n",
       "  <thead>\n",
       "    <tr style=\"text-align: right;\">\n",
       "      <th></th>\n",
       "      <th>populacao</th>\n",
       "      <th>2021/Mar</th>\n",
       "      <th>gastos</th>\n",
       "    </tr>\n",
       "    <tr>\n",
       "      <th>uf</th>\n",
       "      <th></th>\n",
       "      <th></th>\n",
       "      <th></th>\n",
       "    </tr>\n",
       "  </thead>\n",
       "  <tbody>\n",
       "    <tr>\n",
       "      <th>Bahia</th>\n",
       "      <td>14930634</td>\n",
       "      <td>31.31</td>\n",
       "      <td>31314602.44</td>\n",
       "    </tr>\n",
       "    <tr>\n",
       "      <th>São Paulo</th>\n",
       "      <td>46289333</td>\n",
       "      <td>177.41</td>\n",
       "      <td>177408317.71</td>\n",
       "    </tr>\n",
       "  </tbody>\n",
       "</table>\n",
       "</div>"
      ],
      "text/plain": [
       "           populacao  2021/Mar       gastos\n",
       "uf                                         \n",
       "Bahia       14930634     31.31  31314602.44\n",
       "São Paulo   46289333    177.41 177408317.71"
      ]
     },
     "execution_count": 55,
     "metadata": {},
     "output_type": "execute_result"
    }
   ],
   "source": [
    "gastos_e_populacao_recente.loc[[\"Bahia\", \"São Paulo\"]]"
   ]
  },
  {
   "cell_type": "code",
   "execution_count": 56,
   "metadata": {},
   "outputs": [
    {
     "name": "stdout",
     "output_type": "stream",
     "text": [
      "SP 3.832596112586025 BA 2.09733909758956\n"
     ]
    }
   ],
   "source": [
    "print('SP', 177408317.71/46289333, 'BA', 31314602.44/14930634)"
   ]
  },
  {
   "cell_type": "markdown",
   "metadata": {
    "tags": []
   },
   "source": [
    "#### Agora sim fazer uma coluna no DF de gasto por habitante:"
   ]
  },
  {
   "cell_type": "code",
   "execution_count": 57,
   "metadata": {},
   "outputs": [
    {
     "data": {
      "text/html": [
       "<div>\n",
       "<style scoped>\n",
       "    .dataframe tbody tr th:only-of-type {\n",
       "        vertical-align: middle;\n",
       "    }\n",
       "\n",
       "    .dataframe tbody tr th {\n",
       "        vertical-align: top;\n",
       "    }\n",
       "\n",
       "    .dataframe thead th {\n",
       "        text-align: right;\n",
       "    }\n",
       "</style>\n",
       "<table border=\"1\" class=\"dataframe\">\n",
       "  <thead>\n",
       "    <tr style=\"text-align: right;\">\n",
       "      <th></th>\n",
       "      <th>populacao</th>\n",
       "      <th>2021/Mar</th>\n",
       "      <th>gastos</th>\n",
       "      <th>gasto_por_habitante</th>\n",
       "    </tr>\n",
       "    <tr>\n",
       "      <th>uf</th>\n",
       "      <th></th>\n",
       "      <th></th>\n",
       "      <th></th>\n",
       "      <th></th>\n",
       "    </tr>\n",
       "  </thead>\n",
       "  <tbody>\n",
       "    <tr>\n",
       "      <th>São Paulo</th>\n",
       "      <td>46289333</td>\n",
       "      <td>177.41</td>\n",
       "      <td>177408317.71</td>\n",
       "      <td>3.83</td>\n",
       "    </tr>\n",
       "    <tr>\n",
       "      <th>Minas Gerais</th>\n",
       "      <td>21292666</td>\n",
       "      <td>79.78</td>\n",
       "      <td>79780838.00</td>\n",
       "      <td>3.75</td>\n",
       "    </tr>\n",
       "    <tr>\n",
       "      <th>Rio de Janeiro</th>\n",
       "      <td>17366189</td>\n",
       "      <td>49.15</td>\n",
       "      <td>49149884.48</td>\n",
       "      <td>2.83</td>\n",
       "    </tr>\n",
       "    <tr>\n",
       "      <th>Bahia</th>\n",
       "      <td>14930634</td>\n",
       "      <td>31.31</td>\n",
       "      <td>31314602.44</td>\n",
       "      <td>2.10</td>\n",
       "    </tr>\n",
       "    <tr>\n",
       "      <th>Paraná</th>\n",
       "      <td>11516840</td>\n",
       "      <td>43.48</td>\n",
       "      <td>43480729.07</td>\n",
       "      <td>3.78</td>\n",
       "    </tr>\n",
       "  </tbody>\n",
       "</table>\n",
       "</div>"
      ],
      "text/plain": [
       "                populacao  2021/Mar       gastos  gasto_por_habitante\n",
       "uf                                                                   \n",
       "São Paulo        46289333    177.41 177408317.71                 3.83\n",
       "Minas Gerais     21292666     79.78  79780838.00                 3.75\n",
       "Rio de Janeiro   17366189     49.15  49149884.48                 2.83\n",
       "Bahia            14930634     31.31  31314602.44                 2.10\n",
       "Paraná           11516840     43.48  43480729.07                 3.78"
      ]
     },
     "execution_count": 57,
     "metadata": {},
     "output_type": "execute_result"
    }
   ],
   "source": [
    "gastos_e_populacao_recente[\"gasto_por_habitante\"] = gastos_e_populacao_recente[\"gastos\"] / gastos_e_populacao_recente[\"populacao\"]\n",
    "gastos_e_populacao_recente.head()"
   ]
  },
  {
   "cell_type": "markdown",
   "metadata": {
    "tags": []
   },
   "source": [
    "#### Plotando:\n",
    "ao não ordenar fica-se com duas informações: a ordem de dos Estados com os maiores gastos e as barras gasto_por_habitante"
   ]
  },
  {
   "cell_type": "code",
   "execution_count": 58,
   "metadata": {},
   "outputs": [
    {
     "data": {
      "text/plain": [
       "<AxesSubplot:xlabel='uf'>"
      ]
     },
     "execution_count": 58,
     "metadata": {},
     "output_type": "execute_result"
    },
    {
     "data": {
      "image/png": "[encoded data removed]",
      "text/plain": [
       "<Figure size 640x480 with 1 Axes>"
      ]
     },
     "metadata": {},
     "output_type": "display_data"
    }
   ],
   "source": [
    "gastos_e_populacao_recente[\"gasto_por_habitante\"].plot(kind='bar')"
   ]
  },
  {
   "cell_type": "markdown",
   "metadata": {
    "tags": []
   },
   "source": [
    "#### Trabalhando com SEABORN (módulo gráfico que utiliza também o pyplot do mathplotlib) - Fazendo gráfico de dispersão (Scatterplot) para visualizar população e gastos:"
   ]
  },
  {
   "cell_type": "code",
   "execution_count": 59,
   "metadata": {},
   "outputs": [
    {
     "name": "stdout",
     "output_type": "stream",
     "text": [
      "Requirement already satisfied: seaborn in c:\\users\\mago7\\anaconda3\\lib\\site-packages (0.11.1)\n",
      "Requirement already satisfied: matplotlib>=2.2 in c:\\users\\mago7\\anaconda3\\lib\\site-packages (from seaborn) (3.4.2)\n",
      "Requirement already satisfied: numpy>=1.15 in c:\\users\\mago7\\anaconda3\\lib\\site-packages (from seaborn) (1.20.3)\n",
      "Requirement already satisfied: scipy>=1.0 in c:\\users\\mago7\\anaconda3\\lib\\site-packages (from seaborn) (1.6.3)\n",
      "Requirement already satisfied: pandas>=0.23 in c:\\users\\mago7\\anaconda3\\lib\\site-packages (from seaborn) (1.2.4)\n",
      "Requirement already satisfied: pillow>=6.2.0 in c:\\users\\mago7\\anaconda3\\lib\\site-packages (from matplotlib>=2.2->seaborn) (8.2.0)\n",
      "Requirement already satisfied: cycler>=0.10 in c:\\users\\mago7\\anaconda3\\lib\\site-packages (from matplotlib>=2.2->seaborn) (0.10.0)\n",
      "Requirement already satisfied: pyparsing>=2.2.1 in c:\\users\\mago7\\anaconda3\\lib\\site-packages (from matplotlib>=2.2->seaborn) (2.4.7)\n",
      "Requirement already satisfied: python-dateutil>=2.7 in c:\\users\\mago7\\anaconda3\\lib\\site-packages (from matplotlib>=2.2->seaborn) (2.8.1)\n",
      "Requirement already satisfied: kiwisolver>=1.0.1 in c:\\users\\mago7\\anaconda3\\lib\\site-packages (from matplotlib>=2.2->seaborn) (1.3.1)\n",
      "Requirement already satisfied: six in c:\\users\\mago7\\anaconda3\\lib\\site-packages (from cycler>=0.10->matplotlib>=2.2->seaborn) (1.15.0)\n",
      "Requirement already satisfied: pytz>=2017.3 in c:\\users\\mago7\\anaconda3\\lib\\site-packages (from pandas>=0.23->seaborn) (2021.1)\n",
      "Note: you may need to restart the kernel to use updated packages.\n"
     ]
    }
   ],
   "source": [
    "pip install seaborn"
   ]
  },
  {
   "cell_type": "code",
   "execution_count": 60,
   "metadata": {},
   "outputs": [
    {
     "data": {
      "text/plain": [
       "<AxesSubplot:xlabel='populacao', ylabel='gastos'>"
      ]
     },
     "execution_count": 60,
     "metadata": {},
     "output_type": "execute_result"
    },
    {
     "data": {
      "image/png": "[encoded data removed]",
      "text/plain": [
       "<Figure size 640x480 with 1 Axes>"
      ]
     },
     "metadata": {},
     "output_type": "display_data"
    }
   ],
   "source": [
    "import seaborn as sns\n",
    "# sns.scatterplot(data=gastos_e_populacao_recente, x=\"populacao\", y=\"gastos\") # dessa forma ambas escalas estão em notação científica em milhões\n",
    "sns.scatterplot(data=gastos_e_populacao_recente / 1000000, x=\"populacao\", y=\"gastos\")   # aqui já dividimos em milhões para normalizar as escalas"
   ]
  },
  {
   "cell_type": "markdown",
   "metadata": {},
   "source": [
    "Acima, parece haver uma relação indicando uma tendencia que quanto maior a população maior é o gasto.<br> **Abaixo** Vamos ver essa tendência em formato quadrado (possível linha de tendencia em 45 graus, apesar das escalas não serem de valores semelhantes) "
   ]
  },
  {
   "cell_type": "code",
   "execution_count": 61,
   "metadata": {},
   "outputs": [
    {
     "data": {
      "text/plain": [
       "<AxesSubplot:xlabel='populacao', ylabel='gastos'>"
      ]
     },
     "execution_count": 61,
     "metadata": {},
     "output_type": "execute_result"
    },
    {
     "data": {
      "image/png": "[encoded data removed]",
      "text/plain": [
       "<Figure size 700x700 with 1 Axes>"
      ]
     },
     "metadata": {},
     "output_type": "display_data"
    }
   ],
   "source": [
    "plt.figure(figsize=(7,7))   # comando de tamanho do pyplot \n",
    "sns.scatterplot(data=gastos_e_populacao_recente / 1000000, x=\"populacao\", y=\"gastos\")   # aqui já dividimos em milhões para normalizar as escalas"
   ]
  },
  {
   "cell_type": "markdown",
   "metadata": {},
   "source": [
    "Agora vamos comparar o scatter plor de gasto_por_habitante e a população. Veremos que não há mais uma aparente relação entre o agora gasto_por_habitante e população pois nenhuma tendência se desenhou. "
   ]
  },
  {
   "cell_type": "code",
   "execution_count": 62,
   "metadata": {},
   "outputs": [
    {
     "data": {
      "text/plain": [
       "<AxesSubplot:xlabel='populacao', ylabel='gasto_por_habitante'>"
      ]
     },
     "execution_count": 62,
     "metadata": {},
     "output_type": "execute_result"
    },
    {
     "data": {
      "image/png": "[encoded data removed]",
      "text/plain": [
       "<Figure size 700x700 with 1 Axes>"
      ]
     },
     "metadata": {},
     "output_type": "display_data"
    }
   ],
   "source": [
    "plt.figure(figsize=(7,7))\n",
    "sns.scatterplot(data=gastos_e_populacao_recente, x=\"populacao\", y=\"gasto_por_habitante\")"
   ]
  },
  {
   "cell_type": "markdown",
   "metadata": {
    "tags": []
   },
   "source": [
    "#### Definindo uma função para AUTOMATIZAR um DataFrame com gastos e gasto por habitante deo Mês/ANO (mes) que se deseja:\n",
    "Ajudaria a resolver mais rápido e fácil o Desafio 2 abaixo, feito antes da segunda parte dessa aula no vídeo 2"
   ]
  },
  {
   "cell_type": "code",
   "execution_count": 63,
   "metadata": {},
   "outputs": [],
   "source": [
    "def insere_gastos_e_gasto_por_habitante_para(todos_os_gastos: pd.DataFrame, dados: pd.DataFrame, mes: str):   # são indicados os tipos das 3 variáveis para melhor controle. Isso é conhecido como Type hints.\n",
    "    # todos_os gastos será o DF ordenado_por_total (que tem todos os estados desde 2008); dados será o DF gastos_e_populacao_recente que tem populacao, 2021/Mare gasto_por_habitantes 'mes' será a data que se quer, ex: 2021/Fev\n",
    "    gastos_do_mes = todos_os_gastos[mes]\n",
    "    dados[f\"gastos_{mes}\"] = gastos_do_mes * 1000000\n",
    "    dados[f\"gasto_por_habitante_{mes}\"] = dados[f\"gastos_{mes}\"] / dados[\"populacao\"]"
   ]
  },
  {
   "cell_type": "code",
   "execution_count": 64,
   "metadata": {},
   "outputs": [
    {
     "data": {
      "text/html": [
       "<div>\n",
       "<style scoped>\n",
       "    .dataframe tbody tr th:only-of-type {\n",
       "        vertical-align: middle;\n",
       "    }\n",
       "\n",
       "    .dataframe tbody tr th {\n",
       "        vertical-align: top;\n",
       "    }\n",
       "\n",
       "    .dataframe thead th {\n",
       "        text-align: right;\n",
       "    }\n",
       "</style>\n",
       "<table border=\"1\" class=\"dataframe\">\n",
       "  <thead>\n",
       "    <tr style=\"text-align: right;\">\n",
       "      <th></th>\n",
       "      <th>populacao</th>\n",
       "      <th>2021/Mar</th>\n",
       "      <th>gastos</th>\n",
       "      <th>gasto_por_habitante</th>\n",
       "    </tr>\n",
       "    <tr>\n",
       "      <th>uf</th>\n",
       "      <th></th>\n",
       "      <th></th>\n",
       "      <th></th>\n",
       "      <th></th>\n",
       "    </tr>\n",
       "  </thead>\n",
       "  <tbody>\n",
       "    <tr>\n",
       "      <th>São Paulo</th>\n",
       "      <td>46289333</td>\n",
       "      <td>177.41</td>\n",
       "      <td>177408317.71</td>\n",
       "      <td>3.83</td>\n",
       "    </tr>\n",
       "    <tr>\n",
       "      <th>Minas Gerais</th>\n",
       "      <td>21292666</td>\n",
       "      <td>79.78</td>\n",
       "      <td>79780838.00</td>\n",
       "      <td>3.75</td>\n",
       "    </tr>\n",
       "    <tr>\n",
       "      <th>Rio de Janeiro</th>\n",
       "      <td>17366189</td>\n",
       "      <td>49.15</td>\n",
       "      <td>49149884.48</td>\n",
       "      <td>2.83</td>\n",
       "    </tr>\n",
       "    <tr>\n",
       "      <th>Bahia</th>\n",
       "      <td>14930634</td>\n",
       "      <td>31.31</td>\n",
       "      <td>31314602.44</td>\n",
       "      <td>2.10</td>\n",
       "    </tr>\n",
       "    <tr>\n",
       "      <th>Paraná</th>\n",
       "      <td>11516840</td>\n",
       "      <td>43.48</td>\n",
       "      <td>43480729.07</td>\n",
       "      <td>3.78</td>\n",
       "    </tr>\n",
       "  </tbody>\n",
       "</table>\n",
       "</div>"
      ],
      "text/plain": [
       "                populacao  2021/Mar       gastos  gasto_por_habitante\n",
       "uf                                                                   \n",
       "São Paulo        46289333    177.41 177408317.71                 3.83\n",
       "Minas Gerais     21292666     79.78  79780838.00                 3.75\n",
       "Rio de Janeiro   17366189     49.15  49149884.48                 2.83\n",
       "Bahia            14930634     31.31  31314602.44                 2.10\n",
       "Paraná           11516840     43.48  43480729.07                 3.78"
      ]
     },
     "execution_count": 64,
     "metadata": {},
     "output_type": "execute_result"
    }
   ],
   "source": [
    "gastos_e_populacao_recente.head()"
   ]
  },
  {
   "cell_type": "markdown",
   "metadata": {
    "tags": []
   },
   "source": [
    "#### Renomeando as colunas gastos para gastos_2021/Mar e gasto_por_habitante para gasto_por_habitante_2021/Mar para padronizar a tabela:"
   ]
  },
  {
   "cell_type": "code",
   "execution_count": 65,
   "metadata": {},
   "outputs": [],
   "source": [
    "gastos_e_populacao_recente.rename(columns={\"gastos\": \"gastos_2021/Mar\", \"gasto_por_habitante\": \"gasto_por_habitante_2021/Mar\"}, inplace=True)"
   ]
  },
  {
   "cell_type": "code",
   "execution_count": 66,
   "metadata": {},
   "outputs": [
    {
     "data": {
      "text/html": [
       "<div>\n",
       "<style scoped>\n",
       "    .dataframe tbody tr th:only-of-type {\n",
       "        vertical-align: middle;\n",
       "    }\n",
       "\n",
       "    .dataframe tbody tr th {\n",
       "        vertical-align: top;\n",
       "    }\n",
       "\n",
       "    .dataframe thead th {\n",
       "        text-align: right;\n",
       "    }\n",
       "</style>\n",
       "<table border=\"1\" class=\"dataframe\">\n",
       "  <thead>\n",
       "    <tr style=\"text-align: right;\">\n",
       "      <th></th>\n",
       "      <th>populacao</th>\n",
       "      <th>2021/Mar</th>\n",
       "      <th>gastos_2021/Mar</th>\n",
       "      <th>gasto_por_habitante_2021/Mar</th>\n",
       "    </tr>\n",
       "    <tr>\n",
       "      <th>uf</th>\n",
       "      <th></th>\n",
       "      <th></th>\n",
       "      <th></th>\n",
       "      <th></th>\n",
       "    </tr>\n",
       "  </thead>\n",
       "  <tbody>\n",
       "    <tr>\n",
       "      <th>São Paulo</th>\n",
       "      <td>46289333</td>\n",
       "      <td>177.41</td>\n",
       "      <td>177408317.71</td>\n",
       "      <td>3.83</td>\n",
       "    </tr>\n",
       "    <tr>\n",
       "      <th>Minas Gerais</th>\n",
       "      <td>21292666</td>\n",
       "      <td>79.78</td>\n",
       "      <td>79780838.00</td>\n",
       "      <td>3.75</td>\n",
       "    </tr>\n",
       "    <tr>\n",
       "      <th>Rio de Janeiro</th>\n",
       "      <td>17366189</td>\n",
       "      <td>49.15</td>\n",
       "      <td>49149884.48</td>\n",
       "      <td>2.83</td>\n",
       "    </tr>\n",
       "    <tr>\n",
       "      <th>Bahia</th>\n",
       "      <td>14930634</td>\n",
       "      <td>31.31</td>\n",
       "      <td>31314602.44</td>\n",
       "      <td>2.10</td>\n",
       "    </tr>\n",
       "    <tr>\n",
       "      <th>Paraná</th>\n",
       "      <td>11516840</td>\n",
       "      <td>43.48</td>\n",
       "      <td>43480729.07</td>\n",
       "      <td>3.78</td>\n",
       "    </tr>\n",
       "  </tbody>\n",
       "</table>\n",
       "</div>"
      ],
      "text/plain": [
       "                populacao  2021/Mar  gastos_2021/Mar  \\\n",
       "uf                                                     \n",
       "São Paulo        46289333    177.41     177408317.71   \n",
       "Minas Gerais     21292666     79.78      79780838.00   \n",
       "Rio de Janeiro   17366189     49.15      49149884.48   \n",
       "Bahia            14930634     31.31      31314602.44   \n",
       "Paraná           11516840     43.48      43480729.07   \n",
       "\n",
       "                gasto_por_habitante_2021/Mar  \n",
       "uf                                            \n",
       "São Paulo                               3.83  \n",
       "Minas Gerais                            3.75  \n",
       "Rio de Janeiro                          2.83  \n",
       "Bahia                                   2.10  \n",
       "Paraná                                  3.78  "
      ]
     },
     "execution_count": 66,
     "metadata": {},
     "output_type": "execute_result"
    }
   ],
   "source": [
    "gastos_e_populacao_recente.head()"
   ]
  },
  {
   "cell_type": "markdown",
   "metadata": {
    "tags": []
   },
   "source": [
    "#### Verificando o DF ordenado_por_total"
   ]
  },
  {
   "cell_type": "code",
   "execution_count": 67,
   "metadata": {},
   "outputs": [
    {
     "data": {
      "text/html": [
       "<div>\n",
       "<style scoped>\n",
       "    .dataframe tbody tr th:only-of-type {\n",
       "        vertical-align: middle;\n",
       "    }\n",
       "\n",
       "    .dataframe tbody tr th {\n",
       "        vertical-align: top;\n",
       "    }\n",
       "\n",
       "    .dataframe thead th {\n",
       "        text-align: right;\n",
       "    }\n",
       "</style>\n",
       "<table border=\"1\" class=\"dataframe\">\n",
       "  <thead>\n",
       "    <tr style=\"text-align: right;\">\n",
       "      <th></th>\n",
       "      <th>2007/Ago</th>\n",
       "      <th>2007/Set</th>\n",
       "      <th>2007/Out</th>\n",
       "      <th>2007/Nov</th>\n",
       "      <th>2007/Dez</th>\n",
       "      <th>2008/Jan</th>\n",
       "      <th>2008/Fev</th>\n",
       "      <th>2008/Mar</th>\n",
       "      <th>2008/Abr</th>\n",
       "      <th>2008/Mai</th>\n",
       "      <th>...</th>\n",
       "      <th>2020/Jun</th>\n",
       "      <th>2020/Jul</th>\n",
       "      <th>2020/Ago</th>\n",
       "      <th>2020/Set</th>\n",
       "      <th>2020/Out</th>\n",
       "      <th>2020/Nov</th>\n",
       "      <th>2020/Dez</th>\n",
       "      <th>2021/Jan</th>\n",
       "      <th>2021/Fev</th>\n",
       "      <th>2021/Mar</th>\n",
       "    </tr>\n",
       "    <tr>\n",
       "      <th>Unidade da Federação</th>\n",
       "      <th></th>\n",
       "      <th></th>\n",
       "      <th></th>\n",
       "      <th></th>\n",
       "      <th></th>\n",
       "      <th></th>\n",
       "      <th></th>\n",
       "      <th></th>\n",
       "      <th></th>\n",
       "      <th></th>\n",
       "      <th></th>\n",
       "      <th></th>\n",
       "      <th></th>\n",
       "      <th></th>\n",
       "      <th></th>\n",
       "      <th></th>\n",
       "      <th></th>\n",
       "      <th></th>\n",
       "      <th></th>\n",
       "      <th></th>\n",
       "      <th></th>\n",
       "    </tr>\n",
       "  </thead>\n",
       "  <tbody>\n",
       "    <tr>\n",
       "      <th>35 São Paulo</th>\n",
       "      <td>1.67</td>\n",
       "      <td>4.43</td>\n",
       "      <td>14.58</td>\n",
       "      <td>35.03</td>\n",
       "      <td>76.67</td>\n",
       "      <td>1038.07</td>\n",
       "      <td>172.96</td>\n",
       "      <td>170.56</td>\n",
       "      <td>170.34</td>\n",
       "      <td>172.46</td>\n",
       "      <td>...</td>\n",
       "      <td>328.29</td>\n",
       "      <td>361.99</td>\n",
       "      <td>350.27</td>\n",
       "      <td>338.87</td>\n",
       "      <td>328.06</td>\n",
       "      <td>324.60</td>\n",
       "      <td>326.85</td>\n",
       "      <td>324.12</td>\n",
       "      <td>268.19</td>\n",
       "      <td>177.41</td>\n",
       "    </tr>\n",
       "    <tr>\n",
       "      <th>31 Minas Gerais</th>\n",
       "      <td>0.97</td>\n",
       "      <td>2.86</td>\n",
       "      <td>10.02</td>\n",
       "      <td>21.73</td>\n",
       "      <td>43.43</td>\n",
       "      <td>206.21</td>\n",
       "      <td>70.30</td>\n",
       "      <td>79.12</td>\n",
       "      <td>79.05</td>\n",
       "      <td>79.27</td>\n",
       "      <td>...</td>\n",
       "      <td>157.28</td>\n",
       "      <td>177.47</td>\n",
       "      <td>182.18</td>\n",
       "      <td>181.42</td>\n",
       "      <td>174.59</td>\n",
       "      <td>168.56</td>\n",
       "      <td>166.38</td>\n",
       "      <td>155.06</td>\n",
       "      <td>119.88</td>\n",
       "      <td>79.78</td>\n",
       "    </tr>\n",
       "    <tr>\n",
       "      <th>41 Paraná</th>\n",
       "      <td>0.55</td>\n",
       "      <td>1.43</td>\n",
       "      <td>4.63</td>\n",
       "      <td>11.12</td>\n",
       "      <td>28.79</td>\n",
       "      <td>58.08</td>\n",
       "      <td>48.86</td>\n",
       "      <td>55.61</td>\n",
       "      <td>56.12</td>\n",
       "      <td>55.57</td>\n",
       "      <td>...</td>\n",
       "      <td>115.20</td>\n",
       "      <td>123.86</td>\n",
       "      <td>125.09</td>\n",
       "      <td>121.77</td>\n",
       "      <td>127.51</td>\n",
       "      <td>133.44</td>\n",
       "      <td>122.15</td>\n",
       "      <td>106.95</td>\n",
       "      <td>83.13</td>\n",
       "      <td>43.48</td>\n",
       "    </tr>\n",
       "    <tr>\n",
       "      <th>43 Rio Grande do Sul</th>\n",
       "      <td>1.05</td>\n",
       "      <td>3.18</td>\n",
       "      <td>8.57</td>\n",
       "      <td>16.59</td>\n",
       "      <td>30.13</td>\n",
       "      <td>51.06</td>\n",
       "      <td>45.90</td>\n",
       "      <td>52.93</td>\n",
       "      <td>51.97</td>\n",
       "      <td>51.68</td>\n",
       "      <td>...</td>\n",
       "      <td>96.80</td>\n",
       "      <td>108.54</td>\n",
       "      <td>111.76</td>\n",
       "      <td>110.11</td>\n",
       "      <td>113.89</td>\n",
       "      <td>116.74</td>\n",
       "      <td>116.83</td>\n",
       "      <td>102.32</td>\n",
       "      <td>84.40</td>\n",
       "      <td>37.80</td>\n",
       "    </tr>\n",
       "    <tr>\n",
       "      <th>33 Rio de Janeiro</th>\n",
       "      <td>0.47</td>\n",
       "      <td>0.92</td>\n",
       "      <td>2.99</td>\n",
       "      <td>7.25</td>\n",
       "      <td>13.63</td>\n",
       "      <td>251.51</td>\n",
       "      <td>44.13</td>\n",
       "      <td>42.90</td>\n",
       "      <td>45.31</td>\n",
       "      <td>43.95</td>\n",
       "      <td>...</td>\n",
       "      <td>88.14</td>\n",
       "      <td>95.94</td>\n",
       "      <td>89.80</td>\n",
       "      <td>81.89</td>\n",
       "      <td>80.57</td>\n",
       "      <td>82.81</td>\n",
       "      <td>90.57</td>\n",
       "      <td>87.20</td>\n",
       "      <td>60.87</td>\n",
       "      <td>49.15</td>\n",
       "    </tr>\n",
       "  </tbody>\n",
       "</table>\n",
       "<p>5 rows × 164 columns</p>\n",
       "</div>"
      ],
      "text/plain": [
       "                      2007/Ago  2007/Set  2007/Out  2007/Nov  2007/Dez  \\\n",
       "Unidade da Federação                                                     \n",
       "35 São Paulo              1.67      4.43     14.58     35.03     76.67   \n",
       "31 Minas Gerais           0.97      2.86     10.02     21.73     43.43   \n",
       "41 Paraná                 0.55      1.43      4.63     11.12     28.79   \n",
       "43 Rio Grande do Sul      1.05      3.18      8.57     16.59     30.13   \n",
       "33 Rio de Janeiro         0.47      0.92      2.99      7.25     13.63   \n",
       "\n",
       "                      2008/Jan  2008/Fev  2008/Mar  2008/Abr  2008/Mai  ...  \\\n",
       "Unidade da Federação                                                    ...   \n",
       "35 São Paulo           1038.07    172.96    170.56    170.34    172.46  ...   \n",
       "31 Minas Gerais         206.21     70.30     79.12     79.05     79.27  ...   \n",
       "41 Paraná                58.08     48.86     55.61     56.12     55.57  ...   \n",
       "43 Rio Grande do Sul     51.06     45.90     52.93     51.97     51.68  ...   \n",
       "33 Rio de Janeiro       251.51     44.13     42.90     45.31     43.95  ...   \n",
       "\n",
       "                      2020/Jun  2020/Jul  2020/Ago  2020/Set  2020/Out  \\\n",
       "Unidade da Federação                                                     \n",
       "35 São Paulo            328.29    361.99    350.27    338.87    328.06   \n",
       "31 Minas Gerais         157.28    177.47    182.18    181.42    174.59   \n",
       "41 Paraná               115.20    123.86    125.09    121.77    127.51   \n",
       "43 Rio Grande do Sul     96.80    108.54    111.76    110.11    113.89   \n",
       "33 Rio de Janeiro        88.14     95.94     89.80     81.89     80.57   \n",
       "\n",
       "                      2020/Nov  2020/Dez  2021/Jan  2021/Fev  2021/Mar  \n",
       "Unidade da Federação                                                    \n",
       "35 São Paulo            324.60    326.85    324.12    268.19    177.41  \n",
       "31 Minas Gerais         168.56    166.38    155.06    119.88     79.78  \n",
       "41 Paraná               133.44    122.15    106.95     83.13     43.48  \n",
       "43 Rio Grande do Sul    116.74    116.83    102.32     84.40     37.80  \n",
       "33 Rio de Janeiro        82.81     90.57     87.20     60.87     49.15  \n",
       "\n",
       "[5 rows x 164 columns]"
      ]
     },
     "execution_count": 67,
     "metadata": {},
     "output_type": "execute_result"
    }
   ],
   "source": [
    "ordenado_por_total.head()"
   ]
  },
  {
   "cell_type": "code",
   "execution_count": 68,
   "metadata": {},
   "outputs": [
    {
     "data": {
      "text/plain": [
       "Index(['35 São Paulo', '31 Minas Gerais', '41 Paraná', '43 Rio Grande do Sul',\n",
       "       '33 Rio de Janeiro', '29 Bahia', '26 Pernambuco', '42 Santa Catarina',\n",
       "       '23 Ceará', '52 Goiás', '15 Pará', '21 Maranhão', '32 Espírito Santo',\n",
       "       '24 Rio Grande do Norte', '25 Paraíba', '53 Distrito Federal',\n",
       "       '50 Mato Grosso do Sul', '22 Piauí', '27 Alagoas', '51 Mato Grosso',\n",
       "       '13 Amazonas', '28 Sergipe', '17 Tocantins', '11 Rondônia', '12 Acre',\n",
       "       '14 Roraima', '16 Amapá'],\n",
       "      dtype='object', name='Unidade da Federação')"
      ]
     },
     "execution_count": 68,
     "metadata": {},
     "output_type": "execute_result"
    }
   ],
   "source": [
    "ordenado_por_total.index"
   ]
  },
  {
   "cell_type": "markdown",
   "metadata": {
    "tags": []
   },
   "source": [
    "#### Rodando a função insere_gastos_e_gasto_por_habitante_para:"
   ]
  },
  {
   "cell_type": "code",
   "execution_count": 69,
   "metadata": {},
   "outputs": [
    {
     "data": {
      "text/html": [
       "<div>\n",
       "<style scoped>\n",
       "    .dataframe tbody tr th:only-of-type {\n",
       "        vertical-align: middle;\n",
       "    }\n",
       "\n",
       "    .dataframe tbody tr th {\n",
       "        vertical-align: top;\n",
       "    }\n",
       "\n",
       "    .dataframe thead th {\n",
       "        text-align: right;\n",
       "    }\n",
       "</style>\n",
       "<table border=\"1\" class=\"dataframe\">\n",
       "  <thead>\n",
       "    <tr style=\"text-align: right;\">\n",
       "      <th></th>\n",
       "      <th>populacao</th>\n",
       "      <th>2021/Mar</th>\n",
       "      <th>gastos_2021/Mar</th>\n",
       "      <th>gasto_por_habitante_2021/Mar</th>\n",
       "      <th>gastos_2021/Fev</th>\n",
       "      <th>gasto_por_habitante_2021/Fev</th>\n",
       "      <th>gastos_2021/Jan</th>\n",
       "      <th>gasto_por_habitante_2021/Jan</th>\n",
       "    </tr>\n",
       "    <tr>\n",
       "      <th>uf</th>\n",
       "      <th></th>\n",
       "      <th></th>\n",
       "      <th></th>\n",
       "      <th></th>\n",
       "      <th></th>\n",
       "      <th></th>\n",
       "      <th></th>\n",
       "      <th></th>\n",
       "    </tr>\n",
       "  </thead>\n",
       "  <tbody>\n",
       "    <tr>\n",
       "      <th>São Paulo</th>\n",
       "      <td>46289333</td>\n",
       "      <td>177.41</td>\n",
       "      <td>177408317.71</td>\n",
       "      <td>3.83</td>\n",
       "      <td>NaN</td>\n",
       "      <td>NaN</td>\n",
       "      <td>NaN</td>\n",
       "      <td>NaN</td>\n",
       "    </tr>\n",
       "    <tr>\n",
       "      <th>Minas Gerais</th>\n",
       "      <td>21292666</td>\n",
       "      <td>79.78</td>\n",
       "      <td>79780838.00</td>\n",
       "      <td>3.75</td>\n",
       "      <td>NaN</td>\n",
       "      <td>NaN</td>\n",
       "      <td>NaN</td>\n",
       "      <td>NaN</td>\n",
       "    </tr>\n",
       "    <tr>\n",
       "      <th>Rio de Janeiro</th>\n",
       "      <td>17366189</td>\n",
       "      <td>49.15</td>\n",
       "      <td>49149884.48</td>\n",
       "      <td>2.83</td>\n",
       "      <td>NaN</td>\n",
       "      <td>NaN</td>\n",
       "      <td>NaN</td>\n",
       "      <td>NaN</td>\n",
       "    </tr>\n",
       "    <tr>\n",
       "      <th>Bahia</th>\n",
       "      <td>14930634</td>\n",
       "      <td>31.31</td>\n",
       "      <td>31314602.44</td>\n",
       "      <td>2.10</td>\n",
       "      <td>NaN</td>\n",
       "      <td>NaN</td>\n",
       "      <td>NaN</td>\n",
       "      <td>NaN</td>\n",
       "    </tr>\n",
       "    <tr>\n",
       "      <th>Paraná</th>\n",
       "      <td>11516840</td>\n",
       "      <td>43.48</td>\n",
       "      <td>43480729.07</td>\n",
       "      <td>3.78</td>\n",
       "      <td>NaN</td>\n",
       "      <td>NaN</td>\n",
       "      <td>NaN</td>\n",
       "      <td>NaN</td>\n",
       "    </tr>\n",
       "  </tbody>\n",
       "</table>\n",
       "</div>"
      ],
      "text/plain": [
       "                populacao  2021/Mar  gastos_2021/Mar  \\\n",
       "uf                                                     \n",
       "São Paulo        46289333    177.41     177408317.71   \n",
       "Minas Gerais     21292666     79.78      79780838.00   \n",
       "Rio de Janeiro   17366189     49.15      49149884.48   \n",
       "Bahia            14930634     31.31      31314602.44   \n",
       "Paraná           11516840     43.48      43480729.07   \n",
       "\n",
       "                gasto_por_habitante_2021/Mar  gastos_2021/Fev  \\\n",
       "uf                                                              \n",
       "São Paulo                               3.83              NaN   \n",
       "Minas Gerais                            3.75              NaN   \n",
       "Rio de Janeiro                          2.83              NaN   \n",
       "Bahia                                   2.10              NaN   \n",
       "Paraná                                  3.78              NaN   \n",
       "\n",
       "                gasto_por_habitante_2021/Fev  gastos_2021/Jan  \\\n",
       "uf                                                              \n",
       "São Paulo                                NaN              NaN   \n",
       "Minas Gerais                             NaN              NaN   \n",
       "Rio de Janeiro                           NaN              NaN   \n",
       "Bahia                                    NaN              NaN   \n",
       "Paraná                                   NaN              NaN   \n",
       "\n",
       "                gasto_por_habitante_2021/Jan  \n",
       "uf                                            \n",
       "São Paulo                                NaN  \n",
       "Minas Gerais                             NaN  \n",
       "Rio de Janeiro                           NaN  \n",
       "Bahia                                    NaN  \n",
       "Paraná                                   NaN  "
      ]
     },
     "execution_count": 69,
     "metadata": {},
     "output_type": "execute_result"
    }
   ],
   "source": [
    "insere_gastos_e_gasto_por_habitante_para(ordenado_por_total, gastos_e_populacao_recente, \"2021/Fev\")\n",
    "insere_gastos_e_gasto_por_habitante_para(ordenado_por_total, gastos_e_populacao_recente, \"2021/Jan\")\n",
    "gastos_e_populacao_recente.head()"
   ]
  },
  {
   "cell_type": "markdown",
   "metadata": {},
   "source": [
    "Vejam que tem colunas com 'NaN' porque o índice do DF ordenado_por_total não é igual (como visto acima) ao de gastos_e_população_recente."
   ]
  },
  {
   "cell_type": "markdown",
   "metadata": {
    "tags": []
   },
   "source": [
    "#### Corrigindo o índice do DF ordenado_por_total para ficar IGUAL ao do gastos_e_populacao_recente:"
   ]
  },
  {
   "cell_type": "code",
   "execution_count": 70,
   "metadata": {},
   "outputs": [
    {
     "data": {
      "text/plain": [
       "Index(['São Paulo', 'Minas Gerais', 'Paraná', 'Rio Grande do Sul',\n",
       "       'Rio de Janeiro', 'Bahia', 'Pernambuco', 'Santa Catarina', 'Ceará',\n",
       "       'Goiás', 'Pará', 'Maranhão', 'Espírito Santo', 'Rio Grande do Norte',\n",
       "       'Paraíba', 'Distrito Federal', 'Mato Grosso do Sul', 'Piauí', 'Alagoas',\n",
       "       'Mato Grosso', 'Amazonas', 'Sergipe', 'Tocantins', 'Rondônia', 'Acre',\n",
       "       'Roraima', 'Amapá'],\n",
       "      dtype='object', name='Unidade da Federação')"
      ]
     },
     "execution_count": 70,
     "metadata": {},
     "output_type": "execute_result"
    }
   ],
   "source": [
    "ordenado_por_total.index = ordenado_por_total.index.str[3:]\n",
    "ordenado_por_total.index"
   ]
  },
  {
   "cell_type": "markdown",
   "metadata": {
    "tags": []
   },
   "source": [
    "#### Rodando novamente a função:"
   ]
  },
  {
   "cell_type": "code",
   "execution_count": 71,
   "metadata": {},
   "outputs": [
    {
     "data": {
      "text/html": [
       "<div>\n",
       "<style scoped>\n",
       "    .dataframe tbody tr th:only-of-type {\n",
       "        vertical-align: middle;\n",
       "    }\n",
       "\n",
       "    .dataframe tbody tr th {\n",
       "        vertical-align: top;\n",
       "    }\n",
       "\n",
       "    .dataframe thead th {\n",
       "        text-align: right;\n",
       "    }\n",
       "</style>\n",
       "<table border=\"1\" class=\"dataframe\">\n",
       "  <thead>\n",
       "    <tr style=\"text-align: right;\">\n",
       "      <th></th>\n",
       "      <th>populacao</th>\n",
       "      <th>2021/Mar</th>\n",
       "      <th>gastos_2021/Mar</th>\n",
       "      <th>gasto_por_habitante_2021/Mar</th>\n",
       "      <th>gastos_2021/Fev</th>\n",
       "      <th>gasto_por_habitante_2021/Fev</th>\n",
       "      <th>gastos_2021/Jan</th>\n",
       "      <th>gasto_por_habitante_2021/Jan</th>\n",
       "    </tr>\n",
       "    <tr>\n",
       "      <th>uf</th>\n",
       "      <th></th>\n",
       "      <th></th>\n",
       "      <th></th>\n",
       "      <th></th>\n",
       "      <th></th>\n",
       "      <th></th>\n",
       "      <th></th>\n",
       "      <th></th>\n",
       "    </tr>\n",
       "  </thead>\n",
       "  <tbody>\n",
       "    <tr>\n",
       "      <th>São Paulo</th>\n",
       "      <td>46289333</td>\n",
       "      <td>177.41</td>\n",
       "      <td>177408317.71</td>\n",
       "      <td>3.83</td>\n",
       "      <td>268193064.06</td>\n",
       "      <td>5.79</td>\n",
       "      <td>324115425.70</td>\n",
       "      <td>7.00</td>\n",
       "    </tr>\n",
       "    <tr>\n",
       "      <th>Minas Gerais</th>\n",
       "      <td>21292666</td>\n",
       "      <td>79.78</td>\n",
       "      <td>79780838.00</td>\n",
       "      <td>3.75</td>\n",
       "      <td>119877417.15</td>\n",
       "      <td>5.63</td>\n",
       "      <td>155064483.25</td>\n",
       "      <td>7.28</td>\n",
       "    </tr>\n",
       "    <tr>\n",
       "      <th>Rio de Janeiro</th>\n",
       "      <td>17366189</td>\n",
       "      <td>49.15</td>\n",
       "      <td>49149884.48</td>\n",
       "      <td>2.83</td>\n",
       "      <td>60873103.08</td>\n",
       "      <td>3.51</td>\n",
       "      <td>87201907.99</td>\n",
       "      <td>5.02</td>\n",
       "    </tr>\n",
       "    <tr>\n",
       "      <th>Bahia</th>\n",
       "      <td>14930634</td>\n",
       "      <td>31.31</td>\n",
       "      <td>31314602.44</td>\n",
       "      <td>2.10</td>\n",
       "      <td>55544579.04</td>\n",
       "      <td>3.72</td>\n",
       "      <td>70325599.07</td>\n",
       "      <td>4.71</td>\n",
       "    </tr>\n",
       "    <tr>\n",
       "      <th>Paraná</th>\n",
       "      <td>11516840</td>\n",
       "      <td>43.48</td>\n",
       "      <td>43480729.07</td>\n",
       "      <td>3.78</td>\n",
       "      <td>83130175.37</td>\n",
       "      <td>7.22</td>\n",
       "      <td>106948897.53</td>\n",
       "      <td>9.29</td>\n",
       "    </tr>\n",
       "  </tbody>\n",
       "</table>\n",
       "</div>"
      ],
      "text/plain": [
       "                populacao  2021/Mar  gastos_2021/Mar  \\\n",
       "uf                                                     \n",
       "São Paulo        46289333    177.41     177408317.71   \n",
       "Minas Gerais     21292666     79.78      79780838.00   \n",
       "Rio de Janeiro   17366189     49.15      49149884.48   \n",
       "Bahia            14930634     31.31      31314602.44   \n",
       "Paraná           11516840     43.48      43480729.07   \n",
       "\n",
       "                gasto_por_habitante_2021/Mar  gastos_2021/Fev  \\\n",
       "uf                                                              \n",
       "São Paulo                               3.83     268193064.06   \n",
       "Minas Gerais                            3.75     119877417.15   \n",
       "Rio de Janeiro                          2.83      60873103.08   \n",
       "Bahia                                   2.10      55544579.04   \n",
       "Paraná                                  3.78      83130175.37   \n",
       "\n",
       "                gasto_por_habitante_2021/Fev  gastos_2021/Jan  \\\n",
       "uf                                                              \n",
       "São Paulo                               5.79     324115425.70   \n",
       "Minas Gerais                            5.63     155064483.25   \n",
       "Rio de Janeiro                          3.51      87201907.99   \n",
       "Bahia                                   3.72      70325599.07   \n",
       "Paraná                                  7.22     106948897.53   \n",
       "\n",
       "                gasto_por_habitante_2021/Jan  \n",
       "uf                                            \n",
       "São Paulo                               7.00  \n",
       "Minas Gerais                            7.28  \n",
       "Rio de Janeiro                          5.02  \n",
       "Bahia                                   4.71  \n",
       "Paraná                                  9.29  "
      ]
     },
     "execution_count": 71,
     "metadata": {},
     "output_type": "execute_result"
    }
   ],
   "source": [
    "insere_gastos_e_gasto_por_habitante_para(ordenado_por_total, gastos_e_populacao_recente, \"2021/Fev\")\n",
    "insere_gastos_e_gasto_por_habitante_para(ordenado_por_total, gastos_e_populacao_recente, \"2021/Jan\")\n",
    "gastos_e_populacao_recente.head()"
   ]
  },
  {
   "cell_type": "markdown",
   "metadata": {
    "tags": []
   },
   "source": [
    "#### Rodando 1 Scaterplot de Jan-Mar de 2021 Gastos(totais) e 3 (Jan, Fev e Mar) de gasto_por_habitantes para análise:"
   ]
  },
  {
   "cell_type": "code",
   "execution_count": 72,
   "metadata": {},
   "outputs": [
    {
     "data": {
      "text/plain": [
       "<AxesSubplot:xlabel='População', ylabel='Gastos'>"
      ]
     },
     "execution_count": 72,
     "metadata": {},
     "output_type": "execute_result"
    },
    {
     "data": {
      "image/png": "[encoded data removed]",
      "text/plain": [
       "<Figure size 700x700 with 1 Axes>"
      ]
     },
     "metadata": {},
     "output_type": "display_data"
    }
   ],
   "source": [
    "plt.figure(figsize=(7,7))\n",
    "plt.ylabel('Gastos')\n",
    "plt.xlabel('População')\n",
    "sns.set_style('whitegrid')\n",
    "sns.scatterplot(data=gastos_e_populacao_recente / 1000000, x=\"populacao\", y=\"gastos_2021/Jan\", label='gastos_2021/Jan')\n",
    "sns.scatterplot(data=gastos_e_populacao_recente / 1000000, x=\"populacao\", y=\"gastos_2021/Fev\", label='gastos_2021/Fev')\n",
    "sns.scatterplot(data=gastos_e_populacao_recente / 1000000, x=\"populacao\", y=\"gastos_2021/Mar\", label='gastos_2021/Mar')"
   ]
  },
  {
   "cell_type": "code",
   "execution_count": 73,
   "metadata": {},
   "outputs": [
    {
     "data": {
      "text/plain": [
       "<AxesSubplot:xlabel='populacao', ylabel='gasto_por_habitante_2021/Mar'>"
      ]
     },
     "execution_count": 73,
     "metadata": {},
     "output_type": "execute_result"
    },
    {
     "data": {
      "image/png": "[encoded data removed]",
      "text/plain": [
       "<Figure size 700x700 with 1 Axes>"
      ]
     },
     "metadata": {},
     "output_type": "display_data"
    }
   ],
   "source": [
    "plt.figure(figsize=(7,7))\n",
    "sns.scatterplot(data=gastos_e_populacao_recente, x=\"populacao\", y=\"gasto_por_habitante_2021/Mar\")"
   ]
  },
  {
   "cell_type": "code",
   "execution_count": 74,
   "metadata": {},
   "outputs": [
    {
     "data": {
      "text/plain": [
       "<AxesSubplot:xlabel='populacao', ylabel='gasto_por_habitante_2021/Fev'>"
      ]
     },
     "execution_count": 74,
     "metadata": {},
     "output_type": "execute_result"
    },
    {
     "data": {
      "image/png": "[encoded data removed]",
      "text/plain": [
       "<Figure size 700x700 with 1 Axes>"
      ]
     },
     "metadata": {},
     "output_type": "display_data"
    }
   ],
   "source": [
    "plt.figure(figsize=(7,7))\n",
    "sns.scatterplot(data=gastos_e_populacao_recente, x=\"populacao\", y=\"gasto_por_habitante_2021/Fev\")"
   ]
  },
  {
   "cell_type": "code",
   "execution_count": 75,
   "metadata": {},
   "outputs": [
    {
     "data": {
      "text/plain": [
       "<AxesSubplot:xlabel='populacao', ylabel='gasto_por_habitante_2021/Jan'>"
      ]
     },
     "execution_count": 75,
     "metadata": {},
     "output_type": "execute_result"
    },
    {
     "data": {
      "image/png": "[encoded data removed]",
      "text/plain": [
       "<Figure size 700x700 with 1 Axes>"
      ]
     },
     "metadata": {},
     "output_type": "display_data"
    }
   ],
   "source": [
    "plt.figure(figsize=(7,7))\n",
    "sns.scatterplot(data=gastos_e_populacao_recente, x=\"populacao\", y=\"gasto_por_habitante_2021/Jan\")"
   ]
  },
  {
   "cell_type": "markdown",
   "metadata": {},
   "source": [
    "O Scatter plot de gastos totais indicam tendencia de subida quando aumenta a população\n",
    "Os outros 3 scatter plots dos meses separados de gasto_por_habitante não indicam tendencia. \n",
    "O menor valor dos meses é Março de 2021, que deve refletir o fato de ser o último mês desse dataframe atual. Como o DF é da data de internação, o preenchimento final dos valores pode ocorrer várias semanas depois, o que indica que, principalmente o último mês, pode estar ainda incompleto."
   ]
  },
  {
   "cell_type": "markdown",
   "metadata": {
    "tags": []
   },
   "source": [
    "### Desafios Aula 2 - Módulo 2\n",
    "***\n",
    "***"
   ]
  },
  {
   "cell_type": "markdown",
   "metadata": {
    "tags": []
   },
   "source": [
    "#### Desafio 01 - Aula 2: Ordenar o gráfico e criar uma visualização de gastos por habitantes ordenada.\n"
   ]
  },
  {
   "cell_type": "code",
   "execution_count": 76,
   "metadata": {},
   "outputs": [
    {
     "data": {
      "text/plain": [
       "<AxesSubplot:xlabel='uf'>"
      ]
     },
     "execution_count": 76,
     "metadata": {},
     "output_type": "execute_result"
    },
    {
     "data": {
      "image/png": "[encoded data removed]",
      "text/plain": [
       "<Figure size 640x480 with 1 Axes>"
      ]
     },
     "metadata": {},
     "output_type": "display_data"
    }
   ],
   "source": [
    "gastos_e_populacao_recente[\"gasto_por_habitante_2021/Mar\"].sort_values(ascending=False).plot(kind='bar')"
   ]
  },
  {
   "cell_type": "markdown",
   "metadata": {
    "tags": []
   },
   "source": [
    "#### Desafio 02 - Aula 2: (Super Desafio Gui) Fazer os mesmos gráficos (scatterplot) do final da aulas 2.1 para meses anteriores (MAR/20 e MAR/19), analisar e compartilhar suas hipóteses.\n",
    "NOTA: esse desafio foi feito antes da continuação do vídeo2 da aula. A solução dada no vídeo 2 (mostrada na AULA 2 acima) utiliza uma FUNÇÃO para automatizar a extração de gastos por MÊS"
   ]
  },
  {
   "cell_type": "markdown",
   "metadata": {
    "tags": []
   },
   "source": [
    "##### Determinando os meses de março para 2020 e 2019 com Slice:"
   ]
  },
  {
   "cell_type": "code",
   "execution_count": 77,
   "metadata": {},
   "outputs": [
    {
     "data": {
      "text/plain": [
       "Index(['2020/Mar'], dtype='object')"
      ]
     },
     "execution_count": 77,
     "metadata": {},
     "output_type": "execute_result"
    }
   ],
   "source": [
    "ordenado_por_total.columns[-13:-12]"
   ]
  },
  {
   "cell_type": "code",
   "execution_count": 78,
   "metadata": {},
   "outputs": [
    {
     "data": {
      "text/plain": [
       "Index(['2019/Mar'], dtype='object')"
      ]
     },
     "execution_count": 78,
     "metadata": {},
     "output_type": "execute_result"
    }
   ],
   "source": [
    "ordenado_por_total.columns[-25:-24]"
   ]
  },
  {
   "cell_type": "markdown",
   "metadata": {
    "tags": []
   },
   "source": [
    "##### Fazendo um DF apenas para março de 2019 e 2020:"
   ]
  },
  {
   "cell_type": "code",
   "execution_count": 79,
   "metadata": {},
   "outputs": [],
   "source": [
    "mes_mar19 = ordenado_por_total.columns[-25:-24]\n",
    "gastos_mar_19 = ordenado_por_total[mes_mar19]"
   ]
  },
  {
   "cell_type": "code",
   "execution_count": 80,
   "metadata": {},
   "outputs": [],
   "source": [
    "mes_mar20 = ordenado_por_total.columns[-13:-12]\n",
    "gastos_mar_20 = ordenado_por_total[mes_mar20]"
   ]
  },
  {
   "cell_type": "code",
   "execution_count": 81,
   "metadata": {},
   "outputs": [
    {
     "data": {
      "text/html": [
       "<div>\n",
       "<style scoped>\n",
       "    .dataframe tbody tr th:only-of-type {\n",
       "        vertical-align: middle;\n",
       "    }\n",
       "\n",
       "    .dataframe tbody tr th {\n",
       "        vertical-align: top;\n",
       "    }\n",
       "\n",
       "    .dataframe thead th {\n",
       "        text-align: right;\n",
       "    }\n",
       "</style>\n",
       "<table border=\"1\" class=\"dataframe\">\n",
       "  <thead>\n",
       "    <tr style=\"text-align: right;\">\n",
       "      <th></th>\n",
       "      <th>2019/Mar</th>\n",
       "      <th>2020/Mar</th>\n",
       "    </tr>\n",
       "    <tr>\n",
       "      <th>Unidade da Federação</th>\n",
       "      <th></th>\n",
       "      <th></th>\n",
       "    </tr>\n",
       "  </thead>\n",
       "  <tbody>\n",
       "    <tr>\n",
       "      <th>São Paulo</th>\n",
       "      <td>287.15</td>\n",
       "      <td>277.94</td>\n",
       "    </tr>\n",
       "    <tr>\n",
       "      <th>Minas Gerais</th>\n",
       "      <td>151.98</td>\n",
       "      <td>147.65</td>\n",
       "    </tr>\n",
       "    <tr>\n",
       "      <th>Paraná</th>\n",
       "      <td>123.91</td>\n",
       "      <td>114.78</td>\n",
       "    </tr>\n",
       "    <tr>\n",
       "      <th>Rio Grande do Sul</th>\n",
       "      <td>91.62</td>\n",
       "      <td>84.88</td>\n",
       "    </tr>\n",
       "    <tr>\n",
       "      <th>Rio de Janeiro</th>\n",
       "      <td>75.06</td>\n",
       "      <td>74.60</td>\n",
       "    </tr>\n",
       "  </tbody>\n",
       "</table>\n",
       "</div>"
      ],
      "text/plain": [
       "                      2019/Mar  2020/Mar\n",
       "Unidade da Federação                    \n",
       "São Paulo               287.15    277.94\n",
       "Minas Gerais            151.98    147.65\n",
       "Paraná                  123.91    114.78\n",
       "Rio Grande do Sul        91.62     84.88\n",
       "Rio de Janeiro           75.06     74.60"
      ]
     },
     "execution_count": 81,
     "metadata": {},
     "output_type": "execute_result"
    }
   ],
   "source": [
    "gastos_mar19_20 = gastos_mar_19.join(gastos_mar_20)\n",
    "gastos_mar19_20.head()"
   ]
  },
  {
   "cell_type": "markdown",
   "metadata": {
    "tags": []
   },
   "source": [
    "##### Novo DF para março 19-20-21 - juntando ao DF gastos_e_populacao_recente"
   ]
  },
  {
   "cell_type": "code",
   "execution_count": 82,
   "metadata": {},
   "outputs": [
    {
     "data": {
      "text/html": [
       "<div>\n",
       "<style scoped>\n",
       "    .dataframe tbody tr th:only-of-type {\n",
       "        vertical-align: middle;\n",
       "    }\n",
       "\n",
       "    .dataframe tbody tr th {\n",
       "        vertical-align: top;\n",
       "    }\n",
       "\n",
       "    .dataframe thead th {\n",
       "        text-align: right;\n",
       "    }\n",
       "</style>\n",
       "<table border=\"1\" class=\"dataframe\">\n",
       "  <thead>\n",
       "    <tr style=\"text-align: right;\">\n",
       "      <th></th>\n",
       "      <th>populacao</th>\n",
       "      <th>2021/Mar</th>\n",
       "      <th>gastos_2021/Mar</th>\n",
       "      <th>gasto_por_habitante_2021/Mar</th>\n",
       "      <th>gastos_2021/Fev</th>\n",
       "      <th>gasto_por_habitante_2021/Fev</th>\n",
       "      <th>gastos_2021/Jan</th>\n",
       "      <th>gasto_por_habitante_2021/Jan</th>\n",
       "      <th>2019/Mar</th>\n",
       "      <th>2020/Mar</th>\n",
       "    </tr>\n",
       "    <tr>\n",
       "      <th>uf</th>\n",
       "      <th></th>\n",
       "      <th></th>\n",
       "      <th></th>\n",
       "      <th></th>\n",
       "      <th></th>\n",
       "      <th></th>\n",
       "      <th></th>\n",
       "      <th></th>\n",
       "      <th></th>\n",
       "      <th></th>\n",
       "    </tr>\n",
       "  </thead>\n",
       "  <tbody>\n",
       "    <tr>\n",
       "      <th>São Paulo</th>\n",
       "      <td>46289333</td>\n",
       "      <td>177.41</td>\n",
       "      <td>177408317.71</td>\n",
       "      <td>3.83</td>\n",
       "      <td>268193064.06</td>\n",
       "      <td>5.79</td>\n",
       "      <td>324115425.70</td>\n",
       "      <td>7.00</td>\n",
       "      <td>287.15</td>\n",
       "      <td>277.94</td>\n",
       "    </tr>\n",
       "    <tr>\n",
       "      <th>Minas Gerais</th>\n",
       "      <td>21292666</td>\n",
       "      <td>79.78</td>\n",
       "      <td>79780838.00</td>\n",
       "      <td>3.75</td>\n",
       "      <td>119877417.15</td>\n",
       "      <td>5.63</td>\n",
       "      <td>155064483.25</td>\n",
       "      <td>7.28</td>\n",
       "      <td>151.98</td>\n",
       "      <td>147.65</td>\n",
       "    </tr>\n",
       "    <tr>\n",
       "      <th>Rio de Janeiro</th>\n",
       "      <td>17366189</td>\n",
       "      <td>49.15</td>\n",
       "      <td>49149884.48</td>\n",
       "      <td>2.83</td>\n",
       "      <td>60873103.08</td>\n",
       "      <td>3.51</td>\n",
       "      <td>87201907.99</td>\n",
       "      <td>5.02</td>\n",
       "      <td>75.06</td>\n",
       "      <td>74.60</td>\n",
       "    </tr>\n",
       "    <tr>\n",
       "      <th>Bahia</th>\n",
       "      <td>14930634</td>\n",
       "      <td>31.31</td>\n",
       "      <td>31314602.44</td>\n",
       "      <td>2.10</td>\n",
       "      <td>55544579.04</td>\n",
       "      <td>3.72</td>\n",
       "      <td>70325599.07</td>\n",
       "      <td>4.71</td>\n",
       "      <td>69.98</td>\n",
       "      <td>71.00</td>\n",
       "    </tr>\n",
       "    <tr>\n",
       "      <th>Paraná</th>\n",
       "      <td>11516840</td>\n",
       "      <td>43.48</td>\n",
       "      <td>43480729.07</td>\n",
       "      <td>3.78</td>\n",
       "      <td>83130175.37</td>\n",
       "      <td>7.22</td>\n",
       "      <td>106948897.53</td>\n",
       "      <td>9.29</td>\n",
       "      <td>123.91</td>\n",
       "      <td>114.78</td>\n",
       "    </tr>\n",
       "  </tbody>\n",
       "</table>\n",
       "</div>"
      ],
      "text/plain": [
       "                populacao  2021/Mar  gastos_2021/Mar  \\\n",
       "uf                                                     \n",
       "São Paulo        46289333    177.41     177408317.71   \n",
       "Minas Gerais     21292666     79.78      79780838.00   \n",
       "Rio de Janeiro   17366189     49.15      49149884.48   \n",
       "Bahia            14930634     31.31      31314602.44   \n",
       "Paraná           11516840     43.48      43480729.07   \n",
       "\n",
       "                gasto_por_habitante_2021/Mar  gastos_2021/Fev  \\\n",
       "uf                                                              \n",
       "São Paulo                               3.83     268193064.06   \n",
       "Minas Gerais                            3.75     119877417.15   \n",
       "Rio de Janeiro                          2.83      60873103.08   \n",
       "Bahia                                   2.10      55544579.04   \n",
       "Paraná                                  3.78      83130175.37   \n",
       "\n",
       "                gasto_por_habitante_2021/Fev  gastos_2021/Jan  \\\n",
       "uf                                                              \n",
       "São Paulo                               5.79     324115425.70   \n",
       "Minas Gerais                            5.63     155064483.25   \n",
       "Rio de Janeiro                          3.51      87201907.99   \n",
       "Bahia                                   3.72      70325599.07   \n",
       "Paraná                                  7.22     106948897.53   \n",
       "\n",
       "                gasto_por_habitante_2021/Jan  2019/Mar  2020/Mar  \n",
       "uf                                                                \n",
       "São Paulo                               7.00    287.15    277.94  \n",
       "Minas Gerais                            7.28    151.98    147.65  \n",
       "Rio de Janeiro                          5.02     75.06     74.60  \n",
       "Bahia                                   4.71     69.98     71.00  \n",
       "Paraná                                  9.29    123.91    114.78  "
      ]
     },
     "execution_count": 82,
     "metadata": {},
     "output_type": "execute_result"
    }
   ],
   "source": [
    "gastos_e_populacao_mar19a21 = gastos_e_populacao_recente.join(gastos_mar19_20)\n",
    "gastos_e_populacao_mar19a21.head()"
   ]
  },
  {
   "cell_type": "markdown",
   "metadata": {
    "tags": []
   },
   "source": [
    "##### Acrescentando colunas 'gastos_mar20' , 'gastos_mar19' , 'gasto_por_habitante_mar20' e 'gasto_por_habitante_mar19':"
   ]
  },
  {
   "cell_type": "code",
   "execution_count": 83,
   "metadata": {},
   "outputs": [
    {
     "data": {
      "text/html": [
       "<div>\n",
       "<style scoped>\n",
       "    .dataframe tbody tr th:only-of-type {\n",
       "        vertical-align: middle;\n",
       "    }\n",
       "\n",
       "    .dataframe tbody tr th {\n",
       "        vertical-align: top;\n",
       "    }\n",
       "\n",
       "    .dataframe thead th {\n",
       "        text-align: right;\n",
       "    }\n",
       "</style>\n",
       "<table border=\"1\" class=\"dataframe\">\n",
       "  <thead>\n",
       "    <tr style=\"text-align: right;\">\n",
       "      <th></th>\n",
       "      <th>populacao</th>\n",
       "      <th>2021/Mar</th>\n",
       "      <th>gastos_2021/Mar</th>\n",
       "      <th>gasto_por_habitante_2021/Mar</th>\n",
       "      <th>gastos_2021/Fev</th>\n",
       "      <th>gasto_por_habitante_2021/Fev</th>\n",
       "      <th>gastos_2021/Jan</th>\n",
       "      <th>gasto_por_habitante_2021/Jan</th>\n",
       "      <th>2019/Mar</th>\n",
       "      <th>2020/Mar</th>\n",
       "      <th>gastos_2020/Mar</th>\n",
       "      <th>gastos_2019/Mar</th>\n",
       "      <th>gasto_por_habitante_2020/Mar</th>\n",
       "      <th>gasto_por_habitante_2019/Mar</th>\n",
       "    </tr>\n",
       "    <tr>\n",
       "      <th>uf</th>\n",
       "      <th></th>\n",
       "      <th></th>\n",
       "      <th></th>\n",
       "      <th></th>\n",
       "      <th></th>\n",
       "      <th></th>\n",
       "      <th></th>\n",
       "      <th></th>\n",
       "      <th></th>\n",
       "      <th></th>\n",
       "      <th></th>\n",
       "      <th></th>\n",
       "      <th></th>\n",
       "      <th></th>\n",
       "    </tr>\n",
       "  </thead>\n",
       "  <tbody>\n",
       "    <tr>\n",
       "      <th>São Paulo</th>\n",
       "      <td>46289333</td>\n",
       "      <td>177.41</td>\n",
       "      <td>177408317.71</td>\n",
       "      <td>3.83</td>\n",
       "      <td>268193064.06</td>\n",
       "      <td>5.79</td>\n",
       "      <td>324115425.70</td>\n",
       "      <td>7.00</td>\n",
       "      <td>287.15</td>\n",
       "      <td>277.94</td>\n",
       "      <td>277938674.53</td>\n",
       "      <td>287154994.64</td>\n",
       "      <td>6.00</td>\n",
       "      <td>6.20</td>\n",
       "    </tr>\n",
       "    <tr>\n",
       "      <th>Minas Gerais</th>\n",
       "      <td>21292666</td>\n",
       "      <td>79.78</td>\n",
       "      <td>79780838.00</td>\n",
       "      <td>3.75</td>\n",
       "      <td>119877417.15</td>\n",
       "      <td>5.63</td>\n",
       "      <td>155064483.25</td>\n",
       "      <td>7.28</td>\n",
       "      <td>151.98</td>\n",
       "      <td>147.65</td>\n",
       "      <td>147654942.70</td>\n",
       "      <td>151976196.81</td>\n",
       "      <td>6.93</td>\n",
       "      <td>7.14</td>\n",
       "    </tr>\n",
       "    <tr>\n",
       "      <th>Rio de Janeiro</th>\n",
       "      <td>17366189</td>\n",
       "      <td>49.15</td>\n",
       "      <td>49149884.48</td>\n",
       "      <td>2.83</td>\n",
       "      <td>60873103.08</td>\n",
       "      <td>3.51</td>\n",
       "      <td>87201907.99</td>\n",
       "      <td>5.02</td>\n",
       "      <td>75.06</td>\n",
       "      <td>74.60</td>\n",
       "      <td>74595986.00</td>\n",
       "      <td>75063150.71</td>\n",
       "      <td>4.30</td>\n",
       "      <td>4.32</td>\n",
       "    </tr>\n",
       "    <tr>\n",
       "      <th>Bahia</th>\n",
       "      <td>14930634</td>\n",
       "      <td>31.31</td>\n",
       "      <td>31314602.44</td>\n",
       "      <td>2.10</td>\n",
       "      <td>55544579.04</td>\n",
       "      <td>3.72</td>\n",
       "      <td>70325599.07</td>\n",
       "      <td>4.71</td>\n",
       "      <td>69.98</td>\n",
       "      <td>71.00</td>\n",
       "      <td>70998470.80</td>\n",
       "      <td>69982697.43</td>\n",
       "      <td>4.76</td>\n",
       "      <td>4.69</td>\n",
       "    </tr>\n",
       "    <tr>\n",
       "      <th>Paraná</th>\n",
       "      <td>11516840</td>\n",
       "      <td>43.48</td>\n",
       "      <td>43480729.07</td>\n",
       "      <td>3.78</td>\n",
       "      <td>83130175.37</td>\n",
       "      <td>7.22</td>\n",
       "      <td>106948897.53</td>\n",
       "      <td>9.29</td>\n",
       "      <td>123.91</td>\n",
       "      <td>114.78</td>\n",
       "      <td>114776571.27</td>\n",
       "      <td>123907372.22</td>\n",
       "      <td>9.97</td>\n",
       "      <td>10.76</td>\n",
       "    </tr>\n",
       "  </tbody>\n",
       "</table>\n",
       "</div>"
      ],
      "text/plain": [
       "                populacao  2021/Mar  gastos_2021/Mar  \\\n",
       "uf                                                     \n",
       "São Paulo        46289333    177.41     177408317.71   \n",
       "Minas Gerais     21292666     79.78      79780838.00   \n",
       "Rio de Janeiro   17366189     49.15      49149884.48   \n",
       "Bahia            14930634     31.31      31314602.44   \n",
       "Paraná           11516840     43.48      43480729.07   \n",
       "\n",
       "                gasto_por_habitante_2021/Mar  gastos_2021/Fev  \\\n",
       "uf                                                              \n",
       "São Paulo                               3.83     268193064.06   \n",
       "Minas Gerais                            3.75     119877417.15   \n",
       "Rio de Janeiro                          2.83      60873103.08   \n",
       "Bahia                                   2.10      55544579.04   \n",
       "Paraná                                  3.78      83130175.37   \n",
       "\n",
       "                gasto_por_habitante_2021/Fev  gastos_2021/Jan  \\\n",
       "uf                                                              \n",
       "São Paulo                               5.79     324115425.70   \n",
       "Minas Gerais                            5.63     155064483.25   \n",
       "Rio de Janeiro                          3.51      87201907.99   \n",
       "Bahia                                   3.72      70325599.07   \n",
       "Paraná                                  7.22     106948897.53   \n",
       "\n",
       "                gasto_por_habitante_2021/Jan  2019/Mar  2020/Mar  \\\n",
       "uf                                                                 \n",
       "São Paulo                               7.00    287.15    277.94   \n",
       "Minas Gerais                            7.28    151.98    147.65   \n",
       "Rio de Janeiro                          5.02     75.06     74.60   \n",
       "Bahia                                   4.71     69.98     71.00   \n",
       "Paraná                                  9.29    123.91    114.78   \n",
       "\n",
       "                gastos_2020/Mar  gastos_2019/Mar  \\\n",
       "uf                                                 \n",
       "São Paulo          277938674.53     287154994.64   \n",
       "Minas Gerais       147654942.70     151976196.81   \n",
       "Rio de Janeiro      74595986.00      75063150.71   \n",
       "Bahia               70998470.80      69982697.43   \n",
       "Paraná             114776571.27     123907372.22   \n",
       "\n",
       "                gasto_por_habitante_2020/Mar  gasto_por_habitante_2019/Mar  \n",
       "uf                                                                          \n",
       "São Paulo                               6.00                          6.20  \n",
       "Minas Gerais                            6.93                          7.14  \n",
       "Rio de Janeiro                          4.30                          4.32  \n",
       "Bahia                                   4.76                          4.69  \n",
       "Paraná                                  9.97                         10.76  "
      ]
     },
     "execution_count": 83,
     "metadata": {},
     "output_type": "execute_result"
    }
   ],
   "source": [
    "gastos_e_populacao_mar19a21['gastos_2020/Mar'] = gastos_e_populacao_mar19a21['2020/Mar']*1000000 \n",
    "gastos_e_populacao_mar19a21['gastos_2019/Mar'] = gastos_e_populacao_mar19a21['2019/Mar']*1000000 \n",
    "gastos_e_populacao_mar19a21['gasto_por_habitante_2020/Mar'] = gastos_e_populacao_mar19a21['gastos_2020/Mar'] / gastos_e_populacao_mar19a21['populacao']\n",
    "gastos_e_populacao_mar19a21['gasto_por_habitante_2019/Mar'] = gastos_e_populacao_mar19a21['gastos_2019/Mar'] / gastos_e_populacao_mar19a21['populacao']\n",
    "gastos_e_populacao_mar19a21.head()"
   ]
  },
  {
   "cell_type": "markdown",
   "metadata": {
    "tags": []
   },
   "source": [
    "##### Organizando a ordem das colunas com sort_index (só pra arrumar mesmo)"
   ]
  },
  {
   "cell_type": "code",
   "execution_count": 84,
   "metadata": {},
   "outputs": [
    {
     "data": {
      "text/html": [
       "<div>\n",
       "<style scoped>\n",
       "    .dataframe tbody tr th:only-of-type {\n",
       "        vertical-align: middle;\n",
       "    }\n",
       "\n",
       "    .dataframe tbody tr th {\n",
       "        vertical-align: top;\n",
       "    }\n",
       "\n",
       "    .dataframe thead th {\n",
       "        text-align: right;\n",
       "    }\n",
       "</style>\n",
       "<table border=\"1\" class=\"dataframe\">\n",
       "  <thead>\n",
       "    <tr style=\"text-align: right;\">\n",
       "      <th></th>\n",
       "      <th>2019/Mar</th>\n",
       "      <th>2020/Mar</th>\n",
       "      <th>2021/Mar</th>\n",
       "      <th>gasto_por_habitante_2019/Mar</th>\n",
       "      <th>gasto_por_habitante_2020/Mar</th>\n",
       "      <th>gasto_por_habitante_2021/Fev</th>\n",
       "      <th>gasto_por_habitante_2021/Jan</th>\n",
       "      <th>gasto_por_habitante_2021/Mar</th>\n",
       "      <th>gastos_2019/Mar</th>\n",
       "      <th>gastos_2020/Mar</th>\n",
       "      <th>gastos_2021/Fev</th>\n",
       "      <th>gastos_2021/Jan</th>\n",
       "      <th>gastos_2021/Mar</th>\n",
       "      <th>populacao</th>\n",
       "    </tr>\n",
       "    <tr>\n",
       "      <th>uf</th>\n",
       "      <th></th>\n",
       "      <th></th>\n",
       "      <th></th>\n",
       "      <th></th>\n",
       "      <th></th>\n",
       "      <th></th>\n",
       "      <th></th>\n",
       "      <th></th>\n",
       "      <th></th>\n",
       "      <th></th>\n",
       "      <th></th>\n",
       "      <th></th>\n",
       "      <th></th>\n",
       "      <th></th>\n",
       "    </tr>\n",
       "  </thead>\n",
       "  <tbody>\n",
       "    <tr>\n",
       "      <th>São Paulo</th>\n",
       "      <td>287.15</td>\n",
       "      <td>277.94</td>\n",
       "      <td>177.41</td>\n",
       "      <td>6.20</td>\n",
       "      <td>6.00</td>\n",
       "      <td>5.79</td>\n",
       "      <td>7.00</td>\n",
       "      <td>3.83</td>\n",
       "      <td>287154994.64</td>\n",
       "      <td>277938674.53</td>\n",
       "      <td>268193064.06</td>\n",
       "      <td>324115425.70</td>\n",
       "      <td>177408317.71</td>\n",
       "      <td>46289333</td>\n",
       "    </tr>\n",
       "    <tr>\n",
       "      <th>Minas Gerais</th>\n",
       "      <td>151.98</td>\n",
       "      <td>147.65</td>\n",
       "      <td>79.78</td>\n",
       "      <td>7.14</td>\n",
       "      <td>6.93</td>\n",
       "      <td>5.63</td>\n",
       "      <td>7.28</td>\n",
       "      <td>3.75</td>\n",
       "      <td>151976196.81</td>\n",
       "      <td>147654942.70</td>\n",
       "      <td>119877417.15</td>\n",
       "      <td>155064483.25</td>\n",
       "      <td>79780838.00</td>\n",
       "      <td>21292666</td>\n",
       "    </tr>\n",
       "    <tr>\n",
       "      <th>Rio de Janeiro</th>\n",
       "      <td>75.06</td>\n",
       "      <td>74.60</td>\n",
       "      <td>49.15</td>\n",
       "      <td>4.32</td>\n",
       "      <td>4.30</td>\n",
       "      <td>3.51</td>\n",
       "      <td>5.02</td>\n",
       "      <td>2.83</td>\n",
       "      <td>75063150.71</td>\n",
       "      <td>74595986.00</td>\n",
       "      <td>60873103.08</td>\n",
       "      <td>87201907.99</td>\n",
       "      <td>49149884.48</td>\n",
       "      <td>17366189</td>\n",
       "    </tr>\n",
       "    <tr>\n",
       "      <th>Bahia</th>\n",
       "      <td>69.98</td>\n",
       "      <td>71.00</td>\n",
       "      <td>31.31</td>\n",
       "      <td>4.69</td>\n",
       "      <td>4.76</td>\n",
       "      <td>3.72</td>\n",
       "      <td>4.71</td>\n",
       "      <td>2.10</td>\n",
       "      <td>69982697.43</td>\n",
       "      <td>70998470.80</td>\n",
       "      <td>55544579.04</td>\n",
       "      <td>70325599.07</td>\n",
       "      <td>31314602.44</td>\n",
       "      <td>14930634</td>\n",
       "    </tr>\n",
       "    <tr>\n",
       "      <th>Paraná</th>\n",
       "      <td>123.91</td>\n",
       "      <td>114.78</td>\n",
       "      <td>43.48</td>\n",
       "      <td>10.76</td>\n",
       "      <td>9.97</td>\n",
       "      <td>7.22</td>\n",
       "      <td>9.29</td>\n",
       "      <td>3.78</td>\n",
       "      <td>123907372.22</td>\n",
       "      <td>114776571.27</td>\n",
       "      <td>83130175.37</td>\n",
       "      <td>106948897.53</td>\n",
       "      <td>43480729.07</td>\n",
       "      <td>11516840</td>\n",
       "    </tr>\n",
       "  </tbody>\n",
       "</table>\n",
       "</div>"
      ],
      "text/plain": [
       "                2019/Mar  2020/Mar  2021/Mar  gasto_por_habitante_2019/Mar  \\\n",
       "uf                                                                           \n",
       "São Paulo         287.15    277.94    177.41                          6.20   \n",
       "Minas Gerais      151.98    147.65     79.78                          7.14   \n",
       "Rio de Janeiro     75.06     74.60     49.15                          4.32   \n",
       "Bahia              69.98     71.00     31.31                          4.69   \n",
       "Paraná            123.91    114.78     43.48                         10.76   \n",
       "\n",
       "                gasto_por_habitante_2020/Mar  gasto_por_habitante_2021/Fev  \\\n",
       "uf                                                                           \n",
       "São Paulo                               6.00                          5.79   \n",
       "Minas Gerais                            6.93                          5.63   \n",
       "Rio de Janeiro                          4.30                          3.51   \n",
       "Bahia                                   4.76                          3.72   \n",
       "Paraná                                  9.97                          7.22   \n",
       "\n",
       "                gasto_por_habitante_2021/Jan  gasto_por_habitante_2021/Mar  \\\n",
       "uf                                                                           \n",
       "São Paulo                               7.00                          3.83   \n",
       "Minas Gerais                            7.28                          3.75   \n",
       "Rio de Janeiro                          5.02                          2.83   \n",
       "Bahia                                   4.71                          2.10   \n",
       "Paraná                                  9.29                          3.78   \n",
       "\n",
       "                gastos_2019/Mar  gastos_2020/Mar  gastos_2021/Fev  \\\n",
       "uf                                                                  \n",
       "São Paulo          287154994.64     277938674.53     268193064.06   \n",
       "Minas Gerais       151976196.81     147654942.70     119877417.15   \n",
       "Rio de Janeiro      75063150.71      74595986.00      60873103.08   \n",
       "Bahia               69982697.43      70998470.80      55544579.04   \n",
       "Paraná             123907372.22     114776571.27      83130175.37   \n",
       "\n",
       "                gastos_2021/Jan  gastos_2021/Mar  populacao  \n",
       "uf                                                           \n",
       "São Paulo          324115425.70     177408317.71   46289333  \n",
       "Minas Gerais       155064483.25      79780838.00   21292666  \n",
       "Rio de Janeiro      87201907.99      49149884.48   17366189  \n",
       "Bahia               70325599.07      31314602.44   14930634  \n",
       "Paraná             106948897.53      43480729.07   11516840  "
      ]
     },
     "execution_count": 84,
     "metadata": {},
     "output_type": "execute_result"
    }
   ],
   "source": [
    "gastos_e_populacao_mar19a21 = gastos_e_populacao_mar19a21.sort_index (axis = 1) \n",
    "gastos_e_populacao_mar19a21.head()"
   ]
  },
  {
   "cell_type": "markdown",
   "metadata": {
    "tags": []
   },
   "source": [
    "##### Plotando com os gastos das 3 datas para comparar(com subplots):"
   ]
  },
  {
   "cell_type": "code",
   "execution_count": 85,
   "metadata": {},
   "outputs": [
    {
     "data": {
      "image/png": "[encoded data removed]",
      "text/plain": [
       "<Figure size 1200x800 with 3 Axes>"
      ]
     },
     "metadata": {},
     "output_type": "display_data"
    }
   ],
   "source": [
    "import matplotlib.pyplot as plt\n",
    "axes = gastos_e_populacao_mar19a21[['gasto_por_habitante_2019/Mar', 'gasto_por_habitante_2020/Mar', 'gasto_por_habitante_2021/Mar']].plot.bar(figsize=(12,8), subplots=True, ylim=(0,11))\n",
    "# plt.show()"
   ]
  },
  {
   "cell_type": "markdown",
   "metadata": {},
   "source": [
    "**Análise:** \n",
    "- O padrão dos Estados parece se comportar da mesma forma em mar 2019 e 2020 , no entanto o mesmo não ocorre para mar de 2021, com gastos/habitante (vide eixo Y) notavelmente menor, muitas vezes se situando em torno da metada em relação dos anos anteriores.\n",
    "- Para alguns Estados, notavelmente o Paraná, há um aparente valor muito alto para o mês de março, de maneira que o situa em primeiro lugar se considerar apenas o mês de março em 2019 e 2020. Já em 2021 o DF ficou em primeiro nesse mês específico em gastos/habitante.\n",
    "**Hipóteses:**\n",
    "- Para investigar a diminuição de gastos em mar/2021 pode-se comparar os meses seguintes e até anteriores. Caso o gasto/habitante continue menor que 2019 e parte de 2020 é sinal que um menor uso da estrutura hospitalar tenha ocorrido. Isso coincide exatamente com o isolamneto social causado pela Covid-19 que, ao menos em um primeiro momento, ocasionou uma diminuição do uso hospitalar pela população.\n",
    "- Para o Estado do Paraná e Distrito Federal, por exemplo, pode-se investigar as possibilidades de uma concentração maior de gastos serem lançados no mês de MARÇO, seja por questões processuais administrativas, ou ainda por questões de grande aumento de fluxo populacional local em virtude de férias no caso do Paraná (vide que RS e SC também tem esse aumento) ou ainda no caso de uma estrutura hospitalar maior e melhor, possivelmente com atendimento de maior valor agregado, para servir a população."
   ]
  },
  {
   "cell_type": "markdown",
   "metadata": {
    "tags": []
   },
   "source": [
    "##### Vendo o mês de **MAR/20** com Scatterplot, tanto de gastos totais quanto de gasto_por_habitante, ambos pela população:"
   ]
  },
  {
   "cell_type": "code",
   "execution_count": 86,
   "metadata": {},
   "outputs": [
    {
     "data": {
      "text/plain": [
       "<AxesSubplot:xlabel='populacao', ylabel='gastos_2020/Mar'>"
      ]
     },
     "execution_count": 86,
     "metadata": {},
     "output_type": "execute_result"
    },
    {
     "data": {
      "image/png": "[encoded data removed]",
      "text/plain": [
       "<Figure size 700x700 with 1 Axes>"
      ]
     },
     "metadata": {},
     "output_type": "display_data"
    }
   ],
   "source": [
    "plt.figure(figsize=(7,7))   # comando de tamanho do pyplot \n",
    "sns.scatterplot(data=gastos_e_populacao_mar19a21 / 1000000, x=\"populacao\", y=\"gastos_2020/Mar\")   # aqui já dividimos em milhões para normalizar as escalas"
   ]
  },
  {
   "cell_type": "code",
   "execution_count": 87,
   "metadata": {},
   "outputs": [
    {
     "data": {
      "text/plain": [
       "<AxesSubplot:xlabel='populacao', ylabel='gasto_por_habitante_2020/Mar'>"
      ]
     },
     "execution_count": 87,
     "metadata": {},
     "output_type": "execute_result"
    },
    {
     "data": {
      "image/png": "[encoded data removed]",
      "text/plain": [
       "<Figure size 700x700 with 1 Axes>"
      ]
     },
     "metadata": {},
     "output_type": "display_data"
    }
   ],
   "source": [
    "plt.figure(figsize=(7,7))\n",
    "sns.scatterplot(data=gastos_e_populacao_mar19a21, x=\"populacao\", y=\"gasto_por_habitante_2020/Mar\")"
   ]
  },
  {
   "cell_type": "markdown",
   "metadata": {},
   "source": [
    "**Análise:** \n",
    "- O padrão dos gastos_por_mes, tanto de 2021, quanto de 2020, parece se comportar da mesma forma em relação a população, com uma pequena dispersão a mais em mar/2020. Continua parecendo existir uma relação indicando uma tendencia que quanto maior a população maior é o gasto para ambas as datas. Apesar disso o gasto de MAR/20 é maior cerca de 40% em relação a MAR/21. \n",
    "- No caso do scatterplot de gasto_por_habitante com a população de MAR/20, da mesma forma que MAR/21, não tem uma aparente relação pois nenhuma tendência se desenhou. No entanto para **MAR/20 o valor de gasto/habitante (vide eixo Y) é maior (o dobro aparente) que para MAR/21.\n",
    "**Hipóteses:**\n",
    "- Para investigar a diminuição de gastos em MAR/2021 tanto de gastos totais quanto de gasto por habitante, pode-se comparar os meses seguintes e anteriores do período. Caso o gasto/habitante continue apresentando distorções no total e no específico por_habitante, é indicativo de alteração do uso da estrutura hospitalar. Isso coincide com o isolamneto social causado pela Covid-19 que ocasionou uma diminuição do uso hospitalar pela população a partir de pelo menos maio de 2020 em diante com consequente menor gasto."
   ]
  },
  {
   "cell_type": "markdown",
   "metadata": {
    "tags": []
   },
   "source": [
    "#### Desafio 03 - Aula 2: (Super Desafio Thiago) Plotar no mesmos gráficos do final da aula com outros meses (o mês anterior e o mês corrente podem permitir análise de variação do DF em variação contínua), analisar e compartilhar suas hipóteses."
   ]
  },
  {
   "cell_type": "code",
   "execution_count": 88,
   "metadata": {},
   "outputs": [
    {
     "data": {
      "text/plain": [
       "<AxesSubplot:xlabel='População', ylabel='Gastos'>"
      ]
     },
     "execution_count": 88,
     "metadata": {},
     "output_type": "execute_result"
    },
    {
     "data": {
      "image/png": "[encoded data removed]",
      "text/plain": [
       "<Figure size 700x700 with 1 Axes>"
      ]
     },
     "metadata": {},
     "output_type": "display_data"
    }
   ],
   "source": [
    "plt.figure(figsize=(7,7))   # comandos plt são do pyplot que roda por trás do seaborn\n",
    "plt.ylabel('Gastos')\n",
    "plt.xlabel('População')\n",
    "\n",
    "sns.set_style('whitegrid')\n",
    "# Essa não é a melhor forma de plotar várias séries em um gráfico, mas aqui com Seaborn, podemos fazer assim, neste momento.\n",
    "sns.scatterplot(data=gastos_e_populacao_mar19a21 / 1000000, x=\"populacao\", y=\"gastos_2021/Mar\", label='gastos_2021/Mar')\n",
    "sns.scatterplot(data=gastos_e_populacao_mar19a21 / 1000000, x=\"populacao\", y=\"gastos_2020/Mar\", label='gastos_2020/Mar')\n",
    "sns.scatterplot(data=gastos_e_populacao_mar19a21 / 1000000, x=\"populacao\", y=\"gastos_2019/Mar\", label='gastos_2019/Mar')"
   ]
  },
  {
   "cell_type": "code",
   "execution_count": 89,
   "metadata": {},
   "outputs": [
    {
     "data": {
      "text/plain": [
       "<AxesSubplot:xlabel='População', ylabel='Gasto por Habitante'>"
      ]
     },
     "execution_count": 89,
     "metadata": {},
     "output_type": "execute_result"
    },
    {
     "data": {
      "image/png": "[encoded data removed]",
      "text/plain": [
       "<Figure size 700x700 with 1 Axes>"
      ]
     },
     "metadata": {},
     "output_type": "display_data"
    }
   ],
   "source": [
    "plt.figure(figsize=(7,7))   # comandos plt são do pyplot que roda por trás do seaborn\n",
    "plt.ylabel('Gasto por Habitante')\n",
    "plt.xlabel('População')\n",
    "\n",
    "sns.set_style('whitegrid')\n",
    "sns.scatterplot(data=gastos_e_populacao_mar19a21, x=\"populacao\", y=\"gasto_por_habitante_2021/Mar\", label='gastos_2021/Mar')\n",
    "sns.scatterplot(data=gastos_e_populacao_mar19a21, x=\"populacao\", y=\"gasto_por_habitante_2020/Mar\", label='gastos_2020/Mar')\n",
    "sns.scatterplot(data=gastos_e_populacao_mar19a21, x=\"populacao\", y=\"gasto_por_habitante_2019/Mar\", label='gastos_2019/Mar')"
   ]
  },
  {
   "cell_type": "markdown",
   "metadata": {},
   "source": [
    "**Análise:** O mesmo se observa em relação aos Scatterplots do Desafio 2 acima:\n",
    "- Há aparente tendencia de crescimento dos gastos totais de acordo com o tamanho da população para os 3 períodos\n",
    "- Não há padrão aparente em gasto_por_habitante dos períodos de acordo com a população.\n",
    "- Os gastos totais e por habitantes de MAR/21 são 40 a 50% menores que os do mesmo mês de 2019 e 2020\n",
    "\n",
    "**Hipóteses:** \n",
    "- As variações de gastos totais e gasto por habitante pela população podem se relacionar a padrões e características hospitalares de cada Estado e não por total de população\n",
    "- A diminuição dos valores para MAR/2021 parece se relacionar com a pandemia de COVID-19 e o isolamento social"
   ]
  },
  {
   "cell_type": "markdown",
   "metadata": {
    "tags": []
   },
   "source": [
    "#### Desafio 04 - Aula 2: Analise os gráficos e tente chegar a hipóteses que explicam o que você está entendendo dos dados. Lembre-se que a conclusão é uma hipótese. E que esses dados serão alterados.\n",
    "***\n",
    "***"
   ]
  },
  {
   "cell_type": "markdown",
   "metadata": {},
   "source": [
    "**ANÁLISE:**<br>\n",
    "1) Há diferença de gastos por população entre os Estados.\n",
    "2) Esses gastos não obedecem a um aumento populacional. Não há padrão.\n",
    "3) Os gastos totais e por habitantes variaram tanto no mês mais recente de mar/2021 (gasto menor) em relação aos anteriores, quanto em relação ao mesmo mês de março dos anos anteriores (2019 e 2020).\n",
    "<br>\n",
    "**HIPÓTESES:**<BR>\n",
    "Há diversas hipóteses que podem se relacionar as análises acima e que podem valer maiores explorações do cientista da de dados:\n",
    "- Para o relacionado aos itens 1) e 2) acima pode ser explorado:\n",
    "    - Maior oferta de serviços hospitalatres de um Estado em relação a ouro\n",
    "    - Maior facilidade de acesso da população de Estados diferentes aos serviços de saúde e o consequente uso maior\n",
    "    - Desconcentração e melhor distribuição espacial dos equipamentos de saúde nos Estados\n",
    "    - Maior quantidade e equipamentos mais modernos disponíveis por atendimento em alguns Estados, com consequente maior valor de custo por atendimento\n",
    "    - Alguns Estados podem ter estruturas de saúde mais simples, com maior parte em ambulatórios ou atendimento básico, com consequente menor custo por atendimento\n",
    "    - Alguns Estados podem ter maior estrutura de internação e conjunto maior de equipamentos mais avançados, que podem aumentar a sobrevida em caso de internação. com consequente maior custo.\n",
    "- Para o relacionado ao item 3) acima:\n",
    "    - Há clara influencia da pandemia de Covid-19 na diminuição do uso de estruturas de saúde por conta do isolamento social e medo do contágio do vírus Sars-Cov que aumentou a partir de abril ou maio de 2020. Isso deve estar diretamente ligado ao fato do mês de Mar/2021 ter gastos menores.\n",
    "    - Ao fato do DataFrame obtido a partir de gastos por mês de internação ainda poder receber valores que muitas vezes só são lançados várias semanas depois, principalemnte para os meses de Jan-Mar de 2021"
   ]
  }
 ],
 "metadata": {
  "kernelspec": {
   "display_name": "Python 3",
   "language": "python",
   "name": "python3"
  },
  "language_info": {
   "codemirror_mode": {
    "name": "ipython",
    "version": 3
   },
   "file_extension": ".py",
   "mimetype": "text/x-python",
   "name": "python",
   "nbconvert_exporter": "python",
   "pygments_lexer": "ipython3",
   "version": "3.8.5"
  },
  "toc-autonumbering": false,
  "toc-showcode": false,
  "toc-showmarkdowntxt": false,
  "toc-showtags": false
 },
 "nbformat": 4,
 "nbformat_minor": 4
}
